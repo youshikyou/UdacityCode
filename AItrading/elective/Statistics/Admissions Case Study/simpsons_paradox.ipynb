{
 "cells": [
  {
   "cell_type": "markdown",
   "metadata": {
    "collapsed": true
   },
   "source": [
    "# Simpson's Paradox\n",
    "Use `admission_data.csv` for this exercise."
   ]
  },
  {
   "cell_type": "code",
   "execution_count": 2,
   "metadata": {
    "scrolled": true
   },
   "outputs": [
    {
     "data": {
      "text/html": [
       "<div>\n",
       "<style>\n",
       "    .dataframe thead tr:only-child th {\n",
       "        text-align: right;\n",
       "    }\n",
       "\n",
       "    .dataframe thead th {\n",
       "        text-align: left;\n",
       "    }\n",
       "\n",
       "    .dataframe tbody tr th {\n",
       "        vertical-align: top;\n",
       "    }\n",
       "</style>\n",
       "<table border=\"1\" class=\"dataframe\">\n",
       "  <thead>\n",
       "    <tr style=\"text-align: right;\">\n",
       "      <th></th>\n",
       "      <th>student_id</th>\n",
       "      <th>gender</th>\n",
       "      <th>major</th>\n",
       "      <th>admitted</th>\n",
       "    </tr>\n",
       "  </thead>\n",
       "  <tbody>\n",
       "    <tr>\n",
       "      <th>0</th>\n",
       "      <td>35377</td>\n",
       "      <td>female</td>\n",
       "      <td>Chemistry</td>\n",
       "      <td>False</td>\n",
       "    </tr>\n",
       "    <tr>\n",
       "      <th>1</th>\n",
       "      <td>56105</td>\n",
       "      <td>male</td>\n",
       "      <td>Physics</td>\n",
       "      <td>True</td>\n",
       "    </tr>\n",
       "    <tr>\n",
       "      <th>2</th>\n",
       "      <td>31441</td>\n",
       "      <td>female</td>\n",
       "      <td>Chemistry</td>\n",
       "      <td>False</td>\n",
       "    </tr>\n",
       "    <tr>\n",
       "      <th>3</th>\n",
       "      <td>51765</td>\n",
       "      <td>male</td>\n",
       "      <td>Physics</td>\n",
       "      <td>True</td>\n",
       "    </tr>\n",
       "    <tr>\n",
       "      <th>4</th>\n",
       "      <td>53714</td>\n",
       "      <td>female</td>\n",
       "      <td>Physics</td>\n",
       "      <td>True</td>\n",
       "    </tr>\n",
       "  </tbody>\n",
       "</table>\n",
       "</div>"
      ],
      "text/plain": [
       "   student_id  gender      major  admitted\n",
       "0       35377  female  Chemistry     False\n",
       "1       56105    male    Physics      True\n",
       "2       31441  female  Chemistry     False\n",
       "3       51765    male    Physics      True\n",
       "4       53714  female    Physics      True"
      ]
     },
     "execution_count": 2,
     "metadata": {},
     "output_type": "execute_result"
    }
   ],
   "source": [
    "# Load and view first few lines of dataset\n",
    "import pandas as pd\n",
    "df = pd.read_csv('admission_data.csv')\n",
    "df.head()"
   ]
  },
  {
   "cell_type": "markdown",
   "metadata": {},
   "source": [
    "### Proportion and admission rate for each gender"
   ]
  },
  {
   "cell_type": "code",
   "execution_count": 29,
   "metadata": {},
   "outputs": [
    {
     "name": "stdout",
     "output_type": "stream",
     "text": [
      "{'female': 257, 'male': 243}\n"
     ]
    }
   ],
   "source": [
    "# Proportion of students that are female\n",
    "def get_counts(sequence):\n",
    "    counts={}\n",
    "    for x in sequence:\n",
    "        if x in counts:\n",
    "            counts[x]+=1\n",
    "        else:\n",
    "            counts[x]=1\n",
    "    return counts\n",
    "print(get_counts(df['gender']))"
   ]
  },
  {
   "cell_type": "code",
   "execution_count": 30,
   "metadata": {},
   "outputs": [
    {
     "name": "stdout",
     "output_type": "stream",
     "text": [
      "0.486\n"
     ]
    }
   ],
   "source": [
    "# Proportion of students that are male\n",
    "print(243/(257+243))"
   ]
  },
  {
   "cell_type": "code",
   "execution_count": 61,
   "metadata": {},
   "outputs": [
    {
     "name": "stdout",
     "output_type": "stream",
     "text": [
      "     student_id  gender      major  admitted\n",
      "0         35377  female  Chemistry     False\n",
      "2         31441  female  Chemistry     False\n",
      "4         53714  female    Physics      True\n",
      "5         50693  female  Chemistry     False\n",
      "7         27648  female  Chemistry      True\n",
      "11        53708  female  Chemistry      True\n",
      "14        37705  female  Chemistry     False\n",
      "16        42150  female  Chemistry     False\n",
      "17        55079  female  Chemistry     False\n",
      "20        50973  female  Chemistry     False\n",
      "21        54260  female  Chemistry     False\n",
      "25        25386  female  Chemistry     False\n",
      "26        24504  female  Chemistry     False\n",
      "28        55249  female  Chemistry      True\n",
      "29        55693  female  Chemistry     False\n",
      "31        44166  female  Chemistry     False\n",
      "33        27269  female  Chemistry     False\n",
      "35        52702  female  Chemistry     False\n",
      "36        56067  female  Chemistry     False\n",
      "39        55796  female  Chemistry     False\n",
      "41        47822  female  Chemistry     False\n",
      "42        35503  female  Chemistry     False\n",
      "43        25976  female  Chemistry     False\n",
      "47        54442  female    Physics      True\n",
      "48        36338  female  Chemistry     False\n",
      "50        38097  female  Chemistry     False\n",
      "52        35680  female  Chemistry     False\n",
      "53        27097  female  Chemistry      True\n",
      "56        52775  female  Chemistry     False\n",
      "59        27446  female    Physics      True\n",
      "..          ...     ...        ...       ...\n",
      "446       51903  female  Chemistry     False\n",
      "447       46887  female  Chemistry     False\n",
      "448       32756  female  Chemistry      True\n",
      "451       55891  female  Chemistry     False\n",
      "455       37028  female  Chemistry     False\n",
      "456       51996  female  Chemistry     False\n",
      "457       58298  female  Chemistry      True\n",
      "458       41461  female  Chemistry     False\n",
      "459       42761  female    Physics      True\n",
      "462       54742  female  Chemistry     False\n",
      "463       52855  female  Chemistry      True\n",
      "464       37877  female  Chemistry     False\n",
      "466       28447  female  Chemistry     False\n",
      "469       36345  female  Chemistry     False\n",
      "471       50827  female  Chemistry     False\n",
      "472       55498  female  Chemistry      True\n",
      "474       34940  female    Physics      True\n",
      "475       38762  female    Physics      True\n",
      "476       45715  female  Chemistry      True\n",
      "477       34307  female  Chemistry     False\n",
      "479       29922  female  Chemistry     False\n",
      "482       47309  female  Chemistry     False\n",
      "487       43775  female  Chemistry     False\n",
      "488       33713  female  Chemistry      True\n",
      "490       29553  female    Physics     False\n",
      "492       26737  female  Chemistry     False\n",
      "493       56006  female    Physics      True\n",
      "494       30192  female  Chemistry      True\n",
      "496       25775  female  Chemistry      True\n",
      "497       47243  female  Chemistry      True\n",
      "\n",
      "[257 rows x 4 columns]\n"
     ]
    }
   ],
   "source": [
    "# Admission rate for females\n",
    "female=df.loc[df['gender'].str.contains('female')]\n",
    "print(female)"
   ]
  },
  {
   "cell_type": "code",
   "execution_count": 57,
   "metadata": {},
   "outputs": [
    {
     "name": "stdout",
     "output_type": "stream",
     "text": [
      "{False: 183, True: 74}\n"
     ]
    }
   ],
   "source": [
    "# Admission rate for males\n",
    "def get_counts(sequence):\n",
    "    counts={}\n",
    "    for x in sequence:\n",
    "        if x in counts:\n",
    "            counts[x]+=1\n",
    "        else:\n",
    "            counts[x]=1\n",
    "    return counts\n",
    "print(get_counts(female['admitted']))"
   ]
  },
  {
   "cell_type": "markdown",
   "metadata": {},
   "source": [
    "### Proportion and admission rate for physics majors of each gender"
   ]
  },
  {
   "cell_type": "code",
   "execution_count": null,
   "metadata": {
    "collapsed": true
   },
   "outputs": [],
   "source": [
    "# What proportion of female students are majoring in physics?\n"
   ]
  },
  {
   "cell_type": "code",
   "execution_count": null,
   "metadata": {
    "collapsed": true
   },
   "outputs": [],
   "source": [
    "# What proportion of male students are majoring in physics?\n"
   ]
  },
  {
   "cell_type": "code",
   "execution_count": null,
   "metadata": {
    "collapsed": true
   },
   "outputs": [],
   "source": [
    "# Admission rate for female physics majors\n"
   ]
  },
  {
   "cell_type": "code",
   "execution_count": null,
   "metadata": {
    "collapsed": true
   },
   "outputs": [],
   "source": [
    "# Admission rate for male physics majors\n"
   ]
  },
  {
   "cell_type": "markdown",
   "metadata": {},
   "source": [
    "### Proportion and admission rate for chemistry majors of each gender"
   ]
  },
  {
   "cell_type": "code",
   "execution_count": null,
   "metadata": {
    "collapsed": true
   },
   "outputs": [],
   "source": [
    "# What proportion of female students are majoring in chemistry?\n"
   ]
  },
  {
   "cell_type": "code",
   "execution_count": null,
   "metadata": {
    "collapsed": true
   },
   "outputs": [],
   "source": [
    "# What proportion of male students are majoring in chemistry?\n"
   ]
  },
  {
   "cell_type": "code",
   "execution_count": null,
   "metadata": {
    "collapsed": true
   },
   "outputs": [],
   "source": [
    "# Admission rate for female chemistry majors\n"
   ]
  },
  {
   "cell_type": "code",
   "execution_count": null,
   "metadata": {
    "collapsed": true
   },
   "outputs": [],
   "source": [
    "# Admission rate for male chemistry majors\n"
   ]
  },
  {
   "cell_type": "markdown",
   "metadata": {},
   "source": [
    "### Admission rate for each major"
   ]
  },
  {
   "cell_type": "code",
   "execution_count": null,
   "metadata": {
    "collapsed": true
   },
   "outputs": [],
   "source": [
    "# Admission rate for physics majors\n"
   ]
  },
  {
   "cell_type": "code",
   "execution_count": null,
   "metadata": {
    "collapsed": true
   },
   "outputs": [],
   "source": [
    "# Admission rate for chemistry majors\n"
   ]
  }
 ],
 "metadata": {
  "kernelspec": {
   "display_name": "Python 3",
   "language": "python",
   "name": "python3"
  },
  "language_info": {
   "codemirror_mode": {
    "name": "ipython",
    "version": 3
   },
   "file_extension": ".py",
   "mimetype": "text/x-python",
   "name": "python",
   "nbconvert_exporter": "python",
   "pygments_lexer": "ipython3",
   "version": "3.6.3"
  }
 },
 "nbformat": 4,
 "nbformat_minor": 2
}
