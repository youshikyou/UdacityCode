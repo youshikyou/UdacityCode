{
 "cells": [
  {
   "cell_type": "markdown",
   "metadata": {},
   "source": [
    "# Variations on Binary Search \n",
    "## 1.找出第一個出現的item (Find first)\n",
    "## 2.item有沒有在array裡 (Contains?)\n",
    "\n",
    "Now that you've gone through the work of building a binary search function, let's take some time to try out a few exercises that are variations (or extensions) of binary search. We'll provide the function for you to start:"
   ]
  },
  {
   "cell_type": "code",
   "execution_count": 11,
   "metadata": {},
   "outputs": [],
   "source": [
    "#my vesrion\n",
    "def recursive_binary_search(target, arr, low=0,hig=-1):\n",
    "    \n",
    "    if hig==-1:\n",
    "        hig = len(arr)-1\n",
    "    \n",
    "    if low > hig:\n",
    "        return -1\n",
    "    mid = (low+hig) // 2\n",
    "    \n",
    "    if arr[mid] == target:\n",
    "        return mid\n",
    "    elif arr[mid] < target:#right\n",
    "        return recursive_binary_search(target, arr, mid+1,hig)\n",
    "    else:#looking for left\n",
    "        return recursive_binary_search(target, arr, low,mid-1)\n",
    "    \n",
    "'''\n",
    "def recursive_binary_search(target, source, left=0):\n",
    "    if len(source) == 0:\n",
    "        return None\n",
    "    center = (len(source)-1) // 2\n",
    "    if source[center] == target:\n",
    "        return center + left\n",
    "    elif source[center] < target:\n",
    "        return recursive_binary_search(target, source[center+1:], left+center+1)\n",
    "    else:\n",
    "        return recursive_binary_search(target, source[:center], left)\n",
    "''';"
   ]
  },
  {
   "cell_type": "markdown",
   "metadata": {},
   "source": [
    "## Case1:Find First\n",
    "\n",
    "The binary search function is guaranteed to return _an_ index for the element you're looking for in an array, but what if the element appears more than once?\n",
    "\n",
    "Consider this array:\n",
    "\n",
    "`[1, 3, 5, 7, 7, 7, 8, 11, 12]`\n",
    "\n",
    "Let's find the number 7:"
   ]
  },
  {
   "cell_type": "code",
   "execution_count": 12,
   "metadata": {},
   "outputs": [
    {
     "data": {
      "text/plain": [
       "4"
      ]
     },
     "execution_count": 12,
     "metadata": {},
     "output_type": "execute_result"
    }
   ],
   "source": [
    "multiple = [1, 3, 5, 7, 7, 7, 8, 11, 12]\n",
    "recursive_binary_search(7, multiple)"
   ]
  },
  {
   "cell_type": "markdown",
   "metadata": {},
   "source": [
    "### Hmm...\n",
    "\n",
    "Looks like we got the index 4, which is _correct_, but what if we wanted to find the _first_ occurrence of an element, rather than just any occurrence?\n",
    "\n",
    "Write a new function: `find_first()` that uses binary_search as a starting point.\n",
    "\n",
    "> Hint: You shouldn't need to modify binary_search() at all."
   ]
  },
  {
   "cell_type": "code",
   "execution_count": 28,
   "metadata": {},
   "outputs": [
    {
     "name": "stdout",
     "output_type": "stream",
     "text": [
      "3\n",
      "None\n",
      "7\n",
      "0\n",
      "10\n"
     ]
    }
   ],
   "source": [
    "import copy\n",
    "#my version: pass\n",
    "'''\n",
    "    我的想法比較簡單, 找到的item 就刪掉, 再把刪掉後的array 重新BS 一次, 再刪掉\n",
    "    只記錄下最小的index\n",
    "    \n",
    "    但這樣要做很多次 BS , x次logn,x 是target value重複的次數, \n",
    "    還是比solution 慢的\n",
    "\n",
    "'''\n",
    "def find_first(target, arr):\n",
    "    \n",
    "    source = copy.deepcopy(arr)\n",
    "    \n",
    "    if len(source)==0:\n",
    "        return -1\n",
    "    \n",
    "    minidx = 9999999\n",
    "    findidx = 1#inital is found\n",
    "    while findidx >0:\n",
    "        findidx = recursive_binary_search(target, source)\n",
    "        if findidx >= 0:\n",
    "            del source[findidx]\n",
    "            minidx = min(minidx,findidx)\n",
    "        else:\n",
    "            break\n",
    "    \n",
    "    if minidx == 9999999:\n",
    "        return None\n",
    "    return minidx\n",
    "\n",
    "multiple = [3, 3, 5, 7, 7, 7, 8, 11, 12, 13, 15, 15]\n",
    "print(find_first(7, multiple)) # Should return 3\n",
    "print(find_first(9, multiple)) # Should return None\n",
    "print(find_first(11, multiple)) # Should return None\n",
    "print(find_first(3, multiple)) # Should return None\n",
    "print(find_first(15, multiple)) # Should return None\n",
    "\n",
    "## Add your own tests to verify that your code works!"
   ]
  },
  {
   "cell_type": "code",
   "execution_count": 33,
   "metadata": {},
   "outputs": [
    {
     "name": "stdout",
     "output_type": "stream",
     "text": [
      "3\n",
      "None\n",
      "7\n",
      "0\n",
      "10\n"
     ]
    }
   ],
   "source": [
    "#solution 練習\n",
    "def find_first(target, source):\n",
    "    findidx = recursive_binary_search(target, source)\n",
    "    #print(findidx)\n",
    "\n",
    "    #一定是最小了\n",
    "    if findidx == 0:\n",
    "        return findidx\n",
    "        \n",
    "        \n",
    "    #接著往左邊一路找最小idx\n",
    "    \n",
    "    while findidx >=0:\n",
    "        \n",
    "        if source[findidx]==target:\n",
    "            findidx -=1#move left\n",
    "        \n",
    "        else:\n",
    "            #如果find這次不是target了, 那前一次就是最小idx\n",
    "            return findidx +1\n",
    "            \n",
    "    \n",
    "    \n",
    "    \n",
    "    \n",
    "multiple = [3, 3, 5, 7, 7, 7, 8, 11, 12, 13, 15, 15]\n",
    "print(find_first(7, multiple)) # Should return 3\n",
    "print(find_first(9, multiple)) # Should return None\n",
    "print(find_first(11, multiple)) # Should return 7\n",
    "print(find_first(3, multiple)) # Should return None\n",
    "print(find_first(15, multiple)) # Should return 10"
   ]
  },
  {
   "cell_type": "markdown",
   "metadata": {},
   "source": [
    "## Spoiler - Solution below:\n",
    "\n",
    "solution 的想法是, 因為binary search 找到的值, 可能是 mid//2 一下就找到的,\n",
    "但是因為 \"原本array是sorted\", 所以跟target一樣的值一定在他的左邊或是右邊\n",
    "連續著, 題目要找最早出現, 也就是idx 最小的, 因此只要往左看即可, 當然如果已經到\n",
    "idx =0 , 就直接是最小了\n",
    "\n",
    "\n",
    "Here's what we came up with! You're answer might be a little different.\n",
    "\n",
    "```python\n",
    "def find_first(target, source):\n",
    "    index = recursive_binary_search(target, source)\n",
    "    if not index:\n",
    "        return None\n",
    "    while source[index] == target:\n",
    "        if index == 0:\n",
    "            return 0\n",
    "        if source[index-1] == target:\n",
    "            index -= 1\n",
    "        else:\n",
    "            return index\n",
    "```"
   ]
  },
  {
   "cell_type": "code",
   "execution_count": null,
   "metadata": {},
   "outputs": [],
   "source": [
    "def find_first(target, source):\n",
    "    index = recursive_binary_search(target, source)\n",
    "    if not index:\n",
    "        return None\n",
    "    while source[index] == target:\n",
    "        if index == 0:\n",
    "            return 0\n",
    "        if source[index-1] == target:\n",
    "            index -= 1\n",
    "        else:\n",
    "            return index\n",
    "\n",
    "multiple = [1, 3, 5, 7, 7, 7, 8, 11, 12, 13, 14, 15]\n",
    "print(find_first(7, multiple)) # Should return 3\n",
    "print(find_first(9, multiple)) # Should return None\n"
   ]
  },
  {
   "cell_type": "markdown",
   "metadata": {},
   "source": [
    "## Case2:Contains\n",
    "\n",
    "The second variation is a function that returns a boolean value indicating whether an element is _present_, but with no information about the location of that element.\n",
    "\n",
    "For example:\n",
    "\n",
    "```python\n",
    "letters = ['a', 'c', 'd', 'f', 'g']\n",
    "print(contains('a', letters)) ## True\n",
    "print(contains('b', letters)) ## False\n",
    "```\n",
    "\n",
    "There are a few different ways to approach this, so try it out, and we'll share two solutions after."
   ]
  },
  {
   "cell_type": "code",
   "execution_count": 34,
   "metadata": {},
   "outputs": [
    {
     "name": "stdout",
     "output_type": "stream",
     "text": [
      "True\n",
      "False\n"
     ]
    }
   ],
   "source": [
    "def contains(target, source):\n",
    "    findidx = recursive_binary_search(target, source)\n",
    "    if findidx >=0:\n",
    "        return True\n",
    "    return False\n",
    "\n",
    "\n",
    "letters = ['a', 'c', 'd', 'f', 'g']\n",
    "print(contains('a', letters)) ## True\n",
    "print(contains('b', letters)) ## False"
   ]
  },
  {
   "cell_type": "markdown",
   "metadata": {},
   "source": [
    "## Spoiler - Solution below:\n",
    "\n",
    "Here are two solutions we came up with:\n",
    "\n",
    "One option is just to wrap binary search:\n",
    "\n",
    "```python\n",
    "def contains(target, source):\n",
    "    return recursive_binary_search(target, source) is not None\n",
    "```\n",
    "\n",
    "Another choice is to build a simpler binary search directly into the function:\n",
    "\n",
    "```python\n",
    "def contains(target, source):\n",
    "    # Since we don't need to keep track of the index, we can remove the `left` parameter.\n",
    "    if len(source) == 0:\n",
    "        return False\n",
    "    center = (len(source)-1) // 2\n",
    "    if source[center] == target:\n",
    "        return True\n",
    "    elif source[center] < target:\n",
    "        return contains(target, source[center+1:])\n",
    "    else:\n",
    "        return contains(target, source[:center])\n",
    "```\n",
    "\n",
    "Try these functions out below:"
   ]
  },
  {
   "cell_type": "code",
   "execution_count": null,
   "metadata": {},
   "outputs": [],
   "source": [
    "# Loose wrapper for recursive binary search, returning True if the index is found and False if not\n",
    "def contains(target, source):\n",
    "    return recursive_binary_search(target, source) is not None\n",
    "\n",
    "letters = ['a', 'c', 'd', 'f', 'g']\n",
    "print(contains('a', letters)) ## True\n",
    "print(contains('b', letters)) ## False\n",
    "\n"
   ]
  },
  {
   "cell_type": "code",
   "execution_count": null,
   "metadata": {},
   "outputs": [],
   "source": [
    "# Native implementation of binary search in the `contains` function.\n",
    "#這個只是重新做一次BS, 一樣的東西, 會最上面第一個BS就夠了\n",
    "def contains(target, source):\n",
    "    if len(source) == 0:\n",
    "        return False\n",
    "    center = (len(source)-1) // 2\n",
    "    if source[center] == target:\n",
    "        return True\n",
    "    elif source[center] < target:\n",
    "        return contains(target, source[center+1:])\n",
    "    else:\n",
    "        return contains(target, source[:center])\n",
    "\n",
    "letters = ['a', 'c', 'd', 'f', 'g']\n",
    "print(contains('c', letters)) ## True\n",
    "print(contains('b', letters)) ## False\n",
    "\n"
   ]
  },
  {
   "cell_type": "markdown",
   "metadata": {},
   "source": [
    "## Awesome work!"
   ]
  },
  {
   "cell_type": "code",
   "execution_count": null,
   "metadata": {},
   "outputs": [],
   "source": []
  }
 ],
 "metadata": {
  "kernelspec": {
   "display_name": "Python 3",
   "language": "python",
   "name": "python3"
  },
  "language_info": {
   "codemirror_mode": {
    "name": "ipython",
    "version": 3
   },
   "file_extension": ".py",
   "mimetype": "text/x-python",
   "name": "python",
   "nbconvert_exporter": "python",
   "pygments_lexer": "ipython3",
   "version": "3.6.3"
  }
 },
 "nbformat": 4,
 "nbformat_minor": 2
}
