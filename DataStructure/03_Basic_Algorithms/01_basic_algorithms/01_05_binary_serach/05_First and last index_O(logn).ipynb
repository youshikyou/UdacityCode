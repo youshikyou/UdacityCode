{
 "cells": [
  {
   "cell_type": "markdown",
   "metadata": {
    "graffitiCellId": "id_pr3r54a"
   },
   "source": [
    "## Problem statement\n",
    "\n",
    "Given a sorted array that may have duplicate values, use *binary search* to find the **first** and **last** indexes of a given value.\n",
    "\n",
    "For example, if you have the array `[0, 1, 2, 2, 3, 3, 3, 4, 5, 6]` and the given value is `3`, the answer will be `[4, 6]` (because the value `3` occurs first at index `4` and last at index `6` in the array).\n",
    "\n",
    "The expected complexity of the problem is $O(log(n))$."
   ]
  },
  {
   "cell_type": "code",
   "execution_count": 13,
   "metadata": {
    "graffitiCellId": "id_stslkm6"
   },
   "outputs": [
    {
     "name": "stdout",
     "output_type": "stream",
     "text": [
      "arr: [0, 1, 2, 2, 3, 3, 3, 4, 5, 6] mid: 4\n",
      "find target, mid: 4\n",
      "arr: [0, 1, 2, 2] mid: 1\n",
      "arr: [2, 2] mid: 2\n",
      "arr: [2] mid: 3\n",
      "hit base case,return -1\n",
      "[4, 6]\n"
     ]
    }
   ],
   "source": [
    "#############################################\n",
    "# binary search 再第一次找到後,強迫往左半再找\n",
    "#############################################\n",
    "def bs_left_helper(target,arr,low,hig):\n",
    "    \n",
    "    \n",
    "    if low > hig:\n",
    "        print('hit base case,return -1')\n",
    "        return -1\n",
    "    \n",
    "    mid = low +(hig-low)//2\n",
    "    print('arr:',arr[low:hig+1],'mid:',mid)\n",
    "\n",
    "    \n",
    "    #幾本上就是標準BS, 差在find 時候, 以前直接停了retrun, 這次繼續分割call下去\n",
    "    \n",
    "    if arr[mid] < target:#checking right\n",
    "        return bs_left_helper(target,arr,mid+1,hig)\n",
    "    \n",
    "    elif arr[mid] > target:\n",
    "        return bs_left_helper(target,arr,low,mid-1)\n",
    "\n",
    "    elif arr[mid] == target:\n",
    "        \n",
    "        #以前直接return mid, 現在要繼續分析左邊的arr, 因為有可能最小的還在裡面\n",
    "        # ex: [0, 1, 2, 2, 3, '3', 3, 4, 5, 6], 假設你第一次就找到 arr[5]='3',\n",
    "        # 以前找到就直接return idx 5, 但是還有一個3的可能在左邊 [0, 1, 2, 2, 3, ....\n",
    "        # 所以這個 bs_left_helper 的任務就是繼續recursive 往左找, 直到找不到\n",
    "        # 並且在這個過程中把min idx 記錄下來\n",
    "        print('find target, mid:',mid)\n",
    "        findidx = bs_left_helper(target,arr,low,mid-1)#繼續往左找\n",
    "        \n",
    "        if findidx == -1:#這次找不到了, 表示上次的mid就是最小\n",
    "            smallestidx = mid\n",
    "        else:\n",
    "            #持續找到, ex: [0, 1, 2, 2, 3, ...., indx = 4\n",
    "            smallestidx = findidx#這條就是一般的BS,找到就return idx\n",
    "            \n",
    "        return smallestidx\n",
    "        \n",
    "        \n",
    "        \n",
    "#############################################\n",
    "# binary search 再第一次找到後,強迫往右半再找\n",
    "#############################################\n",
    "def bs_right_helper(target,arr,low,hig):\n",
    "\n",
    "    \n",
    "    if low > hig:\n",
    "        return -1\n",
    "    \n",
    "    mid = low +(hig-low)//2\n",
    "    \n",
    "    \n",
    "    if arr[mid] < target:\n",
    "        return bs_right_helper(target,arr,mid+1,hig)\n",
    "    elif arr[mid] > target:\n",
    "        return bs_right_helper(target,arr,low,mid-1)\n",
    "    elif arr[mid] == target:\n",
    "        \n",
    "        #找到mid = target , 但為了找最大index, 右半當作新的開始,再找\n",
    "        findidx = bs_right_helper(target,arr,mid+1,hig)\n",
    "        \n",
    "        if findidx == -1:\n",
    "            return mid#上面再往右找不到, 那就是這次mid 已經最右了\n",
    "        \n",
    "        else:\n",
    "            return findidx#如果往右還找得到, 那這個findidx 會是\n",
    "                            #一連串 recursive 給上來最右邊的 idx\n",
    "                            #也就是會是某人 == -1 ,回上來的mid\n",
    "        \n",
    "        \n",
    "        \n",
    "\n",
    "    \n",
    "    \n",
    "    \n",
    "\n",
    "#############################################\n",
    "# binary search 往左找 logn/2, 往右花 log n/2\n",
    "# 總共還是 logn\n",
    "#############################################\n",
    "def first_and_last_index(arr, target):\n",
    "    \"\"\"\n",
    "    Given a sorted array that may have duplicate values, use binary \n",
    "    search to find the first and last indexes of a given value.\n",
    "\n",
    "    Args:\n",
    "        arr(list): Sorted array (or Python list) that may have duplicate values\n",
    "        number(int): Value to search for in the array\n",
    "    Returns:\n",
    "        a list containing the first and last indexes of the given value\n",
    "    \"\"\"\n",
    "        \n",
    "    # TODO: Write your first_and_last function here\n",
    "    # Note that you may want to write helper functions to find the start \n",
    "    # index and the end index\n",
    "    \n",
    "    leftidx = bs_left_helper(target,arr,0,len(arr)-1)\n",
    "    rightidx = bs_right_helper(target,arr,0,len(arr)-1)\n",
    "\n",
    "    return [leftidx,rightidx]\n",
    "\n",
    "\n",
    "arr = [0, 1, 2, 2, 3, 3, 3, 4, 5, 6]\n",
    "target = 3\n",
    "print(first_and_last_index(arr, target))"
   ]
  },
  {
   "cell_type": "code",
   "execution_count": null,
   "metadata": {
    "graffitiCellId": "id_fkngaks"
   },
   "outputs": [],
   "source": [
    "def first_and_last_index(arr, number):\n",
    "    # search first occurence\n",
    "    first_index = find_start_index(arr, number, 0, len(arr) - 1)\n",
    "    \n",
    "    # search last occurence\n",
    "    last_index =  find_end_index(arr, number, 0, len(arr) - 1)\n",
    "    return [first_index, last_index]\n",
    "\n",
    "\n",
    "def find_start_index(arr, number, start_index, end_index):\n",
    "    # binary search solution to search for the first index of the array\n",
    "    if start_index > end_index:\n",
    "        return -1\n",
    "\n",
    "    mid_index = start_index + (end_index - start_index)//2\n",
    "\n",
    "    if arr[mid_index] == number:\n",
    "        #往左重做一次\n",
    "        current_start_pos = find_start_index(arr, number, start_index, mid_index - 1)\n",
    "        if current_start_pos != -1:\n",
    "            start_pos = current_start_pos\n",
    "        else:\n",
    "            start_pos = mid_index\n",
    "        return start_pos\n",
    "\n",
    "    elif arr[mid_index] < number:\n",
    "        return find_start_index(arr, number, mid_index + 1, end_index)\n",
    "    else:\n",
    "        return find_start_index(arr, number, start_index, mid_index - 1)\n",
    "\n",
    "\n",
    "def find_end_index(arr, number, start_index, end_index):\n",
    "    # binary search solution to search for the last index of the array\n",
    "    if start_index > end_index:\n",
    "        return  -1\n",
    "\n",
    "    mid_index = start_index + (end_index - start_index)//2\n",
    "\n",
    "    if arr[mid_index] == number:\n",
    "        current_end_pos = find_end_index(arr, number, mid_index + 1, end_index)\n",
    "        if current_end_pos != -1:\n",
    "            end_pos = current_end_pos\n",
    "        else:\n",
    "            end_pos = mid_index\n",
    "        return end_pos\n",
    "    elif arr[mid_index] < number:\n",
    "        return find_end_index(arr, number, mid_index + 1, end_index)\n",
    "    else:\n",
    "        return find_end_index(arr, number, start_index, mid_index - 1)\n"
   ]
  },
  {
   "cell_type": "markdown",
   "metadata": {
    "graffitiCellId": "id_y3lxp1x"
   },
   "source": [
    "<span class=\"graffiti-highlight graffiti-id_y3lxp1x-id_fkngaks\"><i></i><button>Show Solution</button></span>"
   ]
  },
  {
   "cell_type": "markdown",
   "metadata": {
    "graffitiCellId": "id_ii2o0tq"
   },
   "source": [
    "Below are several different test cases you can use to check your solution."
   ]
  },
  {
   "cell_type": "code",
   "execution_count": 2,
   "metadata": {
    "graffitiCellId": "id_a8bxvyg"
   },
   "outputs": [],
   "source": [
    "def test_function(test_case):\n",
    "    input_list = test_case[0]\n",
    "    number = test_case[1]\n",
    "    solution = test_case[2]\n",
    "    output = first_and_last_index(input_list, number)\n",
    "    if output == solution:\n",
    "        print(\"Pass\")\n",
    "    else:\n",
    "        print(\"Fail\")"
   ]
  },
  {
   "cell_type": "code",
   "execution_count": null,
   "metadata": {
    "graffitiCellId": "id_20phd4q"
   },
   "outputs": [],
   "source": [
    "input_list = [1]\n",
    "number = 1\n",
    "solution = [0, 0]\n",
    "test_case_1 = [input_list, number, solution]\n",
    "test_function(test_case_1)"
   ]
  },
  {
   "cell_type": "code",
   "execution_count": null,
   "metadata": {
    "graffitiCellId": "id_9p3166p"
   },
   "outputs": [],
   "source": [
    "input_list = [0, 1, 2, 3, 3, 3, 3, 4, 5, 6]\n",
    "number = 3\n",
    "solution = [3, 6]\n",
    "test_case_2 = [input_list, number, solution]\n",
    "test_function(test_case_2)"
   ]
  },
  {
   "cell_type": "code",
   "execution_count": null,
   "metadata": {
    "graffitiCellId": "id_pcvcepp"
   },
   "outputs": [],
   "source": [
    "input_list = [0, 1, 2, 3, 4, 5]\n",
    "number = 5\n",
    "solution = [5, 5]\n",
    "test_case_3 = [input_list, number, solution]\n",
    "test_function(test_case_3)"
   ]
  },
  {
   "cell_type": "code",
   "execution_count": null,
   "metadata": {
    "graffitiCellId": "id_cz075rp"
   },
   "outputs": [],
   "source": [
    "input_list = [0, 1, 2, 3, 4, 5]\n",
    "number = 6\n",
    "solution = [-1, -1]\n",
    "test_case_4 = [input_list, number, solution]\n",
    "test_function(test_case_4)"
   ]
  }
 ],
 "metadata": {
  "graffiti": {
   "firstAuthorId": "dev",
   "id": "id_qwr7xir",
   "language": "EN"
  },
  "kernelspec": {
   "display_name": "Python 3",
   "language": "python",
   "name": "python3"
  },
  "language_info": {
   "codemirror_mode": {
    "name": "ipython",
    "version": 3
   },
   "file_extension": ".py",
   "mimetype": "text/x-python",
   "name": "python",
   "nbconvert_exporter": "python",
   "pygments_lexer": "ipython3",
   "version": "3.6.3"
  }
 },
 "nbformat": 4,
 "nbformat_minor": 2
}
