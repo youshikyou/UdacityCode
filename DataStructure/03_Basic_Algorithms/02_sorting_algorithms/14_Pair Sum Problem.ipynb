{
 "cells": [
  {
   "cell_type": "markdown",
   "metadata": {
    "graffitiCellId": "id_chbughc"
   },
   "source": [
    "## Problem Statement\n",
    "\n",
    "Given an input array and a target value (integer), find two values in the array whose sum is equal to the target value. Solve the problem without using extra space. You can assume the array has unique values and will never have more than one solution."
   ]
  },
  {
   "cell_type": "code",
   "execution_count": 9,
   "metadata": {
    "graffitiCellId": "id_9rkom1w"
   },
   "outputs": [
    {
     "name": "stdout",
     "output_type": "stream",
     "text": [
      "[2, 7, 11, 15]\n"
     ]
    },
    {
     "data": {
      "text/plain": [
       "[2, 7]"
      ]
     },
     "execution_count": 9,
     "metadata": {},
     "output_type": "execute_result"
    }
   ],
   "source": [
    "# 題目是 two sum, 但不准用extra space\n",
    "# 第一次就想對了, 頭尾往中間靠, 但漏想了sum 比 target 大要把其中一個pointer 往小的移, \n",
    "# 因為已經是 sorted array, 這樣成立\n",
    "def pair_sum(arr, target):\n",
    "    \"\"\"\n",
    "    :param: arr - input array\n",
    "    :param: target - target value\n",
    "    TODO: complete this method to find two numbers such that their sum is equal to the target\n",
    "    Return the two numbers in the form of a sorted list\n",
    "    \"\"\"\n",
    "    # 想到 in-place 就跟sort 有關\n",
    "    arr.sort()\n",
    "    print(arr) #一個acending array, 左邊最小\n",
    "    #之後這個arr 就隱含順序\n",
    "    #頭尾個出一個pointer , 相加, 假設target = 9, 如果相加起來 比9大, 那就是大的pointer 往小的移動, 才有可能越靠近9\n",
    "    #你總不可能把小的往大的走, 那只會越加越大\n",
    "    # 相加比9小的自然相反, 把小的pointer 提高, 看看會不會更靠近 9\n",
    "    \n",
    "    \n",
    "    lidx = 0\n",
    "    ridx = len(arr)-1\n",
    "    \n",
    "    while lidx < ridx:\n",
    "        \n",
    "        lval = arr[lidx]\n",
    "        rval = arr[ridx]\n",
    "        \n",
    "        cur_sum = lval + rval\n",
    "        \n",
    "        if cur_sum > target:\n",
    "            #要減小, 右邊pointer 往中間走\n",
    "            ridx-=1\n",
    "        elif cur_sum < target:\n",
    "            lidx +=1\n",
    "        else:\n",
    "            # ==\n",
    "            return [lval,rval]\n",
    "            \n",
    "    return [None,None]\n",
    "        \n",
    "            \n",
    "            \n",
    "        \n",
    "        \n",
    "        \n",
    "\n",
    "\n",
    "input_list = [0, 8, 5, 7, 9]\n",
    "target = 9\n",
    "solution = [0, 9]\n",
    "pair_sum(arr, target)"
   ]
  },
  {
   "cell_type": "markdown",
   "metadata": {
    "graffitiCellId": "id_z5auf94"
   },
   "source": [
    "<span class=\"graffiti-highlight graffiti-id_z5auf94-id_mxw6vbb\"><i></i><button>Hide Solution</button></span>"
   ]
  },
  {
   "cell_type": "code",
   "execution_count": null,
   "metadata": {
    "graffitiCellId": "id_mxw6vbb"
   },
   "outputs": [],
   "source": [
    "def pair_sum(arr, target):\n",
    "    # sort the list\n",
    "    arr.sort()\n",
    "    \n",
    "    # initialize two pointer - one from start of the array and other from the end\n",
    "    front_index = 0\n",
    "    back_index = len(arr) - 1\n",
    "\n",
    "    # shift the pointers\n",
    "    while front_index < back_index:\n",
    "        front = arr[front_index]\n",
    "        back = arr[back_index]\n",
    "\n",
    "        if front + back == target:\n",
    "            return [front, back]\n",
    "        elif front + back < target:       # sum < target ==> shift front pointer forward\n",
    "            front_index += 1 \n",
    "        else:\n",
    "            back_index -= 1               # sum > target ==> shift back pointer backward\n",
    "\n",
    "    return [None, None]"
   ]
  },
  {
   "cell_type": "code",
   "execution_count": 6,
   "metadata": {
    "graffitiCellId": "id_3eusmdv"
   },
   "outputs": [],
   "source": [
    "def test_function(test_case):\n",
    "    input_list = test_case[0]\n",
    "    target =test_case[1]\n",
    "    solution = test_case[2]\n",
    "    output = pair_sum(input_list, target)\n",
    "    if output == solution:\n",
    "        print(\"Pass\")\n",
    "    else:\n",
    "        print(\"False\")\n",
    "\n"
   ]
  },
  {
   "cell_type": "code",
   "execution_count": 10,
   "metadata": {
    "graffitiCellId": "id_lt2ac2g"
   },
   "outputs": [
    {
     "name": "stdout",
     "output_type": "stream",
     "text": [
      "[2, 7, 11, 15]\n",
      "Pass\n"
     ]
    }
   ],
   "source": [
    "input_list = [2, 7, 11, 15]\n",
    "target = 9\n",
    "solution = [2, 7]\n",
    "test_case = [input_list, target, solution]\n",
    "test_function(test_case)"
   ]
  },
  {
   "cell_type": "code",
   "execution_count": 11,
   "metadata": {
    "graffitiCellId": "id_p8o19gq"
   },
   "outputs": [
    {
     "name": "stdout",
     "output_type": "stream",
     "text": [
      "[0, 5, 7, 8, 9]\n",
      "Pass\n"
     ]
    }
   ],
   "source": [
    "input_list = [0, 8, 5, 7, 9]\n",
    "target = 9\n",
    "solution = [0, 9]\n",
    "test_case = [input_list, target, solution]\n",
    "test_function(test_case)"
   ]
  },
  {
   "cell_type": "code",
   "execution_count": 12,
   "metadata": {
    "graffitiCellId": "id_f0dyr3c"
   },
   "outputs": [
    {
     "name": "stdout",
     "output_type": "stream",
     "text": [
      "[9, 89, 110]\n",
      "Pass\n"
     ]
    }
   ],
   "source": [
    "input_list = [110, 9, 89]\n",
    "target = 9\n",
    "solution = [None, None]\n",
    "test_case = [input_list, target, solution]\n",
    "test_function(test_case)"
   ]
  },
  {
   "cell_type": "code",
   "execution_count": null,
   "metadata": {
    "graffitiCellId": "id_5szc0qx"
   },
   "outputs": [],
   "source": []
  }
 ],
 "metadata": {
  "graffiti": {
   "firstAuthorId": "dev",
   "id": "id_v3szme8",
   "language": "EN"
  },
  "kernelspec": {
   "display_name": "Python 3",
   "language": "python",
   "name": "python3"
  },
  "language_info": {
   "codemirror_mode": {
    "name": "ipython",
    "version": 3
   },
   "file_extension": ".py",
   "mimetype": "text/x-python",
   "name": "python",
   "nbconvert_exporter": "python",
   "pygments_lexer": "ipython3",
   "version": "3.6.3"
  }
 },
 "nbformat": 4,
 "nbformat_minor": 2
}
