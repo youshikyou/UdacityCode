{
 "cells": [
  {
   "cell_type": "markdown",
   "metadata": {
    "graffitiCellId": "id_pdy0t0f"
   },
   "source": [
    "### Problem Statement\n",
    "\n",
    "Write a function that takes an input array (or Python list) consisting of only `0`s, `1`s, and `2`s, and sorts that array in a single traversal.\n",
    "\n",
    "Note that if you can get the function to put the `0`s and `2`s in the correct positions, this will aotumatically cause the `1`s to be in the correct positions as well.\n",
    "\n",
    "ex:\n",
    "input: [2, 1, 2, 0, 0, 2, 1, 0, 1, 0, 0, 2, 2, 2, 1, 2, 0, 0, 0, 2, 1, 0, 2, 0, 0, 1]\n",
    "\n",
    "output :[0, 0, 0, 0, 0, 0, 0, 0, 0, 0, 0, 1, 1, 1, 1, 1, 1, 2, 2, 2, 2, 2, 2, 2, 2, 2]\n"
   ]
  },
  {
   "cell_type": "code",
   "execution_count": 15,
   "metadata": {
    "graffitiCellId": "id_vsgisrd"
   },
   "outputs": [],
   "source": [
    "#重點在題目要求 single traversal 所以 sort 應該不能, 好像沒有sort 可以 single traversal\n",
    "#我想法簡單, 就分別存 0 ,1 ,2 的小list, 最後串起來就好\n",
    "\n",
    "#後來發現, 題目要直接改在 input arr, 其實還是維持one pass, 所以另外copy 不行\n",
    "\n",
    "def sort_012_copy(input_list):\n",
    "    zer_list = []\n",
    "    one_list = []\n",
    "    two_list = []\n",
    "    \n",
    "    \n",
    "    for item in input_list:\n",
    "        \n",
    "        if item == 0:\n",
    "            zer_list.append(item)\n",
    "        elif item == 1:\n",
    "            one_list.append(item)\n",
    "        else:\n",
    "            two_list.append(item)\n",
    "    \n",
    "    output = zer_list + one_list + two_list\n",
    "    print('output',output)\n",
    "            \n",
    "    return output\n",
    "    \n",
    "\n"
   ]
  },
  {
   "cell_type": "code",
   "execution_count": 33,
   "metadata": {
    "graffitiCellId": "id_is1elka"
   },
   "outputs": [
    {
     "name": "stdout",
     "output_type": "stream",
     "text": [
      "[0, 2, 0, 1, 2]\n",
      "[0, 2, 0, 1, 2]\n",
      "[0, 2, 0, 1, 2]\n",
      "[0, 1, 0, 2, 2]\n",
      "[0, 1, 0, 2, 2]\n",
      "[0, 0, 1, 2, 2]\n"
     ]
    }
   ],
   "source": [
    "#用三個pointer 個別指出 0,1,2 下個可以放data 的 index,\n",
    "#一直動態維持他們三個 , 0 從最左邊, 2從最右邊開始, 如果 0,2 都放對了, 1自然就對了\n",
    "\n",
    "'''\n",
    "    idea:\n",
    "        nextidx_0, nextidx_2,就是追蹤 0, 2 下一個該放在哪裡的idex\n",
    "        \n",
    "        所以你在掃 arr 時, 如果發現這個值是 0, 這個值是 2, 自然往 arr[nextidx_0 or 2] 去放 = 0 or 2, 然後移動 nextidx_0/2\n",
    "        \n",
    "        搭配一個 looping index 由左往右掃, (只有在自己掃 0 or 1 才往左, 0的話就丟給nextidx 0, 換一個值過來, 1的話直接往右)\n",
    "        這個index 掃到 nexitd_2 為止, \n",
    "        他掃到 val 是 0 or 2 就往剛才的 nexitd_0 or 2 丟, 然後複寫之前, 把人家的value 先跟自己交換\n",
    "        =>由於元素全部也只有 0,1,2, 因此你把 0,2都往左右丟, 跟別人交換來的一定剩下 1, 最後自然剩下1在中間區段\n",
    "        \n",
    "        遇到 1 可以直接往右是因為, 不用擔心, 因為如果後面又遇到 0 自然會再把那個剛才的1換到 當下掃的index\n",
    "        如過後面沒遇到 0, 那剛剛留下的1就是對的位置\n",
    "        \n",
    "        \n",
    "    idea 濃縮\n",
    "        簡單說就是:\n",
    "            1.curidx 把2都往右邊丟 (讓我們只要對付 0 1 前段的問題 [0,1,1,0,1,0....])\n",
    "            2.遇到 1 curidx 繼續往右  (留著等遇到 0, 再靠step3交換, 因為有可能再也沒遇到 0 了)\n",
    "            3.遇到0, 跟 nextidx 0 value 互換, 然後把 0 丟過去  (因為 nextidx_0 val 可能是 0 or 1, 反正都往cur 換)\n",
    "        \n",
    "        (cur_idx 會一直換來 nextidx 0 and nextidx 2不要的東西,放著沒關係, 下一輪while 會再拿出來考慮\n",
    "                        a.curidx 從 nextidx0 那邊只會換到 0 or 1\n",
    "                        b.curidx 從 nextidx2 那邊會換到 0 or 1 or 2 =>但是此輪 curidx 不動, 下輪會重新拿出來看)\n",
    "        \n",
    "''' \n",
    "\n",
    "\n",
    "def sort_012(input_list):\n",
    "    \n",
    "    nextidx_0 = 0\n",
    "    nextidx_2 = len(input_list)-1\n",
    "    cur_idx = 0\n",
    "\n",
    "    \n",
    "    while cur_idx <= nextidx_2:\n",
    "        print(input_list)    \n",
    "        cur_val = input_list[cur_idx]\n",
    "        \n",
    "        #1.curidx 把2都往右邊丟 = swapvalue(讓我們只要對付 0 1 前段的問題 [0,1,1,0,1,0....])\n",
    "        if cur_val == 2:\n",
    "            input_list[cur_idx] = input_list[nextidx_2] \n",
    "            input_list[nextidx_2] = 2\n",
    "            nextidx_2 -=1\n",
    "        elif cur_val == 1:\n",
    "        #2.遇到 1 curidx 繼續往右  (留著等遇到 0, 再靠step3交換, 因為有可能再也沒遇到 0 了)\n",
    "            cur_idx +=1\n",
    "        elif cur_val == 0:\n",
    "            #3.遇到0, 跟 nextidx 0 value 互換, 然後把 0 丟過去  (因為 nextidx_0 val 可能是 0 or 1, 反正都往cur 換)\n",
    "            input_list[cur_idx] = input_list[nextidx_0] \n",
    "            input_list[nextidx_0] = 0\n",
    "            nextidx_0 +=1\n",
    "            cur_idx +=1\n",
    "\n",
    "    \n",
    "    \n",
    "    \n",
    "arr = [0,2,0,1,2]\n",
    "sort_012(arr)\n",
    "print(arr)"
   ]
  },
  {
   "cell_type": "markdown",
   "metadata": {
    "graffitiCellId": "id_rrxcwca"
   },
   "source": [
    "<span class=\"graffiti-highlight graffiti-id_rrxcwca-id_1f2p5yd\"><i></i><button>Hide Solution</button></span>"
   ]
  },
  {
   "cell_type": "code",
   "execution_count": null,
   "metadata": {
    "graffitiCellId": "id_1f2p5yd"
   },
   "outputs": [],
   "source": [
    "def sort_012(input_list):\n",
    "    \"\"\"\n",
    "    The idea is to put 0 and 2 in their correct positions, which will make sure\n",
    "    all the 1s are automatically placed in their right positions\n",
    "    \"\"\"\n",
    "    # initialize pointers for next positions of 0 and 2\n",
    "    next_pos_0 = 0\n",
    "    next_pos_2 = len(input_list) - 1\n",
    "\n",
    "    front_index = 0\n",
    "\n",
    "    while front_index <= next_pos_2:\n",
    "        if input_list[front_index] == 0:\n",
    "            input_list[front_index] = input_list[next_pos_0]\n",
    "            input_list[next_pos_0] = 0\n",
    "            next_pos_0 += 1\n",
    "            front_index += 1\n",
    "        elif input_list[front_index] == 2:           \n",
    "            input_list[front_index] = input_list[next_pos_2] \n",
    "            input_list[next_pos_2] = 2\n",
    "            next_pos_2 -= 1\n",
    "        else:\n",
    "            front_index += 1"
   ]
  },
  {
   "cell_type": "code",
   "execution_count": 28,
   "metadata": {
    "graffitiCellId": "id_2sqv48t"
   },
   "outputs": [],
   "source": [
    "def test_function(test_case):\n",
    "    sort_012(test_case)\n",
    "    print(test_case)\n",
    "    if test_case == sorted(test_case):\n",
    "        print(\"Pass\")\n",
    "    else:\n",
    "        print(\"Fail\")\n"
   ]
  },
  {
   "cell_type": "code",
   "execution_count": 29,
   "metadata": {
    "graffitiCellId": "id_x3ai5yy"
   },
   "outputs": [
    {
     "name": "stdout",
     "output_type": "stream",
     "text": [
      "[0, 0, 0, 1, 1, 1, 2, 2, 2, 2, 2]\n",
      "Pass\n"
     ]
    }
   ],
   "source": [
    "test_case = [0, 0, 2, 2, 2, 1, 1, 1, 2, 0, 2]\n",
    "test_function(test_case)"
   ]
  },
  {
   "cell_type": "code",
   "execution_count": 30,
   "metadata": {
    "graffitiCellId": "id_t8sucox"
   },
   "outputs": [
    {
     "name": "stdout",
     "output_type": "stream",
     "text": [
      "[0, 0, 0, 0, 0, 0, 0, 0, 0, 0, 0, 1, 1, 1, 1, 1, 1, 2, 2, 2, 2, 2, 2, 2, 2, 2]\n",
      "Pass\n"
     ]
    }
   ],
   "source": [
    "test_case = [2, 1, 2, 0, 0, 2, 1, 0, 1, 0, 0, 2, 2, 2, 1, 2, 0, 0, 0, 2, 1, 0, 2, 0, 0, 1]\n",
    "test_function(test_case)"
   ]
  },
  {
   "cell_type": "code",
   "execution_count": 31,
   "metadata": {
    "graffitiCellId": "id_mk5p9ba"
   },
   "outputs": [
    {
     "name": "stdout",
     "output_type": "stream",
     "text": [
      "[0, 0, 0, 0, 0, 0, 1, 1, 1, 1, 1, 1, 2, 2, 2, 2, 2, 2, 2]\n",
      "Pass\n"
     ]
    }
   ],
   "source": [
    "test_case = [2, 2, 0, 0, 2, 1, 0, 2, 2, 1, 1, 1, 0, 1, 2, 0, 2, 0, 1]\n",
    "test_function(test_case)"
   ]
  },
  {
   "cell_type": "code",
   "execution_count": null,
   "metadata": {
    "graffitiCellId": "id_5i38coi"
   },
   "outputs": [],
   "source": []
  }
 ],
 "metadata": {
  "graffiti": {
   "firstAuthorId": "dev",
   "id": "id_ni46pwa",
   "language": "EN"
  },
  "kernelspec": {
   "display_name": "Python 3",
   "language": "python",
   "name": "python3"
  },
  "language_info": {
   "codemirror_mode": {
    "name": "ipython",
    "version": 3
   },
   "file_extension": ".py",
   "mimetype": "text/x-python",
   "name": "python",
   "nbconvert_exporter": "python",
   "pygments_lexer": "ipython3",
   "version": "3.6.3"
  }
 },
 "nbformat": 4,
 "nbformat_minor": 2
}
