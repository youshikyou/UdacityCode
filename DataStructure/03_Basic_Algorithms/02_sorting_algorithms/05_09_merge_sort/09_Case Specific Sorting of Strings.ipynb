{
 "cells": [
  {
   "cell_type": "markdown",
   "metadata": {
    "graffitiCellId": "id_7nj9dyd"
   },
   "source": [
    "# Case Specific Sorting of Strings\n",
    "\n",
    "## Problem statement\n",
    "Given a string consisting of uppercase and lowercase ASCII characters, write a function, `case_sort`, that sorts uppercase and lowercase letters separately, such that if the $i$th place in the original string had an uppercase character then it should not have a lowercase character after being sorted and vice versa.\n",
    "\n",
    "For example:  \n",
    "**Input:** fedRTSersUXJ  \n",
    "**Output:** deeJRSfrsTUX"
   ]
  },
  {
   "cell_type": "code",
   "execution_count": 12,
   "metadata": {
    "graffitiCellId": "id_17z1awl"
   },
   "outputs": [
    {
     "name": "stdout",
     "output_type": "stream",
     "text": [
      "['A', 'T', 'b', 'z']\n"
     ]
    }
   ],
   "source": [
    "def merge(arr,lstart,lend,rstart,rend):\n",
    "    \n",
    "    merg_idx = 0\n",
    "    output_len = lend-lstart+1   + rend-rstart+1\n",
    "    output = [None for _ in range(output_len)]\n",
    "    \n",
    "    lidx = lstart\n",
    "    ridx = rstart\n",
    "    \n",
    "    \n",
    "    while merg_idx < output_len:\n",
    "        \n",
    "        #最後希望小的在左邊, 因此遇到左邊比較大, 要放右邊小的\n",
    "        #if arr[lidx] > arr[ridx]:\n",
    "        #唯一改動是用ascii 比較\n",
    "        if ord(arr[lidx]) > ord(arr[ridx]):\n",
    "\n",
    "            output[merg_idx] = arr[ridx]\n",
    "            ridx+=1\n",
    "        else:\n",
    "            output[merg_idx] = arr[lidx]\n",
    "            lidx+=1            \n",
    "        \n",
    "        \n",
    "        merg_idx +=1\n",
    "        \n",
    "        \n",
    "        \n",
    "        #看看是不是有人先跑完了, 接上剩下的\n",
    "        \n",
    "        if ridx > rend:\n",
    "            for i in range(lidx,lend+1):\n",
    "                output[merg_idx] = arr[i]\n",
    "                merg_idx+=1\n",
    "            break\n",
    "            \n",
    "        elif lidx > lend:\n",
    "            for i in range(ridx,rend+1):\n",
    "                output[merg_idx] = arr[i]\n",
    "                merg_idx+=1\n",
    "            break\n",
    "        \n",
    "        \n",
    "        \n",
    "    #overwrite 回 arr by reference\n",
    "    idx = lstart\n",
    "    \n",
    "    for i in range(output_len):\n",
    "        arr[idx] = output[i]\n",
    "        idx+=1\n",
    "        \n",
    "        \n",
    "    \n",
    "    \n",
    "\n",
    "def mergesort_helper(arr,low,hig):\n",
    "    \n",
    "    #base case\n",
    "    \n",
    "    if low >=hig:\n",
    "        return arr\n",
    "    \n",
    "    mid = (low+hig)//2\n",
    "    \n",
    "    #因為arr 傳進去直接reference 改, 沒有返回值\n",
    "    mergesort_helper(arr,low,mid)\n",
    "    mergesort_helper(arr,mid+1,hig)\n",
    "    \n",
    "    merge(arr,low,mid,mid+1,hig)\n",
    "    \n",
    "    \n",
    "\n",
    "#這次練習 index 版\n",
    "# arr by reference 重頭改到尾\n",
    "\n",
    "#不過看了 solution , 他單純用 sorted 內建函式, sorted 是return copy, 他也多用了 space\n",
    "# list.sort() 才是 inplace sorted\n",
    "\n",
    "# python 內建 sorted 是用  timsort , Time worst O(nlogn), best O(n) avg O(nlogn), Space O(n)\n",
    "# O(nlog) 那不是跟 merget sort 一樣嗎？\n",
    "\n",
    "# https://wiki.python.org/moin/HowTo/Sorting\n",
    "# https://en.wikipedia.org/wiki/Timsort\n",
    "\n",
    "\n",
    "def mergesort(arr):\n",
    "    \n",
    "    low = 0\n",
    "    hig = len(arr)-1\n",
    "    \n",
    "    mergesort_helper(arr,low,hig)\n",
    "    \n",
    "    return arr \n",
    "    \n",
    "    \n",
    "string = [5,2,56,1]\n",
    "string = ['z','T','b','A']\n",
    "\n",
    "print(mergesort(string))"
   ]
  },
  {
   "cell_type": "code",
   "execution_count": 26,
   "metadata": {
    "graffitiCellId": "id_jmqckie"
   },
   "outputs": [
    {
     "name": "stdout",
     "output_type": "stream",
     "text": [
      "['J', 'R', 'S', 'T', 'U', 'X', 'd', 'e', 'e', 'f', 'r', 's']\n",
      "6 0\n",
      "['d', 'e', 'e', 'J', 'R', 'S', 'f', 'r', 's', 'T', 'U', 'X']\n"
     ]
    },
    {
     "data": {
      "text/plain": [
       "'deeJRSfrsTUX'"
      ]
     },
     "execution_count": 26,
     "metadata": {},
     "output_type": "execute_result"
    }
   ],
   "source": [
    "import copy\n",
    "def lower_uper(inputc):\n",
    "    \n",
    "\n",
    "    casii = ord(inputc)\n",
    "    if casii >=97 and casii<=122:\n",
    "        #c is lower case\n",
    "        return 1\n",
    "    elif casii >=65 and casii<= 90:\n",
    "        #uper case\n",
    "        return 2\n",
    "    else:\n",
    "        return -1\n",
    "    \n",
    "\n",
    "def case_sort(string):\n",
    "    \"\"\"\n",
    "    Here are some pointers on how the function should work:\n",
    "    1. Sort the string\n",
    "    2. Create an empty output list\n",
    "    3. Iterate over original string\n",
    "        if the character is lower-case:\n",
    "            pick lower-case character from sorted string to place in output list\n",
    "        else:\n",
    "            pick upper-case character from sorted string to place in output list\n",
    "    \n",
    "    Note: You can use Python's inbuilt ord() function to find the ASCII value of a character\n",
    "    \"\"\"\n",
    "    string = list(string)\n",
    "    stringforoutput = copy.deepcopy(string)\n",
    "    #1.先硬幹一個merget sort 出來, 簡單的\n",
    "    sortedrst = mergesort(string)\n",
    "    \n",
    "    #2 output\n",
    "    output = []\n",
    "    \n",
    "    # for output\n",
    "    #'a' = 97 ~ z = 97+25 = 122\n",
    "    #'A' = 65 ~ Z = 65+25 = 90\n",
    "    \n",
    "    \n",
    "    \n",
    "    lowidx = -1\n",
    "    upidx = -1\n",
    "    \n",
    "    for idx in range(len(sortedrst)):\n",
    "        \n",
    "        if lower_uper(sortedrst[idx]) == 1 and lowidx == -1:\n",
    "            lowidx = idx\n",
    "            \n",
    "        elif lower_uper(sortedrst[idx]) == 2 and upidx == -1:\n",
    "            upidx = idx\n",
    "    \n",
    "        if lowidx !=-1 and upidx !=-1:\n",
    "            break\n",
    "    \n",
    "    print(sortedrst)\n",
    "    print(lowidx,upidx)\n",
    "    \n",
    "    for c in stringforoutput:\n",
    "        \n",
    "        if lower_uper(c) == 1:\n",
    "            #lower\n",
    "            output.append(sortedrst[lowidx])\n",
    "            lowidx+=1\n",
    "        elif lower_uper(c) ==2:\n",
    "            #uper\n",
    "            output.append(sortedrst[upidx])\n",
    "            upidx+=1 \n",
    "    print(output)\n",
    "    return ''.join(output)\n",
    "test_string = 'fedRTSersUXJ'\n",
    "case_sort(test_string)"
   ]
  },
  {
   "cell_type": "markdown",
   "metadata": {
    "graffitiCellId": "id_mw53bf1"
   },
   "source": [
    "<span class=\"graffiti-highlight graffiti-id_mw53bf1-id_fsblbn3\"><i></i><button>Show Solution</button></span>"
   ]
  },
  {
   "cell_type": "code",
   "execution_count": 27,
   "metadata": {
    "graffitiCellId": "id_z40d3cc"
   },
   "outputs": [],
   "source": [
    "def test_function(test_case):\n",
    "    test_string = test_case[0]\n",
    "    solution = test_case[1]\n",
    "    \n",
    "    if case_sort(test_string) == solution:\n",
    "        print(\"Pass\")\n",
    "    else:\n",
    "        print(\"False\")"
   ]
  },
  {
   "cell_type": "code",
   "execution_count": null,
   "metadata": {
    "graffitiCellId": "id_fsblbn3"
   },
   "outputs": [],
   "source": [
    "def case_sort(string):\n",
    "    upper_ch_index = 0\n",
    "    lower_ch_index = 0\n",
    "    \n",
    "    sorted_string = sorted(string)\n",
    "    for index, character in enumerate(sorted_string):\n",
    "        # check if character is lower-case\n",
    "        ascii_int = ord(character)\n",
    "        if 97 <= ascii_int <= 122:       # ASCII value of a = 97 & ASCII value of z = 122\n",
    "            lower_ch_index = index\n",
    "            break\n",
    "            \n",
    "    output = list()\n",
    "    for character in string:\n",
    "        ascii_int = ord(character)\n",
    "        # if character is lower case pick next lower_case character\n",
    "        if 97 <= ascii_int <= 122:\n",
    "            output.append(sorted_string[lower_ch_index])\n",
    "            lower_ch_index += 1\n",
    "        else:\n",
    "            output.append(sorted_string[upper_ch_index])\n",
    "            upper_ch_index += 1\n",
    "    return \"\".join(output)"
   ]
  },
  {
   "cell_type": "code",
   "execution_count": 28,
   "metadata": {
    "graffitiCellId": "id_gxkbvwz"
   },
   "outputs": [
    {
     "name": "stdout",
     "output_type": "stream",
     "text": [
      "['J', 'R', 'S', 'T', 'U', 'X', 'd', 'e', 'e', 'f', 'r', 's']\n",
      "6 0\n",
      "['d', 'e', 'e', 'J', 'R', 'S', 'f', 'r', 's', 'T', 'U', 'X']\n",
      "Pass\n"
     ]
    }
   ],
   "source": [
    "test_string = 'fedRTSersUXJ'\n",
    "solution = \"deeJRSfrsTUX\"\n",
    "test_case = [test_string, solution]\n",
    "test_function(test_case)"
   ]
  },
  {
   "cell_type": "code",
   "execution_count": 29,
   "metadata": {
    "graffitiCellId": "id_uduu26h"
   },
   "outputs": [
    {
     "name": "stdout",
     "output_type": "stream",
     "text": [
      "['I', 'R', 'S', 'T', 'U', 'X', 'd', 'e', 'e', 'f', 'r', 's']\n",
      "6 0\n",
      "['d', 'e', 'e', 'I', 'R', 'S', 'f', 'r', 's', 'T', 'U', 'X']\n",
      "Pass\n"
     ]
    }
   ],
   "source": [
    "test_string = \"defRTSersUXI\"\n",
    "solution = \"deeIRSfrsTUX\"\n",
    "test_case = [test_string, solution]\n",
    "test_function(test_case)"
   ]
  },
  {
   "cell_type": "code",
   "execution_count": null,
   "metadata": {
    "graffitiCellId": "id_lbre8jd"
   },
   "outputs": [],
   "source": []
  }
 ],
 "metadata": {
  "graffiti": {
   "firstAuthorId": "dev",
   "id": "id_9ub8eru",
   "language": "EN"
  },
  "kernelspec": {
   "display_name": "Python 3",
   "language": "python",
   "name": "python3"
  },
  "language_info": {
   "codemirror_mode": {
    "name": "ipython",
    "version": 3
   },
   "file_extension": ".py",
   "mimetype": "text/x-python",
   "name": "python",
   "nbconvert_exporter": "python",
   "pygments_lexer": "ipython3",
   "version": "3.6.3"
  }
 },
 "nbformat": 4,
 "nbformat_minor": 2
}
