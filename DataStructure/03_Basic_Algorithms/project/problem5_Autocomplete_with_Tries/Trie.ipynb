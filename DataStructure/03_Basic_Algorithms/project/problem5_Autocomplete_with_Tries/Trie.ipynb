{
 "cells": [
  {
   "cell_type": "markdown",
   "metadata": {},
   "source": [
    "# Building a Trie in Python\n",
    "\n",
    "Before we start let us reiterate the key components of a Trie or Prefix Tree. A trie is a tree-like data structure that stores a dynamic set of strings. Tries are commonly used to facilitate operations like predictive text or autocomplete features on mobile phones or web search.\n",
    "\n",
    "Before we move into the autocomplete function we need to create a working trie for storing strings.  We will create two classes:\n",
    "* A `Trie` class that contains the root node (empty string)\n",
    "* A `TrieNode` class that exposes the general functionality of the Trie, like inserting a word or finding the node which represents a prefix.\n",
    "\n",
    "Give it a try by implementing the `TrieNode` and `Trie` classes below!"
   ]
  },
  {
   "cell_type": "code",
   "execution_count": 8,
   "metadata": {},
   "outputs": [
    {
     "name": "stdout",
     "output_type": "stream",
     "text": [
      "['ant', 'anthology', 'antagonist', 'antonym', 'fun', 'function', 'factory', 'trie', 'trigger', 'trigonometry', 'tripod']\n",
      "['un', 'unction', 'actory']\n"
     ]
    }
   ],
   "source": [
    "## Represents a single node in the Trie\n",
    "class TrieNode:\n",
    "    def __init__(self):\n",
    "        ## Initialize this node in the Trie\n",
    "        self.word = False\n",
    "        self.child = {}\n",
    "\n",
    "    \n",
    "    def insert(self, char):\n",
    "        ## Add a child node in this Trie\n",
    "        self.child[char] = TrieNode()\n",
    "\n",
    "        \n",
    "    def suffixes(self, suffix = ''):\n",
    "        ## Recursive function that collects the suffix for \n",
    "        ## all complete words below this point\n",
    "        \n",
    "        output = []\n",
    "        self.suffixes_helper('',output)\n",
    "\n",
    "        if output == False:\n",
    "            return False\n",
    "        return output\n",
    "    \n",
    "    def suffixes_helper(self,suffix = '',output=[]):\n",
    "    \n",
    "        #print('suffix:',suffix)\n",
    "        #print('self.word = ',self.word)\n",
    "        \n",
    "        if len(self.child) == 0:\n",
    "            #print('hit end return ')\n",
    "            return output.append(suffix)\n",
    "\n",
    "        \n",
    "        if self.word==True:\n",
    "            #print('hit word==True,',suffix)\n",
    "            output.append(suffix)\n",
    "        \n",
    "        \n",
    "        rst = ''\n",
    "        #print(type(suffix))\n",
    "        for ckey in self.child.keys():\n",
    "            rst = suffix + ckey\n",
    "            #print('pass',rst)\n",
    "\n",
    "            self.child[ckey].suffixes_helper(rst,output)\n",
    "\n",
    "            \n",
    "        #print('rst:',rst)\n",
    "        #return rst\n",
    "\n",
    "        \n",
    "\n",
    "## The Trie itself containing the root node and insert/find functions\n",
    "class Trie:\n",
    "    def __init__(self):\n",
    "        ## Initialize this Trie (add a root node)\n",
    "        self.root = TrieNode()\n",
    "\n",
    "    def insert(self, word):\n",
    "        ## Add a word to the Trie\n",
    "        \n",
    "        #keep adding the char from the word\n",
    "        cur_node = self.root\n",
    "        \n",
    "        #ex : word = test\n",
    "        # head->t->e->s->t(is worad)\n",
    "        for c in word:\n",
    "            # create new c\n",
    "            if c not in cur_node.child:\n",
    "                cur_node.insert(c)\n",
    "                \n",
    "            #keep move on\n",
    "            cur_node = cur_node.child[c]\n",
    "            \n",
    "        #rerach the end of the word, set the word complete\n",
    "        cur_node.word = True\n",
    "        \n",
    "    def find(self, prefix):\n",
    "        ## Find the Trie node that represents this prefix\n",
    "\n",
    "        cur_node = self.root\n",
    "        \n",
    "        for c in prefix:\n",
    "            if c not in cur_node.child:\n",
    "                print('can not find c:',c,'in prefix:',prefix)\n",
    "                return False\n",
    "            cur_node = cur_node.child[c]\n",
    "        return cur_node\n",
    "    \n",
    "    def exists(self, word):\n",
    "        \"\"\"\n",
    "        Check if word exists in trie\n",
    "        \"\"\"\n",
    "        current_node = self.root\n",
    "\n",
    "        for char in word:\n",
    "            if char not in current_node.children:\n",
    "                return False\n",
    "            current_node = current_node.children[char]\n",
    "\n",
    "        return current_node.is_word\n",
    "        \n",
    "        \n",
    "MyTrie = Trie()\n",
    "wordList = [\n",
    "    \"ant\", \"anthology\", \"antagonist\", \"antonym\", \n",
    "    \"fun\", \"function\", \"factory\", \n",
    "    \"trie\", \"trigger\", \"trigonometry\", \"tripod\"\n",
    "]\n",
    "for word in wordList:\n",
    "    MyTrie.insert(word)\n",
    "#example\n",
    "\n",
    "\n",
    "'''\n",
    "\n",
    "root.child= {    'a': <__main__.TrieNode at 0x7f4f1a6d4f60>,\n",
    "                 'f': <__main__.TrieNode at 0x7f4f1a71cd30>,->child ={'u': <__main__.TrieNode at 0x7f4f1a6cd198>,-->child ={'n': <__main__.TrieNode at 0x7f4f1a6cd630>}\n",
    "                 't': <__main__.TrieNode at 0x7f4f1a6db1d0>}          'a': <__main__.TrieNode at 0x7f4f1a6cd320>}-->child = {'c': <__main__.TrieNode at 0x7f4f1a6cd828>}......\n",
    "\n",
    "\n",
    "\n",
    "\n",
    "'''\n",
    "print(MyTrie.find('').suffixes())\n",
    "'''\n",
    "['ant', 'anthology', 'antagonist', 'antonym', \n",
    "'fun', 'function', 'factory', 'trie', 'trigger', 'trigonometry', 'tripod']\n",
    "''';\n",
    "\n",
    "\n",
    "#print(MyTrie.find('fun').word)\n",
    "print(MyTrie.find('f').suffixes())\n",
    "'''\n",
    "['un', 'unction', 'actory']\n",
    "''';\n",
    "\n",
    "#print(MyTrie.root.child['f'].child['u'].child['n'].word)"
   ]
  },
  {
   "cell_type": "markdown",
   "metadata": {},
   "source": [
    "# Finding Suffixes\n",
    "\n",
    "Now that we have a functioning Trie, we need to add the ability to list suffixes to implement our autocomplete feature.  To do that, we need to implement a new function on the `TrieNode` object that will return all complete word suffixes that exist below it in the trie.  For example, if our Trie contains the words `[\"fun\", \"function\", \"factory\"]` and we ask for suffixes from the `f` node, we would expect to receive `[\"un\", \"unction\", \"actory\"]` back from `node.suffixes()`.\n",
    "\n",
    "Using the code you wrote for the `TrieNode` above, try to add the suffixes function below. (Hint: recurse down the trie, collecting suffixes as you go.)"
   ]
  },
  {
   "cell_type": "code",
   "execution_count": null,
   "metadata": {},
   "outputs": [],
   "source": [
    "class TrieNode:\n",
    "    def __init__(self):\n",
    "        ## Initialize this node in the Trie\n",
    "        pass\n",
    "    \n",
    "    def insert(self, char):\n",
    "        ## Add a child node in this Trie\n",
    "        pass\n",
    "        \n",
    "    def suffixes(self, suffix = ''):\n",
    "        ## Recursive function that collects the suffix for \n",
    "        ## all complete words below this point\n"
   ]
  },
  {
   "cell_type": "markdown",
   "metadata": {},
   "source": [
    "# Testing it all out\n",
    "\n",
    "Run the following code to add some words to your trie and then use the interactive search box to see what your code returns."
   ]
  },
  {
   "cell_type": "code",
   "execution_count": null,
   "metadata": {},
   "outputs": [],
   "source": [
    "MyTrie = Trie()\n",
    "wordList = [\n",
    "    \"ant\", \"anthology\", \"antagonist\", \"antonym\", \n",
    "    \"fun\", \"function\", \"factory\", \n",
    "    \"trie\", \"trigger\", \"trigonometry\", \"tripod\"\n",
    "    \n",
    "]\n",
    "for word in wordList:\n",
    "    MyTrie.insert(word)"
   ]
  },
  {
   "cell_type": "code",
   "execution_count": 9,
   "metadata": {},
   "outputs": [
    {
     "data": {
      "application/vnd.jupyter.widget-view+json": {
       "model_id": "9002c943a69d4e708032165c3d8541e7",
       "version_major": 2,
       "version_minor": 0
      },
      "text/html": [
       "<p>Failed to display Jupyter Widget of type <code>interactive</code>.</p>\n",
       "<p>\n",
       "  If you're reading this message in the Jupyter Notebook or JupyterLab Notebook, it may mean\n",
       "  that the widgets JavaScript is still loading. If this message persists, it\n",
       "  likely means that the widgets JavaScript library is either not installed or\n",
       "  not enabled. See the <a href=\"https://ipywidgets.readthedocs.io/en/stable/user_install.html\">Jupyter\n",
       "  Widgets Documentation</a> for setup instructions.\n",
       "</p>\n",
       "<p>\n",
       "  If you're reading this message in another frontend (for example, a static\n",
       "  rendering on GitHub or <a href=\"https://nbviewer.jupyter.org/\">NBViewer</a>),\n",
       "  it may mean that your frontend doesn't currently support widgets.\n",
       "</p>\n"
      ],
      "text/plain": [
       "interactive(children=(Text(value='', description='prefix'), Output()), _dom_classes=('widget-interact',))"
      ]
     },
     "metadata": {},
     "output_type": "display_data"
    }
   ],
   "source": [
    "from ipywidgets import widgets\n",
    "from IPython.display import display\n",
    "from ipywidgets import interact\n",
    "def f(prefix):\n",
    "    if prefix != '':\n",
    "        prefixNode = MyTrie.find(prefix)\n",
    "        if prefixNode:\n",
    "            #print(prefix)\n",
    "            print('\\n'.join(prefixNode.suffixes()))\n",
    "        else:\n",
    "            print(prefix + \" not found\")\n",
    "    else:\n",
    "        print('')\n",
    "interact(f,prefix='');"
   ]
  },
  {
   "cell_type": "code",
   "execution_count": null,
   "metadata": {},
   "outputs": [],
   "source": []
  }
 ],
 "metadata": {
  "kernelspec": {
   "display_name": "Python 3",
   "language": "python",
   "name": "python3"
  },
  "language_info": {
   "codemirror_mode": {
    "name": "ipython",
    "version": 3
   },
   "file_extension": ".py",
   "mimetype": "text/x-python",
   "name": "python",
   "nbconvert_exporter": "python",
   "pygments_lexer": "ipython3",
   "version": "3.7.1"
  },
  "widgets": {
   "state": {},
   "version": "1.1.2"
  }
 },
 "nbformat": 4,
 "nbformat_minor": 2
}
