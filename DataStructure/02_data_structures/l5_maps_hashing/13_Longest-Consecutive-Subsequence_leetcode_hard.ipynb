{
 "cells": [
  {
   "cell_type": "markdown",
   "metadata": {
    "graffitiCellId": "id_vhxf50c"
   },
   "source": [
    "### Problem Statement\n",
    "\n",
    "Given list of integers that contain numbers in random order, write a program to find the longest possible sub sequence of consecutive numbers in the array. Return this subsequence in sorted order. The solution must take O(n) time\n",
    "\n",
    "For e.g. given the list `5, 4, 7, 10, 1, 3, 55, 2`, the output should be `1, 2, 3, 4, 5`\n",
    "\n",
    "*Note- If two arrays are of equal length return the array whose index of smallest element comes first.*\n",
    "\n"
   ]
  },
  {
   "cell_type": "code",
   "execution_count": 35,
   "metadata": {
    "graffitiCellId": "id_eaee7mz"
   },
   "outputs": [],
   "source": [
    "'''\n",
    "idea:\n",
    "    去 hashmap 中查找需要的元素是否存在, 有的話記錄下連續的長度,\n",
    "    最後用 element 起點 + 最大長度 就可以造出數列, ex: 你知道從  3 往上走連續 4個數,\n",
    "    因此就是 3,4,5,6,7 \n",
    "    \n",
    "    ps.  check每一個element時, 都同時看往上走, 和往下走 \n",
    "    ex: input 5, 4, 7, 10, 1, 3, 55, 2\n",
    "    \n",
    "    **\n",
    "    就是想以 某個 value , 在中心,  往上往下延伸去找       \n",
    "    往左到哪? <----5---> 往右到哪？ 全部用一個current_consec_count 來算\n",
    "    \n",
    "    \n",
    "    \n",
    "        當 current element = 5\n",
    "            current_starts_idx = 0\n",
    "            \n",
    "            case1:往上找\n",
    "            先打算看 5,6,7,8,9.... 如果 6,7,8...有在 dict map 裡的話, 就一路往上查找\n",
    "            剛好沒有 6 於是 while 離開\n",
    "            \n",
    "            case2:往下找 4\n",
    "            current_starts_idx = 1 (設成 4的index)\n",
    "            有發現 4,3,2,1, 都在, 把它們在dict 都設成checked -1\n",
    "            這時候 連續 current_consec_count = 5\n",
    "            \n",
    "\n",
    "'''\n",
    "\n",
    "def longest_consecutive_subsequence(input_list):\n",
    "    \n",
    "    #build map for future reference\n",
    "    element_idx_dict = dict()# <value, it's index in list>\n",
    "    for index, element in enumerate(input_list):\n",
    "        element_idx_dict[element] = index\n",
    "\n",
    "    max_length = -1\n",
    "    # 給 len() 跟 給 max = -999 一樣, 初值而已, 後面會替換掉\n",
    "    starts_at = len(input_list)\n",
    "\n",
    "    #當前這個 value 看過了, 先標記成 -1\n",
    "    #標成看過,  有一樣的就不用重複看 ex: 3,2,1 這三個看過後標-1, 則 \n",
    "    #當 current value 是 2的時候, 3, 1 自然不用看, 下面while 有擋\n",
    "    \n",
    "    for index, element in enumerate(input_list):\n",
    "        current_starts_idx = index\n",
    "        element_idx_dict[element] = -1\n",
    "        #計算連續的數量\n",
    "        current_consec_count = 1\n",
    "\n",
    "        \n",
    "        ############\n",
    "        # 往右的case\n",
    "        ###########\n",
    "        # check upwards, 如果現在value 是數字3, 那看看他下一個人 4\n",
    "        current_element = element + 1\n",
    "\n",
    "        #如果 4 在 dict 裡面且還沒被check 過\n",
    "        while current_element in element_idx_dict and element_idx_dict[current_element] > 0:\n",
    "\n",
    "            #連續數量 + 1\n",
    "            current_consec_count += 1\n",
    "            #把剛才4 標程 -1\n",
    "            element_idx_dict[current_element] = -1\n",
    "            #如果 4 有, 再往上走 5\n",
    "            current_element = current_element + 1\n",
    "\n",
    "        #=> 因此, 走到這裡時, 已經把 current index value 往上相鄰的都算了\n",
    "\n",
    "        ############\n",
    "        # 往左的case\n",
    "        ###########\n",
    "        # check downwards, 往下看, ex: value 3, 現在看 2\n",
    "        current_element = element - 1\n",
    "        while current_element in element_idx_dict and element_idx_dict[current_element] > 0:\n",
    "            #把index 給 current_starts, 不可能是-1 因為上面擋了\n",
    "            #記錄下這波從哪個index 開始往下,因為他是從中心開始往下\n",
    "            #而我們最後需要知道最左邊的index 才能靠 current_consec_count 數列往上推\n",
    "            #因此這邊需要一直更新 current starts idx, 而上面不用, 因為如果只有case1往右\n",
    "            #那current_starts_idx 就是中心的 index, 一開始set過了\n",
    "            current_starts_idx = element_idx_dict[current_element]\n",
    "            current_consec_count += 1\n",
    "            element_idx_dict[current_element] = -1\n",
    "            current_element = current_element - 1\n",
    "\n",
    "        #紀錄最大值\n",
    "        if current_consec_count >= max_length:\n",
    "            #這個if 是題目的條件: 當遇到一樣長的 序列時,回傳擁有最小index的\n",
    "            #因此如果你 current_start_idx 比 之前記錄下的 start_at 大, 跳過\n",
    "            if current_consec_count == max_length and current_starts_idx > starts_at:\n",
    "                continue\n",
    "            starts_at = current_starts_idx\n",
    "            max_length = current_consec_count\n",
    "\n",
    "    start_element = input_list[starts_at]\n",
    "    return [element for element in range(start_element, start_element + max_length)]\n",
    "\n",
    "    \n"
   ]
  },
  {
   "cell_type": "code",
   "execution_count": 31,
   "metadata": {
    "graffitiCellId": "id_hlznh6q"
   },
   "outputs": [],
   "source": [
    "def test_function(test_case):\n",
    "    output = longest_consecutive_subsequence(test_case[0])\n",
    "    if output == test_case[1]:\n",
    "        print(\"Pass\")\n",
    "    else:\n",
    "        print(\"Fail\")\n",
    "    "
   ]
  },
  {
   "cell_type": "code",
   "execution_count": 32,
   "metadata": {
    "graffitiCellId": "id_z2y7gsr"
   },
   "outputs": [
    {
     "name": "stdout",
     "output_type": "stream",
     "text": [
      "Pass\n"
     ]
    }
   ],
   "source": [
    "test_case_1 = [[5, 4, 7, 10, 1, 3, 55, 2], [1, 2, 3, 4, 5]]\n",
    "test_function(test_case_1)"
   ]
  },
  {
   "cell_type": "code",
   "execution_count": 33,
   "metadata": {
    "graffitiCellId": "id_a3yf5ol"
   },
   "outputs": [
    {
     "name": "stdout",
     "output_type": "stream",
     "text": [
      "Pass\n"
     ]
    }
   ],
   "source": [
    "test_case_2 = [[2, 12, 9, 16, 10, 5, 3, 20, 25, 11, 1, 8, 6 ], [8, 9, 10, 11, 12]]\n",
    "test_function(test_case_2)"
   ]
  },
  {
   "cell_type": "code",
   "execution_count": 34,
   "metadata": {
    "graffitiCellId": "id_u5rs0q7"
   },
   "outputs": [
    {
     "name": "stdout",
     "output_type": "stream",
     "text": [
      "Pass\n"
     ]
    }
   ],
   "source": [
    "test_case_3 = [[0, 1, 2, 3, 4], [0, 1, 2, 3, 4]]\n",
    "test_function(test_case_3)"
   ]
  },
  {
   "cell_type": "code",
   "execution_count": null,
   "metadata": {
    "graffitiCellId": "id_1yr1djt"
   },
   "outputs": [],
   "source": []
  },
  {
   "cell_type": "code",
   "execution_count": null,
   "metadata": {
    "graffitiCellId": "id_64x24lr"
   },
   "outputs": [],
   "source": []
  },
  {
   "cell_type": "code",
   "execution_count": 8,
   "metadata": {
    "graffitiCellId": "id_r15x1vg"
   },
   "outputs": [],
   "source": [
    "def longest_consecutive_subsequence(input_list):\n",
    "    element_dict = dict()\n",
    "\n",
    "    for index, element in enumerate(input_list):\n",
    "        element_dict[element] = index\n",
    "\n",
    "    max_length = -1\n",
    "    # 給 len() 跟 給 max = -999 一樣, 初值而已, 後面會替換掉\n",
    "    starts_at = len(input_list)\n",
    "\n",
    "    for index, element in enumerate(input_list):\n",
    "        current_starts = index\n",
    "        #當前這個 value 看過了, 先標記成 -1\n",
    "        #標成看過,  有一樣的就不用重複看 ex: 3,2,1 這三個看過後標-1, 則 \n",
    "        #當 current value 是 2的時候, 3, 1 自然不用看, 下面while 有擋\n",
    "        element_dict[element] = -1\n",
    "        #計算連續的數量\n",
    "        current_count = 1\n",
    "\n",
    "        # check upwards, 如果現在value 是數字3, 那看看他下一個人 4\n",
    "        current = element + 1\n",
    "\n",
    "        while current in element_dict and element_dict[current] > 0:\n",
    "\n",
    "            #連續數量 + 1\n",
    "            current_count += 1\n",
    "            #把剛才4 標程 -1\n",
    "            element_dict[current] = -1\n",
    "            #如果 4 有, 再往上走 5\n",
    "            current = current + 1\n",
    "\n",
    "        #=> 因此, 走到這裡時, 已經把 current index value 往上相鄰的都算了\n",
    "            \n",
    "        # check downwards, 往下看, ex: value 3, 現在看 2\n",
    "        current = element - 1\n",
    "        while current in element_dict and element_dict[current] > 0:\n",
    "            #把index 給 current_starts, 不可能是-1 因為上面擋了\n",
    "            #記錄下這波從哪個index 開始往下\n",
    "            current_starts = element_dict[current]\n",
    "            current_count += 1\n",
    "            element_dict[current] = -1\n",
    "            current = current - 1\n",
    "\n",
    "        #紀錄最大值\n",
    "        if current_count >= max_length:\n",
    "            if current_count == max_length and current_starts > starts_at:\n",
    "                continue\n",
    "            starts_at = current_starts\n",
    "            max_length = current_count\n",
    "\n",
    "    start_element = input_list[starts_at]\n",
    "    return [element for element in range(start_element, start_element + max_length)]\n",
    "\n",
    "\n",
    "\n"
   ]
  },
  {
   "cell_type": "markdown",
   "metadata": {
    "graffitiCellId": "id_et1ek54"
   },
   "source": [
    "<span class=\"graffiti-highlight graffiti-id_et1ek54-id_r15x1vg\"><i></i><button>Show Solution</button></span>"
   ]
  },
  {
   "cell_type": "code",
   "execution_count": null,
   "metadata": {
    "graffitiCellId": "id_55lxsk1"
   },
   "outputs": [],
   "source": []
  }
 ],
 "metadata": {
  "graffiti": {
   "firstAuthorId": "10694620118",
   "id": "id_alotytm",
   "language": "EN"
  },
  "kernelspec": {
   "display_name": "Python 3",
   "language": "python",
   "name": "python3"
  },
  "language_info": {
   "codemirror_mode": {
    "name": "ipython",
    "version": 3
   },
   "file_extension": ".py",
   "mimetype": "text/x-python",
   "name": "python",
   "nbconvert_exporter": "python",
   "pygments_lexer": "ipython3",
   "version": "3.6.3"
  }
 },
 "nbformat": 4,
 "nbformat_minor": 2
}
