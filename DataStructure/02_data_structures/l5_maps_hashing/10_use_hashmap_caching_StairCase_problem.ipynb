{
 "cells": [
  {
   "cell_type": "markdown",
   "metadata": {
    "graffitiCellId": "id_5why725"
   },
   "source": [
    "Caching can be defined as the process of storing data into a temporary data storage to avoid recomputation or to avoid reading the data from a relatively slower part of memory again and again. Thus cachig serves as a fast \"look-up\" storage allowing programs to execute faster.  \n",
    "\n",
    "Let's use caching to chalk out an efficient solution for a problem."
   ]
  },
  {
   "cell_type": "markdown",
   "metadata": {
    "graffitiCellId": "id_shkaqhm"
   },
   "source": [
    "### Problem Statement\n",
    "\n",
    "A child is running up a staircase with and can hop either 1 step, 2 steps or 3 steps at a time. \n",
    "If the staircase has `n` steps, write a function to count the number of possible ways in which child can run up the stairs. \n",
    "\n",
    "For e.g. \n",
    "\n",
    "* `n == 1` then `answer = 1`\n",
    "\n",
    "* `n == 3` then `answer = 4`\n",
    " \n",
    "* `n == 5` then `answer = 13`"
   ]
  },
  {
   "cell_type": "code",
   "execution_count": 7,
   "metadata": {
    "graffitiCellId": "id_qlyd2h9"
   },
   "outputs": [],
   "source": [
    "def staircase(n):\n",
    "    # Base Case - minimum steps possible and number of ways the child can climb them\n",
    "    # 題目說一次只能走 1步 或是 2步 或是 3步, 因此如果 n =1~3 照base case return 即可\n",
    "    if n == 1:\n",
    "        return 1\n",
    "    elif n == 2:\n",
    "        return 2\n",
    "    elif n == 3:\n",
    "        return 4\n",
    "    # Inductive Hypothesis - ways to climb rest of the steps\n",
    "    # Inductive Step - use Inductive Hypothesis to formulate a solution\n",
    "    \n",
    "    #從 n = 4 開始, 所有的可能性就是 n =3 + n=2 +n=1 的所有可能性 再跨一步就到 n = 4 階\n",
    "    #因此 n 階的可能性, 就是他前面 n-1, n-2, n-3 階可能性的和\n",
    "    return staircase(n - 1) + staircase(n - 2) + staircase(n - 3)\n"
   ]
  },
  {
   "cell_type": "code",
   "execution_count": 8,
   "metadata": {
    "graffitiCellId": "id_mhzqy0u"
   },
   "outputs": [],
   "source": [
    "def test_function(test_case):\n",
    "    answer = staircase(test_case[0])\n",
    "    if answer == test_case[1]:\n",
    "        print(\"Pass\")\n",
    "    else:\n",
    "        print(\"Fail\")\n",
    "            "
   ]
  },
  {
   "cell_type": "code",
   "execution_count": 9,
   "metadata": {
    "graffitiCellId": "id_vgacxhw"
   },
   "outputs": [
    {
     "name": "stdout",
     "output_type": "stream",
     "text": [
      "Pass\n"
     ]
    }
   ],
   "source": [
    "test_case = [4, 7]\n",
    "test_function(test_case)"
   ]
  },
  {
   "cell_type": "code",
   "execution_count": 10,
   "metadata": {
    "graffitiCellId": "id_vgt831v"
   },
   "outputs": [
    {
     "name": "stdout",
     "output_type": "stream",
     "text": [
      "Pass\n"
     ]
    }
   ],
   "source": [
    "test_case = [5, 13]\n",
    "test_function(test_case)"
   ]
  },
  {
   "cell_type": "code",
   "execution_count": 11,
   "metadata": {
    "graffitiCellId": "id_335kkgn"
   },
   "outputs": [
    {
     "name": "stdout",
     "output_type": "stream",
     "text": [
      "Pass\n"
     ]
    }
   ],
   "source": [
    "test_case = [3, 4]\n",
    "test_function(test_case)"
   ]
  },
  {
   "cell_type": "code",
   "execution_count": 12,
   "metadata": {
    "graffitiCellId": "id_vtju73f"
   },
   "outputs": [],
   "source": [
    "def staircase(n):\n",
    "    if n == 1:\n",
    "        return 1\n",
    "    elif n == 2:\n",
    "        return 2\n",
    "    elif n == 3:\n",
    "        return 4\n",
    "    return staircase(n - 1) + staircase(n - 2) + staircase(n - 3)\n"
   ]
  },
  {
   "cell_type": "code",
   "execution_count": 13,
   "metadata": {
    "graffitiCellId": "id_j49hev8"
   },
   "outputs": [
    {
     "name": "stdout",
     "output_type": "stream",
     "text": [
      "Pass\n"
     ]
    }
   ],
   "source": [
    "test_case = [20, 121415]\n",
    "test_function(test_case)"
   ]
  },
  {
   "cell_type": "markdown",
   "metadata": {
    "graffitiCellId": "id_r189hz6"
   },
   "source": [
    "<span class=\"graffiti-highlight graffiti-id_r189hz6-id_vtju73f\"><i></i><button>Show Solution</button></span>"
   ]
  },
  {
   "cell_type": "markdown",
   "metadata": {
    "graffitiCellId": "id_cfownii"
   },
   "source": [
    "### Problem Statement\n",
    "\n",
    "While using recursion for the above problem, you might have noticed a small problem with efficiency.\n",
    "\n",
    "Let's take a look at an example.\n",
    "\n",
    "* Say the total number of steps are `5`. This means that we will have to call at `(n=4), (n=3), and (n=2)`\n",
    "\n",
    "* To calculate the answer for `n=4`, we would have to call `(n=3), (n=2) and (n=1)`\n",
    "\n",
    "You can notice that even for a small number of staircases (here 5), we are calling `n=3` and `n=2` multiple times. Each time we call a method, additional time is required to calculate the solution. In contrast, instead of calling on a particular value of `n` again and again, we can calculate it once and store the result to speed up our program.\n",
    "\n",
    "Your job is to use any data-structure that you have used until now to write a faster implementation of the function you wrote earlier while using recursion. \n"
   ]
  },
  {
   "cell_type": "code",
   "execution_count": null,
   "metadata": {
    "graffitiCellId": "id_uw8ttpq"
   },
   "outputs": [],
   "source": [
    "def staircase(n):\n",
    "    pass"
   ]
  },
  {
   "cell_type": "code",
   "execution_count": null,
   "metadata": {
    "graffitiCellId": "id_zcrgimd"
   },
   "outputs": [],
   "source": [
    "test_case = [4, 7]\n",
    "test_function(test_case)"
   ]
  },
  {
   "cell_type": "code",
   "execution_count": 16,
   "metadata": {
    "graffitiCellId": "id_6t02ke7"
   },
   "outputs": [],
   "source": [
    "def staircase(n):\n",
    "    num_dict = dict({})\n",
    "    return staircase_faster(n, num_dict)\n",
    "\n",
    "def staircase_faster(n, num_dict):\n",
    "    if n == 1:\n",
    "        output = 1\n",
    "    elif n == 2:\n",
    "        output = 2\n",
    "    elif n == 3:\n",
    "        output = 4\n",
    "    else:\n",
    "        # 這次取得 n-1, n-2, n-3 先從dic 取, 沒有再call recursive\n",
    "        if (n - 1) in num_dict:\n",
    "            first_output = num_dict[n - 1]\n",
    "        else:\n",
    "            first_output =  staircase_faster(n - 1, num_dict)\n",
    "        \n",
    "        if (n - 2) in num_dict:\n",
    "            second_output = num_dict[n - 2]\n",
    "        else:\n",
    "            second_output = staircase_faster(n - 2, num_dict)\n",
    "            \n",
    "        if (n - 3) in num_dict:\n",
    "            third_output = num_dict[n - 3]\n",
    "        else:\n",
    "            third_output = staircase_faster(n - 3, num_dict)\n",
    "        \n",
    "        output = first_output + second_output + third_output\n",
    "        \n",
    "    #記得紀錄一份起來\n",
    "    num_dict[n] = output;\n",
    "    return output\n",
    "\n"
   ]
  },
  {
   "cell_type": "code",
   "execution_count": 17,
   "metadata": {
    "graffitiCellId": "id_01zs3l1"
   },
   "outputs": [
    {
     "name": "stdout",
     "output_type": "stream",
     "text": [
      "Pass\n"
     ]
    }
   ],
   "source": [
    "test_case = [5, 13]\n",
    "test_function(test_case)"
   ]
  },
  {
   "cell_type": "code",
   "execution_count": 18,
   "metadata": {
    "graffitiCellId": "id_letl51a"
   },
   "outputs": [
    {
     "name": "stdout",
     "output_type": "stream",
     "text": [
      "Pass\n"
     ]
    }
   ],
   "source": [
    "test_case = [3, 4]\n",
    "test_function(test_case)"
   ]
  },
  {
   "cell_type": "code",
   "execution_count": 19,
   "metadata": {
    "graffitiCellId": "id_eeu996q"
   },
   "outputs": [
    {
     "name": "stdout",
     "output_type": "stream",
     "text": [
      "Pass\n"
     ]
    }
   ],
   "source": [
    "test_case = [20, 121415]\n",
    "test_function(test_case)"
   ]
  },
  {
   "cell_type": "markdown",
   "metadata": {
    "graffitiCellId": "id_0n79ls8"
   },
   "source": [
    "<span class=\"graffiti-highlight graffiti-id_0n79ls8-id_6t02ke7\"><i></i><button>Show Solution</button></span>"
   ]
  }
 ],
 "metadata": {
  "graffiti": {
   "firstAuthorId": "10694620118",
   "id": "id_dfjao7b",
   "language": "EN"
  },
  "kernelspec": {
   "display_name": "Python 3",
   "language": "python",
   "name": "python3"
  },
  "language_info": {
   "codemirror_mode": {
    "name": "ipython",
    "version": 3
   },
   "file_extension": ".py",
   "mimetype": "text/x-python",
   "name": "python",
   "nbconvert_exporter": "python",
   "pygments_lexer": "ipython3",
   "version": "3.7.1"
  }
 },
 "nbformat": 4,
 "nbformat_minor": 2
}
