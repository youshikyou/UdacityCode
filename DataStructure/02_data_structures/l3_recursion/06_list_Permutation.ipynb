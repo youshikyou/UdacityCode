{
 "cells": [
  {
   "cell_type": "markdown",
   "metadata": {
    "graffitiCellId": "id_op9zwiy"
   },
   "source": [
    "# Permutation"
   ]
  },
  {
   "cell_type": "markdown",
   "metadata": {
    "graffitiCellId": "id_h4gumy5"
   },
   "source": [
    "Let's use recursion to help us solve this permutation problem. \n",
    "\n",
    "Given a list of items, the goal is to find all of the permutations of that list. For example if given a list like: [\"apple\", \"water\"], you could create two permuations from it. One in the form of the original input and one in the reversed order like so: [\"water\",\"apple\"]"
   ]
  },
  {
   "cell_type": "code",
   "execution_count": 1,
   "metadata": {
    "graffitiCellId": "id_45biddl"
   },
   "outputs": [
    {
     "name": "stdout",
     "output_type": "stream",
     "text": [
      "===> input: ['apple', 'water', 'banana']\n",
      "first_element: apple\n",
      "===> input: ['water', 'banana']\n",
      "first_element: water\n",
      "===> input: ['banana']\n",
      "first_element: banana\n",
      "===> input: []\n",
      "hit base case, return [[]], 有一個空的item\n",
      "sub_permutes: [[]]\n",
      "item []\n",
      "copyitem ['banana']\n",
      "<==== return: [['banana']]\n",
      "sub_permutes: [['banana']]\n",
      "item ['banana']\n",
      "copyitem ['water', 'banana']\n",
      "copyitem ['banana', 'water']\n",
      "<==== return: [['water', 'banana'], ['banana', 'water']]\n",
      "sub_permutes: [['water', 'banana'], ['banana', 'water']]\n",
      "item ['water', 'banana']\n",
      "copyitem ['apple', 'water', 'banana']\n",
      "copyitem ['water', 'apple', 'banana']\n",
      "copyitem ['water', 'banana', 'apple']\n",
      "item ['banana', 'water']\n",
      "copyitem ['apple', 'banana', 'water']\n",
      "copyitem ['banana', 'apple', 'water']\n",
      "copyitem ['banana', 'water', 'apple']\n",
      "<==== return: [['apple', 'water', 'banana'], ['water', 'apple', 'banana'], ['water', 'banana', 'apple'], ['apple', 'banana', 'water'], ['banana', 'apple', 'water'], ['banana', 'water', 'apple']]\n"
     ]
    },
    {
     "data": {
      "text/plain": [
       "[['apple', 'water', 'banana'],\n",
       " ['water', 'apple', 'banana'],\n",
       " ['water', 'banana', 'apple'],\n",
       " ['apple', 'banana', 'water'],\n",
       " ['banana', 'apple', 'water'],\n",
       " ['banana', 'water', 'apple']]"
      ]
     },
     "execution_count": 1,
     "metadata": {},
     "output_type": "execute_result"
    }
   ],
   "source": [
    "# Code\n",
    "\n",
    "import copy\n",
    "\n",
    "def permute(l):\n",
    "    \"\"\"\n",
    "    Return a list of permutations\n",
    "    \n",
    "    Examples:\n",
    "       permute([0, 1]) returns [ [0, 1], [1, 0] ]\n",
    "    \n",
    "    Args:\n",
    "      l(list): list of items to be permuted\n",
    "    \n",
    "    Returns:\n",
    "      list of permutation with each permuted item being represented by a list\n",
    "    \"\"\"\n",
    "    print(\"===> input:\",l)\n",
    "    #希望下面步驟可以每個substring都重複做\n",
    "    # 1.取出第一個char\n",
    "    # 2.右邊的能排出所有可能\n",
    "    perm = []\n",
    "    #base case\n",
    "    if len(l) == 0:\n",
    "        perm.append([])\n",
    "        print('hit base case, return [[]], 有一個空的item')\n",
    "        return perm\n",
    "\n",
    "    first_element = l[0]\n",
    "    print('first_element:',first_element)\n",
    "    #after_first = slice(1, None)\n",
    "    sub_permutes = permute(l[1:])\n",
    "    print('sub_permutes:',sub_permutes)\n",
    "\n",
    "    ##############\n",
    "    #把 first_char 插入 prem_output 中的所有位置\n",
    "    # ex: fisr = x , prem_output= [1,2]\n",
    "    # 想造成 : [x,1,2], [1,x,2], [1,2,x idx=len(p) + 1]\n",
    "    # => 排列組合不用懷疑, 就是兩層for,1,字母 2,位置, 暴力所有可能\n",
    "    ##############\n",
    "    \n",
    "    # fisrt_ele = 'a'\n",
    "    #ex: others_ele= [['b','c'],['c','b']]\n",
    "    for item in sub_permutes:\n",
    "        print('item',item)\n",
    "        #item = ['b','c'], len = 2\n",
    "        for insert_position in range(0, len(item) + 1):\n",
    "            copyitem = copy.deepcopy(item)#保持p 不動, 用deep copy\n",
    "            copyitem.insert(insert_position, first_element)\n",
    "            # copyitem = pos =0 ,['a','b','c']\n",
    "            # copyitem = pos =1 ,['b','a','c']\n",
    "            # copyitem = pos =2 ,['b','c','a']\n",
    "\n",
    "            print('copyitem',copyitem)\n",
    "            perm.append(copyitem)\n",
    "            \n",
    "            \n",
    "    print(\"<==== return:\",perm)\n",
    "    return perm\n",
    "\n",
    "\n",
    "permute([\"apple\", \"water\",\"banana\"],)"
   ]
  },
  {
   "cell_type": "code",
   "execution_count": null,
   "metadata": {
    "graffitiCellId": "id_9kv3248"
   },
   "outputs": [],
   "source": [
    "# Test Cases \n",
    "\n",
    "# Helper Function\n",
    "def check_output(output, expected_output):\n",
    "    \"\"\"\n",
    "    Return True if output and expected_output\n",
    "    contains the same lists, False otherwise.\n",
    "    \n",
    "    Note that the ordering of the list is not important.\n",
    "    \n",
    "    Examples:\n",
    "        check_output([ [0, 1], [1, 0] ] ], [ [1, 0], [0, 1] ]) returns True\n",
    "\n",
    "    Args:\n",
    "        output(list): list of list\n",
    "        expected_output(list): list of list\n",
    "    \n",
    "    Returns:\n",
    "        bool\n",
    "    \"\"\"\n",
    "    o = copy.deepcopy(output)  # so that we don't mutate input\n",
    "    e = copy.deepcopy(expected_output)  # so that we don't mutate input\n",
    "    \n",
    "    o.sort()\n",
    "    e.sort()\n",
    "    return o == e\n",
    "\n",
    "print (\"Pass\" if  (check_output(permute([]), [[]])) else \"Fail\")\n",
    "print (\"Pass\" if  (check_output(permute([0]), [[0]])) else \"Fail\")\n",
    "print (\"Pass\" if  (check_output(permute([0, 1]), [[0, 1], [1, 0]])) else \"Fail\")\n",
    "print (\"Pass\" if  (check_output(permute([0, 1, 2]), [[0, 1, 2], [0, 2, 1], [1, 0, 2], [1, 2, 0], [2, 0, 1], [2, 1, 0]])) else \"Fail\")"
   ]
  },
  {
   "cell_type": "code",
   "execution_count": null,
   "metadata": {
    "graffitiCellId": "id_al2wv3g"
   },
   "outputs": [],
   "source": [
    "# Solution \n",
    "\n",
    "\n",
    "import copy\n",
    "\n",
    "def permute(l):\n",
    "    \"\"\"\n",
    "    Return a list of permutations\n",
    "\n",
    "    Examples:\n",
    "       permute([0, 1]) returns [ [0, 1], [1, 0] ]\n",
    "\n",
    "    Args:\n",
    "      l(list): list of items to be permuted\n",
    "\n",
    "    Returns:\n",
    "      list of permutation with each permuted item be represented by a list\n",
    "    \"\"\"\n",
    "    perm = []\n",
    "    if len(l) == 0:\n",
    "        perm.append([])\n",
    "    else:\n",
    "        first_element = l[0]\n",
    "        after_first = slice(1, None)\n",
    "        sub_permutes = permute(l[after_first])\n",
    "        for p in sub_permutes:\n",
    "            for j in range(0, len(p) + 1):\n",
    "                r = copy.deepcopy(p)\n",
    "                r.insert(j, first_element)\n",
    "                perm.append(r)\n",
    "    return perm\n",
    "\n",
    "def check_output(output, expected_output):\n",
    "    \"\"\"\n",
    "    Return True if output and expected_output\n",
    "    contains the same lists, False otherwise.\n",
    "    \n",
    "    Note that the ordering of the list is not important.\n",
    "    \n",
    "    Examples:\n",
    "        check_output([ [0, 1], [1, 0] ] ], [ [1, 0], [0, 1] ]) returns True\n",
    "\n",
    "    Args:\n",
    "        output(list): list of list\n",
    "        expected_output(list): list of list\n",
    "    \n",
    "    Returns:\n",
    "        bool\n",
    "    \"\"\"\n",
    "    o = copy.deepcopy(output)  # so that we don't mutate input\n",
    "    e = copy.deepcopy(expected_output)  # so that we don't mutate input\n",
    "    \n",
    "    o.sort()\n",
    "    e.sort()\n",
    "    return o == e\n",
    "\n",
    "print (\"Pass\" if  (check_output(permute([]), [[]])) else \"Fail\")\n",
    "print (\"Pass\" if  (check_output(permute([0]), [[0]])) else \"Fail\")\n",
    "print (\"Pass\" if  (check_output(permute([0, 1]), [[0, 1], [1, 0]])) else \"Fail\")\n",
    "print (\"Pass\" if  (check_output(permute([0, 1, 2]), [[0, 1, 2], [0, 2, 1], [1, 0, 2], [1, 2, 0], [2, 0, 1], [2, 1, 0]])) else \"Fail\")\n"
   ]
  },
  {
   "cell_type": "markdown",
   "metadata": {
    "graffitiCellId": "id_7mkz7sx"
   },
   "source": [
    "<span class=\"graffiti-highlight graffiti-id_7mkz7sx-id_al2wv3g\"><i></i><button>Show Solution</button></span>"
   ]
  }
 ],
 "metadata": {
  "graffiti": {
   "firstAuthorId": "10694620118",
   "id": "id_gm7n621",
   "language": "EN"
  },
  "kernelspec": {
   "display_name": "Python 3",
   "language": "python",
   "name": "python3"
  },
  "language_info": {
   "codemirror_mode": {
    "name": "ipython",
    "version": 3
   },
   "file_extension": ".py",
   "mimetype": "text/x-python",
   "name": "python",
   "nbconvert_exporter": "python",
   "pygments_lexer": "ipython3",
   "version": "3.7.1"
  }
 },
 "nbformat": 4,
 "nbformat_minor": 2
}
