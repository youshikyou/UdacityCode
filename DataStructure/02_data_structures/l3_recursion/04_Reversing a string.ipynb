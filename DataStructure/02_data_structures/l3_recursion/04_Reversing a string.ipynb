{
 "cells": [
  {
   "cell_type": "markdown",
   "metadata": {
    "graffitiCellId": "id_vwxoyg1"
   },
   "source": [
    "# Reversing a String"
   ]
  },
  {
   "cell_type": "markdown",
   "metadata": {
    "graffitiCellId": "id_b24w32i"
   },
   "source": [
    "The goal in this notebook will be to get practice with a problem that is frequently solved by recursion: Reversing a string.\n",
    "\n",
    "Note that Python has a built-in function that you could use for this, but the goal here is to avoid that and understand how it can be done using recursion instead."
   ]
  },
  {
   "cell_type": "code",
   "execution_count": 4,
   "metadata": {
    "graffitiCellId": "id_ericocu"
   },
   "outputs": [
    {
     "name": "stdout",
     "output_type": "stream",
     "text": [
      "Pass\n",
      "['c', 'b', 'a']\n",
      "Pass\n",
      "['a', 'b', 'c', 'd', 'e', 'T', '5', '4', '3', '2', '1']\n",
      "Pass\n"
     ]
    }
   ],
   "source": [
    "# Code\n",
    "#my way, by switching value from the input list\n",
    "def reverse_string_index(input):\n",
    "    \"\"\"\n",
    "    Return reversed input string\n",
    "    \n",
    "    Examples:\n",
    "       reverse_string(\"abc\") returns \"cba\"\n",
    "    \n",
    "    Args:\n",
    "      input(str): string to be reversed\n",
    "    \n",
    "    Returns:\n",
    "      a string that is the reverse of input\n",
    "    \"\"\"\n",
    "    if input == \"\":\n",
    "        return \"\"\n",
    "    input = list(input)\n",
    "    helper(input,0,len(input)-1)\n",
    "    print(input)\n",
    "    return \"\".join(input)\n",
    "\n",
    "#my way\n",
    "def helper(input,lo,hi):\n",
    "    \n",
    "    if lo > hi:\n",
    "        return \n",
    "    tmp = input[hi]\n",
    "    input[hi] = input[lo]\n",
    "    input[lo] = tmp\n",
    "    \n",
    "    helper(input,lo+1,hi-1)\n",
    "    \n",
    "\n",
    "print (\"Pass\" if  (\"\" == reverse_string_index(\"\")) else \"Fail\")\n",
    "print (\"Pass\" if  (\"cba\" == reverse_string_index(\"abc\")) else \"Fail\")\n",
    "print (\"Pass\" if  (\"abcdeT54321\" == reverse_string_index(\"12345Tedcba\")) else \"Fail\")"
   ]
  },
  {
   "cell_type": "code",
   "execution_count": 7,
   "metadata": {
    "graffitiCellId": "id_0zqr9ts"
   },
   "outputs": [
    {
     "name": "stdout",
     "output_type": "stream",
     "text": [
      "Pass\n",
      "Pass\n",
      "Pass\n"
     ]
    }
   ],
   "source": [
    "def reverse_string(input):\n",
    "    \"\"\"\n",
    "    Return reversed input string\n",
    "    \n",
    "    Examples:\n",
    "       reverse_string(\"abc\") returns \"cba\"\n",
    "    \n",
    "    Args:\n",
    "      input(str): string to be reversed\n",
    "    \n",
    "    Returns:\n",
    "      a string that is the reverse of input\n",
    "    \"\"\"\n",
    "    \n",
    "    '''\n",
    "        abc\"\"->\"\"cba\n",
    "    '''\n",
    "    \n",
    "    if input == \"\":\n",
    "        return \"\"\n",
    "    \n",
    "    \n",
    "    first = input[0]\n",
    "    rest = input [1:]\n",
    "    output = reverse_string(rest)\n",
    "    \n",
    "    return output + first\n",
    "    \n",
    "    \n",
    "    \n",
    "\n",
    "# Test Cases\n",
    "    \n",
    "print (\"Pass\" if  (\"\" == reverse_string(\"\")) else \"Fail\")\n",
    "print (\"Pass\" if  (\"cba\" == reverse_string(\"abc\")) else \"Fail\")\n",
    "print (\"Pass\" if  (\"abcdeT54321\" == reverse_string(\"12345Tedcba\")) else \"Fail\")"
   ]
  },
  {
   "cell_type": "code",
   "execution_count": 32,
   "metadata": {
    "graffitiCellId": "id_3o4r993"
   },
   "outputs": [
    {
     "name": "stdout",
     "output_type": "stream",
     "text": [
      "Pass\n",
      "Pass\n"
     ]
    }
   ],
   "source": [
    "# Solution\n",
    "\n",
    "def reverse_string(input):\n",
    "    \"\"\"\n",
    "    Return reversed input string\n",
    "    \n",
    "    Examples:\n",
    "       reverse_string(\"abc\") returns \"cba\"\n",
    "    \n",
    "    Args:\n",
    "      input(str): string to be reversed\n",
    "    \n",
    "    Returns:\n",
    "      a string that us reversed of input\n",
    "    \"\"\"\n",
    "    if len(input) == 0:\n",
    "        return \"\"\n",
    "    else:\n",
    "        first_char = input[0]\n",
    "        the_rest = slice(1, None)\n",
    "        sub_string = input[the_rest]\n",
    "        reversed_substring = reverse_string(sub_string)\n",
    "        return reversed_substring + first_char\n",
    "\n",
    "print (\"Pass\" if  (\"\" == reverse_string(\"\")) else \"Fail\")\n",
    "print (\"Pass\" if  (\"cba\" == reverse_string(\"abc\")) else \"Fail\")\n"
   ]
  },
  {
   "cell_type": "markdown",
   "metadata": {
    "graffitiCellId": "id_4uzxsts"
   },
   "source": [
    "<span class=\"graffiti-highlight graffiti-id_4uzxsts-id_3o4r993\"><i></i><button>Show Solution</button></span>"
   ]
  },
  {
   "cell_type": "code",
   "execution_count": 29,
   "metadata": {
    "graffitiCellId": "id_t9umiev"
   },
   "outputs": [
    {
     "name": "stdout",
     "output_type": "stream",
     "text": [
      "Pass\n",
      "Pass\n",
      "Pass\n"
     ]
    }
   ],
   "source": [
    "    \n",
    "print (\"Pass\" if  (\"\" == reverse_string(\"\")) else \"Fail\")\n",
    "print (\"Pass\" if  (\"cba\" == reverse_string(\"abc\")) else \"Fail\")\n",
    "print (\"Pass\" if  (\"abcdeT54321\" == reverse_string(\"12345Tedcba\")) else \"Fail\")"
   ]
  },
  {
   "cell_type": "code",
   "execution_count": null,
   "metadata": {
    "graffitiCellId": "id_8ht8ovq"
   },
   "outputs": [],
   "source": []
  }
 ],
 "metadata": {
  "graffiti": {
   "firstAuthorId": "10694620118",
   "id": "id_engua4l",
   "language": "EN"
  },
  "kernelspec": {
   "display_name": "Python 3",
   "language": "python",
   "name": "python3"
  },
  "language_info": {
   "codemirror_mode": {
    "name": "ipython",
    "version": 3
   },
   "file_extension": ".py",
   "mimetype": "text/x-python",
   "name": "python",
   "nbconvert_exporter": "python",
   "pygments_lexer": "ipython3",
   "version": "3.6.3"
  }
 },
 "nbformat": 4,
 "nbformat_minor": 2
}
