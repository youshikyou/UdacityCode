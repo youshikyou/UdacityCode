{
 "cells": [
  {
   "cell_type": "markdown",
   "metadata": {
    "graffitiCellId": "id_3ajxm94"
   },
   "source": [
    "### Problem Statement\n",
    "\n",
    "Given an input string, return all permutations of the string in an array.\n",
    "\n",
    "**Example 1:**\n",
    "* `string = 'ab'`\n",
    "* `output = ['ab', 'ba']`\n",
    "\n",
    "**Example 2:**\n",
    "* `string = 'abc'`\n",
    "* `output = ['abc', 'bac', 'bca', 'acb', 'cab', 'cba']`\n"
   ]
  },
  {
   "cell_type": "code",
   "execution_count": 11,
   "metadata": {
    "graffitiCellId": "id_nv5urta"
   },
   "outputs": [
    {
     "name": "stdout",
     "output_type": "stream",
     "text": [
      "item: \n",
      "copyitem: ['b']\n",
      "item: b\n",
      "copyitem: ['a', 'b']\n",
      "copyitem: ['b', 'a']\n",
      "['ab', 'ba']\n"
     ]
    }
   ],
   "source": [
    "import copy\n",
    "def permutations(string):\n",
    "    \"\"\"\n",
    "    :param: input string\n",
    "    Return - list of all permutations of the input string\n",
    "    TODO: complete this function to return a list of all permutations of the string\n",
    "    \"\"\"\n",
    "    \n",
    "    perm = []\n",
    "    \n",
    "    if len(string) ==0:\n",
    "        perm.append('')\n",
    "        return perm\n",
    "    \n",
    "    \n",
    "    first_c = string[0]\n",
    "    other_c = permutations(string[1:])\n",
    "    \n",
    "    \n",
    "    for item in other_c:\n",
    "        print('item:',item)\n",
    "        for pos in range(0,len(item)+1):\n",
    "            copyitem = list(copy.deepcopy(item))\n",
    "            copyitem.insert(pos,first_c)\n",
    "            print('copyitem:',copyitem)\n",
    "            perm.append(''.join(copyitem))\n",
    "            \n",
    "    return perm\n",
    "    \n",
    "    \n",
    "string = 'ab'\n",
    "print(permutations(string))"
   ]
  },
  {
   "cell_type": "markdown",
   "metadata": {
    "graffitiCellId": "id_2d0q2u5"
   },
   "source": [
    "<span class=\"graffiti-highlight graffiti-id_2d0q2u5-id_vkbq25t\"><i></i><button>Show Solution</button></span>"
   ]
  },
  {
   "cell_type": "code",
   "execution_count": 12,
   "metadata": {
    "graffitiCellId": "id_mhqifv4"
   },
   "outputs": [],
   "source": [
    "def test_function(test_case):\n",
    "    string = test_case[0]\n",
    "    solution = test_case[1]\n",
    "    output = permutations(string)\n",
    "    \n",
    "    output.sort()\n",
    "    solution.sort()\n",
    "    \n",
    "    if output == solution:\n",
    "        print(\"Pass\")\n",
    "    else:\n",
    "        print(\"Fail\")"
   ]
  },
  {
   "cell_type": "code",
   "execution_count": 13,
   "metadata": {
    "graffitiCellId": "id_tfd0a1l"
   },
   "outputs": [
    {
     "name": "stdout",
     "output_type": "stream",
     "text": [
      "item: \n",
      "copyitem: ['b']\n",
      "item: b\n",
      "copyitem: ['a', 'b']\n",
      "copyitem: ['b', 'a']\n",
      "Pass\n"
     ]
    }
   ],
   "source": [
    "string = 'ab'\n",
    "solution = ['ab', 'ba']\n",
    "test_case = [string, solution]\n",
    "test_function(test_case)"
   ]
  },
  {
   "cell_type": "code",
   "execution_count": 14,
   "metadata": {
    "graffitiCellId": "id_j5hyexv"
   },
   "outputs": [
    {
     "name": "stdout",
     "output_type": "stream",
     "text": [
      "item: \n",
      "copyitem: ['c']\n",
      "item: c\n",
      "copyitem: ['b', 'c']\n",
      "copyitem: ['c', 'b']\n",
      "item: bc\n",
      "copyitem: ['a', 'b', 'c']\n",
      "copyitem: ['b', 'a', 'c']\n",
      "copyitem: ['b', 'c', 'a']\n",
      "item: cb\n",
      "copyitem: ['a', 'c', 'b']\n",
      "copyitem: ['c', 'a', 'b']\n",
      "copyitem: ['c', 'b', 'a']\n",
      "Pass\n"
     ]
    }
   ],
   "source": [
    "string = 'abc'\n",
    "output = ['abc', 'bac', 'bca', 'acb', 'cab', 'cba']\n",
    "test_case = [string, output]\n",
    "test_function(test_case)"
   ]
  },
  {
   "cell_type": "code",
   "execution_count": 15,
   "metadata": {
    "graffitiCellId": "id_5e53dq2"
   },
   "outputs": [
    {
     "name": "stdout",
     "output_type": "stream",
     "text": [
      "item: \n",
      "copyitem: ['d']\n",
      "item: d\n",
      "copyitem: ['c', 'd']\n",
      "copyitem: ['d', 'c']\n",
      "item: cd\n",
      "copyitem: ['b', 'c', 'd']\n",
      "copyitem: ['c', 'b', 'd']\n",
      "copyitem: ['c', 'd', 'b']\n",
      "item: dc\n",
      "copyitem: ['b', 'd', 'c']\n",
      "copyitem: ['d', 'b', 'c']\n",
      "copyitem: ['d', 'c', 'b']\n",
      "item: bcd\n",
      "copyitem: ['a', 'b', 'c', 'd']\n",
      "copyitem: ['b', 'a', 'c', 'd']\n",
      "copyitem: ['b', 'c', 'a', 'd']\n",
      "copyitem: ['b', 'c', 'd', 'a']\n",
      "item: cbd\n",
      "copyitem: ['a', 'c', 'b', 'd']\n",
      "copyitem: ['c', 'a', 'b', 'd']\n",
      "copyitem: ['c', 'b', 'a', 'd']\n",
      "copyitem: ['c', 'b', 'd', 'a']\n",
      "item: cdb\n",
      "copyitem: ['a', 'c', 'd', 'b']\n",
      "copyitem: ['c', 'a', 'd', 'b']\n",
      "copyitem: ['c', 'd', 'a', 'b']\n",
      "copyitem: ['c', 'd', 'b', 'a']\n",
      "item: bdc\n",
      "copyitem: ['a', 'b', 'd', 'c']\n",
      "copyitem: ['b', 'a', 'd', 'c']\n",
      "copyitem: ['b', 'd', 'a', 'c']\n",
      "copyitem: ['b', 'd', 'c', 'a']\n",
      "item: dbc\n",
      "copyitem: ['a', 'd', 'b', 'c']\n",
      "copyitem: ['d', 'a', 'b', 'c']\n",
      "copyitem: ['d', 'b', 'a', 'c']\n",
      "copyitem: ['d', 'b', 'c', 'a']\n",
      "item: dcb\n",
      "copyitem: ['a', 'd', 'c', 'b']\n",
      "copyitem: ['d', 'a', 'c', 'b']\n",
      "copyitem: ['d', 'c', 'a', 'b']\n",
      "copyitem: ['d', 'c', 'b', 'a']\n",
      "Pass\n"
     ]
    }
   ],
   "source": [
    "string = 'abcd'\n",
    "output = ['abcd', 'bacd', 'bcad', 'bcda', 'acbd', 'cabd', 'cbad', 'cbda', 'acdb', 'cadb', 'cdab', 'cdba', 'abdc', 'badc', 'bdac', 'bdca', 'adbc', 'dabc', 'dbac', 'dbca', 'adcb', 'dacb', 'dcab', 'dcba']\n",
    "test_case = [string, output]\n",
    "test_function(test_case)"
   ]
  },
  {
   "cell_type": "code",
   "execution_count": null,
   "metadata": {
    "graffitiCellId": "id_fcap9ac"
   },
   "outputs": [],
   "source": []
  }
 ],
 "metadata": {
  "graffiti": {
   "firstAuthorId": "dev",
   "id": "id_lyhj8gh",
   "language": "EN"
  },
  "kernelspec": {
   "display_name": "Python 3",
   "language": "python",
   "name": "python3"
  },
  "language_info": {
   "codemirror_mode": {
    "name": "ipython",
    "version": 3
   },
   "file_extension": ".py",
   "mimetype": "text/x-python",
   "name": "python",
   "nbconvert_exporter": "python",
   "pygments_lexer": "ipython3",
   "version": "3.6.3"
  }
 },
 "nbformat": 4,
 "nbformat_minor": 2
}
