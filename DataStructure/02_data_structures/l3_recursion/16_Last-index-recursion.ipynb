{
 "cells": [
  {
   "cell_type": "markdown",
   "metadata": {
    "graffitiCellId": "id_ykogmat"
   },
   "source": [
    "## Problem statement\n",
    "\n",
    "Given an array `arr` and a target element `target`, find the last index of occurence of `target` in `arr` using recursion. If `target` is not present in `arr`, return `-1`.\n",
    "\n",
    "For example:\n",
    "\n",
    "1. For `arr = [1, 2, 5, 5, 4]` and `target = 5`, `output = 3`\n",
    "\n",
    "2. For `arr = [1, 2, 5, 5, 4]` and `target = 7`, `output = -1`"
   ]
  },
  {
   "cell_type": "code",
   "execution_count": 4,
   "metadata": {
    "graffitiCellId": "id_jy2464y"
   },
   "outputs": [
    {
     "data": {
      "text/plain": [
       "5"
      ]
     },
     "execution_count": 4,
     "metadata": {},
     "output_type": "execute_result"
    }
   ],
   "source": [
    "def last_index(arr, target):\n",
    "    \"\"\"\n",
    "    :param: arr - input array\n",
    "    :param: target - integer element\n",
    "    return: int - last index of target in arr\n",
    "    TODO: complete this method to find the last index of target in arr\n",
    "    \"\"\"\n",
    "    '''\n",
    "        solution 是從 array 後面往前走, 因為要求 last index\n",
    "        我從前面走也可以, 就是checking 放在 call 後面, return 後才checking\n",
    "    '''\n",
    "    \n",
    "    return last_idx_helper(arr, target, 0)\n",
    "    \n",
    "def last_idx_helper(arr, target,idx):\n",
    "    \n",
    "    if idx == len(arr):\n",
    "        return -2\n",
    "    \n",
    "\n",
    "    rst = last_idx_helper(arr, target,idx+1)\n",
    "    \n",
    "    if rst >=0:\n",
    "        return rst\n",
    "    \n",
    "    \n",
    "    if arr[idx] == target:\n",
    "        rst = idx\n",
    "    else:\n",
    "        rst = -1\n",
    "\n",
    "    return rst\n",
    "        \n",
    "    \n",
    "    \n",
    "arr = [1, 2, 5, 5, 4]#3\n",
    "target = 5\n",
    "\n",
    "arr = [1, 2, 5, 5, 4]#-1\n",
    "target = 7\n",
    "\n",
    "arr = [91, 19, 3, 8, 9]#0\n",
    "target = 91\n",
    "\n",
    "arr = [1, 1, 1, 1, 1, 1]#5\n",
    "target = 1\n",
    "\n",
    "last_index(arr, target)\n",
    "\n"
   ]
  },
  {
   "cell_type": "markdown",
   "metadata": {
    "graffitiCellId": "id_vwcsmcw"
   },
   "source": [
    "<span class=\"graffiti-highlight graffiti-id_vwcsmcw-id_flmfhqn\"><i></i><button>Show Solution</button></span>"
   ]
  },
  {
   "cell_type": "code",
   "execution_count": 5,
   "metadata": {
    "graffitiCellId": "id_80igiok"
   },
   "outputs": [],
   "source": [
    "def test_function(test_case):\n",
    "    arr = test_case[0]\n",
    "    target = test_case[1]\n",
    "    solution = test_case[2]\n",
    "    output = last_index(arr, target)\n",
    "    if output == solution:\n",
    "        print(\"Pass\")\n",
    "    else:\n",
    "        print(\"False\")"
   ]
  },
  {
   "cell_type": "code",
   "execution_count": null,
   "metadata": {
    "graffitiCellId": "id_flmfhqn"
   },
   "outputs": [],
   "source": [
    "# Solution\n",
    "def last_index(arr, target):\n",
    "    # we start looking from the last index\n",
    "    return last_index_arr(arr, target, len(arr) - 1)\n",
    "\n",
    "\n",
    "def last_index_arr(arr, target, index):\n",
    "    if index < 0:\n",
    "        return -1\n",
    "    \n",
    "    # check if target is found\n",
    "    if arr[index] == target:\n",
    "        return index\n",
    "\n",
    "    # else make a recursive call to the rest of the array\n",
    "    return last_index_arr(arr, target, index - 1)"
   ]
  },
  {
   "cell_type": "code",
   "execution_count": 6,
   "metadata": {
    "graffitiCellId": "id_ph6zw07"
   },
   "outputs": [
    {
     "name": "stdout",
     "output_type": "stream",
     "text": [
      "Pass\n"
     ]
    }
   ],
   "source": [
    "arr = [1, 2, 5, 5, 4]\n",
    "target = 5\n",
    "solution = 3\n",
    "\n",
    "test_case = [arr, target, solution]\n",
    "test_function(test_case)"
   ]
  },
  {
   "cell_type": "code",
   "execution_count": 7,
   "metadata": {
    "graffitiCellId": "id_ikxk069"
   },
   "outputs": [
    {
     "name": "stdout",
     "output_type": "stream",
     "text": [
      "Pass\n"
     ]
    }
   ],
   "source": [
    "arr = [1, 2, 5, 5, 4]\n",
    "target = 7\n",
    "solution = -1\n",
    "\n",
    "test_case = [arr, target, solution]\n",
    "test_function(test_case)"
   ]
  },
  {
   "cell_type": "code",
   "execution_count": 8,
   "metadata": {
    "graffitiCellId": "id_t1qqzpn"
   },
   "outputs": [
    {
     "name": "stdout",
     "output_type": "stream",
     "text": [
      "Pass\n"
     ]
    }
   ],
   "source": [
    "arr = [91, 19, 3, 8, 9]\n",
    "target = 91\n",
    "solution = 0\n",
    "\n",
    "test_case = [arr, target, solution]\n",
    "test_function(test_case)"
   ]
  },
  {
   "cell_type": "code",
   "execution_count": 9,
   "metadata": {
    "graffitiCellId": "id_la123ly"
   },
   "outputs": [
    {
     "name": "stdout",
     "output_type": "stream",
     "text": [
      "Pass\n"
     ]
    }
   ],
   "source": [
    "arr = [1, 1, 1, 1, 1, 1]\n",
    "target = 1\n",
    "solution = 5\n",
    "\n",
    "test_case = [arr, target, solution]\n",
    "test_function(test_case)"
   ]
  },
  {
   "cell_type": "code",
   "execution_count": null,
   "metadata": {
    "graffitiCellId": "id_mm66fa4"
   },
   "outputs": [],
   "source": []
  }
 ],
 "metadata": {
  "graffiti": {
   "firstAuthorId": "dev",
   "id": "id_4mbef37",
   "language": "EN"
  },
  "kernelspec": {
   "display_name": "Python 3",
   "language": "python",
   "name": "python3"
  },
  "language_info": {
   "codemirror_mode": {
    "name": "ipython",
    "version": 3
   },
   "file_extension": ".py",
   "mimetype": "text/x-python",
   "name": "python",
   "nbconvert_exporter": "python",
   "pygments_lexer": "ipython3",
   "version": "3.6.3"
  }
 },
 "nbformat": 4,
 "nbformat_minor": 2
}
