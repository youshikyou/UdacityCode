{
 "cells": [
  {
   "cell_type": "markdown",
   "metadata": {
    "graffitiCellId": "id_raex3xy"
   },
   "source": [
    "## Problem Statement\n",
    "\n",
    "Define a procedure, `deep_reverse`, that takes as input a list, and returns a new list that is the deep reverse of the input list.  \n",
    "This means it reverses all the elements in the list, and if any of those elements are lists themselves, reverses all the elements in the inner list, all the way down. \n",
    "\n",
    ">Note: The procedure must not change the input list itself.\n",
    "\n",
    "\n"
   ]
  },
  {
   "cell_type": "code",
   "execution_count": 45,
   "metadata": {
    "graffitiCellId": "id_ga0lpbe"
   },
   "outputs": [
    {
     "name": "stdout",
     "output_type": "stream",
     "text": [
      "new deep_reverse: [1, [2, 3], 4, [5, 6]]\n",
      "+++++ arr: [1, [2, 3], 4, [5, 6]] 0\n",
      "+++++ arr: [1, [2, 3], 4, [5, 6]] 1\n",
      "+++++ arr: [1, [2, 3], 4, [5, 6]] 2\n",
      "+++++ arr: [1, [2, 3], 4, [5, 6]] 3\n",
      "+++++ arr: [1, [2, 3], 4, [5, 6]] 4\n",
      "hit base case, return [], idx: 4\n",
      "output: []\n",
      "arr[ 3 ] is_list: [5, 6]\n",
      "new deep_reverse: [5, 6]\n",
      "+++++ arr: [5, 6] 0\n",
      "+++++ arr: [5, 6] 1\n",
      "+++++ arr: [5, 6] 2\n",
      "hit base case, return [], idx: 2\n",
      "output: []\n",
      "num direct append\n",
      "output: [6]\n",
      "num direct append\n",
      "output: [[6, 5]]\n",
      "num direct append\n",
      "output: [[6, 5], 4]\n",
      "arr[ 1 ] is_list: [2, 3]\n",
      "new deep_reverse: [2, 3]\n",
      "+++++ arr: [2, 3] 0\n",
      "+++++ arr: [2, 3] 1\n",
      "+++++ arr: [2, 3] 2\n",
      "hit base case, return [], idx: 2\n",
      "output: []\n",
      "num direct append\n",
      "output: [3]\n",
      "num direct append\n",
      "output: [[6, 5], 4, [3, 2]]\n",
      "num direct append\n",
      "[[6, 5], 4, [3, 2], 1]\n"
     ]
    }
   ],
   "source": [
    "def is_list(element):\n",
    "    \"\"\"\n",
    "    Check if element is a Python list\n",
    "    \"\"\"\n",
    "    '''\n",
    "        先問自己, 我們到底在重複做什麼事情\n",
    "            => 0. 用 idx +1 往下call, loop 當前的arr內容,把當前arr 走完(idx == len(arr))\n",
    "                如果hit 到 base case 了, 表示這個arr 內容物的call stack 都在你上面\n",
    "                \n",
    "                拿到一個 base case 的 [], 接著決定要前一個item 要再拆, 還是可以直接 append\n",
    "                => a. 看到內容是list() 時, 重新走0,再拆開list\n",
    "                => b. 當item 是數字, 直接append 起來, 因為是從bottom append 起來, 就會是reversed\n",
    "    '''\n",
    "    return isinstance(element, list)\n",
    "\n",
    "def deep_reverse(arr):\n",
    "    print('new deep_reverse:',arr)\n",
    "    rst = deep_reverse_helper(arr,0)\n",
    "    return rst\n",
    "\n",
    "def deep_reverse_helper(arr,idx):\n",
    "    \n",
    "    print('+++++ arr:',arr,idx)\n",
    "    \n",
    "    #arr 一直是原來的\n",
    "    if idx == len(arr):\n",
    "        print('hit base case, return [], idx:',idx)\n",
    "        return []#表示已經超過arr 了\n",
    "\n",
    "    output = deep_reverse_helper(arr,idx+1)\n",
    "    print('output:',output)\n",
    "    #第一個回上來的 output 應該是 []空的\n",
    "    \n",
    "    if is_list(arr[idx]):\n",
    "        #整個再重做一次\n",
    "        print('arr[',idx,'] is_list:',arr[idx])\n",
    "        to_append = deep_reverse(arr[idx])\n",
    "    else:\n",
    "        #數字的話直接append , 不用再rever\n",
    "        print('num direct append')\n",
    "        to_append = arr[idx]\n",
    "    \n",
    "    #因為從call stack 最底層開始append 就是revers 了\n",
    "    output.append(to_append)\n",
    "    \n",
    "    return output\n",
    "    \n",
    "arr = [1, 2, 3, 4, 5]\n",
    "#arr = [1, [2, 3, [4, [5, 6]]]]#[[[[6, 5], 4], 3, 2], 1]\n",
    "arr =  [1, [2,3], 4, [5,6]]\n",
    "\n",
    "print(deep_reverse(arr))"
   ]
  },
  {
   "cell_type": "code",
   "execution_count": 31,
   "metadata": {
    "graffitiCellId": "id_l0hi76f"
   },
   "outputs": [],
   "source": [
    "def is_list(element):\n",
    "    \"\"\"\n",
    "    Check if element is a Python list\n",
    "    \"\"\"\n",
    "    return isinstance(element, list)\n",
    "\n",
    "def deep_reverse(arr):\n",
    "    \"\"\"\n",
    "    Function to deep_reverse an input list\n",
    "    \"\"\"\n",
    "\n",
    "    return deep_reverse_func(arr, 0)\n",
    "\n",
    "def deep_reverse_func(arr, index):\n",
    "    \"\"\"\n",
    "    Recursive function to deep_reverse the input list\n",
    "    \"\"\"\n",
    "\n",
    "    \n",
    "    # Base Case\n",
    "    if index == len(arr):\n",
    "        return list()\n",
    "    \n",
    "    output = deep_reverse_func(arr, index + 1)\n",
    "    \n",
    "    # if element is a list --> deep_reverse the list\n",
    "    if is_list(arr[index]):\n",
    "        to_append = deep_reverse(arr[index])\n",
    "    else:\n",
    "        to_append = arr[index]\n",
    "        \n",
    "    output.append(to_append)\n",
    "    return output"
   ]
  },
  {
   "cell_type": "markdown",
   "metadata": {
    "graffitiCellId": "id_25r0ar8"
   },
   "source": [
    "<span class=\"graffiti-highlight graffiti-id_25r0ar8-id_l0hi76f\"><i></i><button>Show Solution</button></span>"
   ]
  },
  {
   "cell_type": "code",
   "execution_count": 16,
   "metadata": {
    "graffitiCellId": "id_qgv6buk"
   },
   "outputs": [],
   "source": [
    "def test_function(test_case):\n",
    "    arr = test_case[0]\n",
    "    solution = test_case[1]\n",
    "    \n",
    "    output = deep_reverse(arr)\n",
    "    if output == solution:\n",
    "        print(\"Pass\")\n",
    "    else:\n",
    "        print(\"False\")"
   ]
  },
  {
   "cell_type": "code",
   "execution_count": null,
   "metadata": {
    "graffitiCellId": "id_96zra8y"
   },
   "outputs": [],
   "source": [
    "arr = [1, 2, 3, 4, 5]\n",
    "solution = [5, 4, 3, 2, 1]\n",
    "test_case = [arr, solution]\n",
    "test_function(test_case)"
   ]
  },
  {
   "cell_type": "code",
   "execution_count": null,
   "metadata": {
    "graffitiCellId": "id_ptx3y5c"
   },
   "outputs": [],
   "source": [
    "arr = [1, 2, [3, 4, 5], 4, 5]\n",
    "solution = [5, 4, [5, 4, 3], 2, 1]\n",
    "test_case = [arr, solution]\n",
    "test_function(test_case)"
   ]
  },
  {
   "cell_type": "code",
   "execution_count": null,
   "metadata": {
    "graffitiCellId": "id_hblffre"
   },
   "outputs": [],
   "source": [
    "arr = [1, [2, 3, [4, [5, 6]]]]\n",
    "solution = [[[[6, 5], 4], 3, 2], 1]\n",
    "test_case = [arr, solution]\n",
    "test_function(test_case)"
   ]
  },
  {
   "cell_type": "code",
   "execution_count": null,
   "metadata": {
    "graffitiCellId": "id_ltvv7w1"
   },
   "outputs": [],
   "source": [
    "arr =  [1, [2,3], 4, [5,6]]\n",
    "solution = [ [6,5], 4, [3, 2], 1]\n",
    "test_case = [arr, solution]\n",
    "test_function(test_case)"
   ]
  }
 ],
 "metadata": {
  "graffiti": {
   "firstAuthorId": "dev",
   "id": "id_u69esyt",
   "language": "EN"
  },
  "kernelspec": {
   "display_name": "Python 3",
   "language": "python",
   "name": "python3"
  },
  "language_info": {
   "codemirror_mode": {
    "name": "ipython",
    "version": 3
   },
   "file_extension": ".py",
   "mimetype": "text/x-python",
   "name": "python",
   "nbconvert_exporter": "python",
   "pygments_lexer": "ipython3",
   "version": "3.6.3"
  }
 },
 "nbformat": 4,
 "nbformat_minor": 2
}
