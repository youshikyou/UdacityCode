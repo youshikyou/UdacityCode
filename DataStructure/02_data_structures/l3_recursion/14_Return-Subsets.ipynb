{
 "cells": [
  {
   "cell_type": "markdown",
   "metadata": {
    "graffitiCellId": "id_46ikwkw"
   },
   "source": [
    "### Problem Statement\n",
    "\n",
    "\n",
    "Given an integer array, find and return all the subsets of the array.\n",
    "The order of subsets in the output array is not important. However the order of elements in a particular subset should remain the same as in the input array.\n",
    "\n",
    "*Note: An empty set will be represented by an empty list*\n",
    "\n",
    "**Example 1**\n",
    "\n",
    "```\n",
    "arr = [9]\n",
    "\n",
    "output = [[]\n",
    "          [9]]\n",
    "```\n",
    "\n",
    "**Example 2**\n",
    "\n",
    "```\n",
    "arr = [9, 12, 15]\n",
    "\n",
    "output =  [[],\n",
    "           [15],\n",
    "           [12],\n",
    "           [12, 15],\n",
    "           [9],\n",
    "           [9, 15],\n",
    "           [9, 12],\n",
    "           [9, 12, 15]]\n",
    "```"
   ]
  },
  {
   "cell_type": "code",
   "execution_count": 54,
   "metadata": {
    "graffitiCellId": "id_ednyqq0"
   },
   "outputs": [
    {
     "name": "stdout",
     "output_type": "stream",
     "text": [
      "arr: [9, 12, 15]\n",
      "first_ele: 9 other_ele: [12, 15]\n",
      "arr: [12, 15]\n",
      "first_ele: 12 other_ele: [15]\n",
      "arr: [15]\n",
      "first_ele: 15 other_ele: []\n",
      "arr: []\n",
      "  hit base case, return []\n",
      "output: [[]] len 1\n",
      "output: [[15], []] len 2\n",
      "output: [[12, 15], [15], [12], []] len 4\n",
      "[[9, 12, 15], [12, 15], [9, 15], [15], [9, 12], [12], [9], []]\n"
     ]
    }
   ],
   "source": [
    "import copy\n",
    "def subsets(arr):\n",
    "    \"\"\"\n",
    "    :param: arr - input integer array\n",
    "    Return - list of lists (two dimensional array) where each list represents a subset\n",
    "    TODO: complete this method to return subsets of an array\n",
    "    \"\"\"\n",
    "    \n",
    "    '''\n",
    "    \n",
    "        我這邊用的是 排列組合的技巧, 強迫插入在 index 0\n",
    "        solution 又用了雙層重call 技巧, 學習一下, \n",
    "            雙層重call, 第一層是主funA,helperB \n",
    "            就是一般情況A call helper B->B->B->B, 有想整組再一次時,往頭重新call A\n",
    "    \n",
    "    '''\n",
    "    print('arr:',arr)\n",
    "    if len(arr) == 0:\n",
    "        print('  hit base case, return []')\n",
    "        return [[]]\n",
    "    \n",
    "    rst = []\n",
    "    first_ele = arr[0]\n",
    "    other_ele = arr[1:]\n",
    "    print('first_ele:',first_ele,'other_ele:',other_ele)\n",
    "    \n",
    "    output = subsets(other_ele)\n",
    "    print('output:',output,'len',len(output))\n",
    "            \n",
    "    outpucopy= []\n",
    "\n",
    "    for idx in range(len(output)):\n",
    "        \n",
    "        item = output[idx]\n",
    "        \n",
    "        if isinstance(item,list):\n",
    "            coptmp = copy.deepcopy(item)\n",
    "            coptmp.insert(0,first_ele)\n",
    "            outpucopy.append(coptmp)\n",
    "            outpucopy.append(item)\n",
    "\n",
    "        else:\n",
    "            outpucopy = [first_ele,item]\n",
    "            \n",
    "\n",
    "    return outpucopy\n",
    "        \n",
    "    \n",
    "    \n",
    "    \n",
    "    \n",
    "arr = [9] #[[], [9]]\n",
    "arr = [5, 7]#[[], [7], [5], [5, 7]]\n",
    "arr = [9, 12, 15]#[[], [15], [12], [12, 15], [9], [9, 15], [9, 12], [9, 12, 15]]\n",
    "\n",
    "print(subsets(arr))"
   ]
  },
  {
   "cell_type": "markdown",
   "metadata": {
    "graffitiCellId": "id_u30cq9y"
   },
   "source": [
    "<span class=\"graffiti-highlight graffiti-id_u30cq9y-id_2p8ft48\"><i></i><button>Hide Solution</button></span>"
   ]
  },
  {
   "cell_type": "code",
   "execution_count": null,
   "metadata": {
    "graffitiCellId": "id_2p8ft48"
   },
   "outputs": [],
   "source": [
    "# Solution\n",
    "def subsets(arr):\n",
    "    return return_subsets(arr, 0)\n",
    "\n",
    "def return_subsets(arr, index):\n",
    "    if index >= len(arr):\n",
    "        return [[]]\n",
    "\n",
    "    small_output = return_subsets(arr, index + 1)\n",
    "\n",
    "    output = list()\n",
    "    # append existing subsets\n",
    "    for element in small_output:\n",
    "        output.append(element)\n",
    "\n",
    "    # add current elements to existing subsets and add them to the output\n",
    "    for element in small_output:\n",
    "        current = list()\n",
    "        current.append(arr[index])\n",
    "        current.extend(element)\n",
    "        output.append(current)\n",
    "    return output"
   ]
  },
  {
   "cell_type": "code",
   "execution_count": 41,
   "metadata": {
    "graffitiCellId": "id_lov2dw6"
   },
   "outputs": [],
   "source": [
    "def test_function(test_case):\n",
    "    arr = test_case[0]\n",
    "    solution = test_case[1]\n",
    "    \n",
    "    output = subsets(arr)\n",
    "        \n",
    "    output.sort()\n",
    "    solution.sort()\n",
    "    \n",
    "    if output == solution:\n",
    "        print(\"Pass\")\n",
    "    else:\n",
    "        print(\"Fail\")    "
   ]
  },
  {
   "cell_type": "code",
   "execution_count": 50,
   "metadata": {
    "graffitiCellId": "id_vtr8t48"
   },
   "outputs": [
    {
     "name": "stdout",
     "output_type": "stream",
     "text": [
      "arr: [9]\n",
      "first_ele: 9 other_ele: []\n",
      "arr: []\n",
      "  hit base case, return []\n",
      "output: [[]] len 1\n",
      "Pass\n"
     ]
    }
   ],
   "source": [
    "arr = [9]\n",
    "solution = [[], [9]]\n",
    "\n",
    "test_case = [arr, solution]\n",
    "test_function(test_case)"
   ]
  },
  {
   "cell_type": "code",
   "execution_count": 51,
   "metadata": {
    "graffitiCellId": "id_hox5lyf"
   },
   "outputs": [
    {
     "name": "stdout",
     "output_type": "stream",
     "text": [
      "arr: [5, 7]\n",
      "first_ele: 5 other_ele: [7]\n",
      "arr: [7]\n",
      "first_ele: 7 other_ele: []\n",
      "arr: []\n",
      "  hit base case, return []\n",
      "output: [[]] len 1\n",
      "output: [[7], []] len 2\n",
      "Pass\n"
     ]
    }
   ],
   "source": [
    "arr = [5, 7]\n",
    "solution = [[], [7], [5], [5, 7]]\n",
    "test_case = [arr, solution]\n",
    "test_function(test_case)"
   ]
  },
  {
   "cell_type": "code",
   "execution_count": 52,
   "metadata": {
    "graffitiCellId": "id_ufx2e38"
   },
   "outputs": [
    {
     "name": "stdout",
     "output_type": "stream",
     "text": [
      "arr: [9, 12, 15]\n",
      "first_ele: 9 other_ele: [12, 15]\n",
      "arr: [12, 15]\n",
      "first_ele: 12 other_ele: [15]\n",
      "arr: [15]\n",
      "first_ele: 15 other_ele: []\n",
      "arr: []\n",
      "  hit base case, return []\n",
      "output: [[]] len 1\n",
      "output: [[15], []] len 2\n",
      "output: [[12, 15], [15], [12], []] len 4\n",
      "Pass\n"
     ]
    }
   ],
   "source": [
    "arr = [9, 12, 15]\n",
    "solution = [[], [15], [12], [12, 15], [9], [9, 15], [9, 12], [9, 12, 15]]\n",
    "\n",
    "test_case = [arr, solution]\n",
    "test_function(test_case)"
   ]
  },
  {
   "cell_type": "code",
   "execution_count": 53,
   "metadata": {
    "graffitiCellId": "id_4h3wfx7"
   },
   "outputs": [
    {
     "name": "stdout",
     "output_type": "stream",
     "text": [
      "arr: [9, 8, 9, 8]\n",
      "first_ele: 9 other_ele: [8, 9, 8]\n",
      "arr: [8, 9, 8]\n",
      "first_ele: 8 other_ele: [9, 8]\n",
      "arr: [9, 8]\n",
      "first_ele: 9 other_ele: [8]\n",
      "arr: [8]\n",
      "first_ele: 8 other_ele: []\n",
      "arr: []\n",
      "  hit base case, return []\n",
      "output: [[]] len 1\n",
      "output: [[8], []] len 2\n",
      "output: [[9, 8], [8], [9], []] len 4\n",
      "output: [[8, 9, 8], [9, 8], [8, 8], [8], [8, 9], [9], [8], []] len 8\n",
      "Pass\n"
     ]
    }
   ],
   "source": [
    "arr = [9, 8, 9, 8]\n",
    "solution = [[],\n",
    "[8],\n",
    "[9],\n",
    "[9, 8],\n",
    "[8],\n",
    "[8, 8],\n",
    "[8, 9],\n",
    "[8, 9, 8],\n",
    "[9],\n",
    "[9, 8],\n",
    "[9, 9],\n",
    "[9, 9, 8],\n",
    "[9, 8],\n",
    "[9, 8, 8],\n",
    "[9, 8, 9],\n",
    "[9, 8, 9, 8]]\n",
    "\n",
    "test_case = [arr, solution]\n",
    "test_function(test_case)"
   ]
  },
  {
   "cell_type": "code",
   "execution_count": null,
   "metadata": {
    "graffitiCellId": "id_9wiepqk"
   },
   "outputs": [],
   "source": []
  }
 ],
 "metadata": {
  "graffiti": {
   "firstAuthorId": "dev",
   "id": "id_0z6x8e1",
   "language": "EN"
  },
  "kernelspec": {
   "display_name": "Python 3",
   "language": "python",
   "name": "python3"
  },
  "language_info": {
   "codemirror_mode": {
    "name": "ipython",
    "version": 3
   },
   "file_extension": ".py",
   "mimetype": "text/x-python",
   "name": "python",
   "nbconvert_exporter": "python",
   "pygments_lexer": "ipython3",
   "version": "3.6.3"
  }
 },
 "nbformat": 4,
 "nbformat_minor": 2
}
