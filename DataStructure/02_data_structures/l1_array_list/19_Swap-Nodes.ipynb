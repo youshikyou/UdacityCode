{
 "cells": [
  {
   "cell_type": "markdown",
   "metadata": {
    "graffitiCellId": "id_wwy91p2"
   },
   "source": [
    "## Problem Statement\n",
    "\n",
    "Given a linked list, swap the two nodes present at position `i` and `j`. The positions are based on 0-based indexing.\n",
    "\n",
    "**Note:** You have to swap the nodes and not just the values. \n",
    "\n",
    "**Example:**\n",
    "* `linked_list = 3 4 5 2 6 1 9`\n",
    "* `positions = 3 4`\n",
    "* `output = 3 4 5 6 2 1 9`\n",
    "\n",
    "**Explanation:** \n",
    "* The node at position 3 has the value `2`\n",
    "* The node at position 4 has the value `6`\n",
    "* Swapping these nodes will result in a final order of nodes of `3 4 5 6 2 1 9`"
   ]
  },
  {
   "cell_type": "code",
   "execution_count": 1,
   "metadata": {
    "graffitiCellId": "id_s77kdg7"
   },
   "outputs": [],
   "source": [
    "class Node:\n",
    "    \"\"\"LinkedListNode class to be used for this problem\"\"\"\n",
    "    def __init__(self, data):\n",
    "        self.data = data\n",
    "        self.next = None"
   ]
  },
  {
   "cell_type": "code",
   "execution_count": 34,
   "metadata": {
    "graffitiCellId": "id_c4tesrj"
   },
   "outputs": [
    {
     "name": "stdout",
     "output_type": "stream",
     "text": [
      "0\n",
      "1\n",
      "2\n",
      "3\n",
      "4\n",
      "test\n",
      "5\n",
      "2\n",
      "2\n",
      "6\n",
      "non head swap\n",
      "Pass\n"
     ]
    }
   ],
   "source": [
    "def swap_nodes(head, left_index, right_index):\n",
    "    \"\"\"\n",
    "    :param: head- head of input linked list\n",
    "    :param: left_index - indicates position\n",
    "    :param: right_index - indicates position\n",
    "    return: head of updated linked list with nodes swapped\n",
    "    TODO: complete this function and swap nodes present at left_index and right_index\n",
    "    Do not create a new linked list\n",
    "    \"\"\"\n",
    "    \n",
    "    if left_index == right_index:\n",
    "        return head\n",
    "    \n",
    "    \n",
    "    \n",
    "    \n",
    "    curp = head\n",
    "    cnt = 0\n",
    "    lnode = None\n",
    "    plnode = None\n",
    "    \n",
    "    rnode = None\n",
    "    prnode = None\n",
    "    \n",
    "    while curp!=None:\n",
    "        print(cnt)\n",
    "        if left_index > 0:\n",
    "            #find left node\n",
    "            if cnt == left_index-1:\n",
    "                plnode = curp\n",
    "            if cnt == left_index:\n",
    "                lnode = curp\n",
    "        elif left_index ==0:\n",
    "            plnode = None\n",
    "            lnode = head\n",
    "            \n",
    "            \n",
    "        if cnt == right_index-1:\n",
    "            prnode = curp\n",
    "        if cnt == right_index:\n",
    "            rnode = curp\n",
    "            break\n",
    "            \n",
    "        \n",
    "        curp = curp.next\n",
    "        cnt +=1\n",
    "        \n",
    "    print(\"test\")\n",
    "    \n",
    "    \n",
    "    #print(plnode,lnode,prnode,rnode)\n",
    "    if plnode:\n",
    "        print(plnode.data)\n",
    "    if lnode:\n",
    "        print(lnode.data)\n",
    "    if prnode:\n",
    "        print(prnode.data)\n",
    "    if rnode:\n",
    "        print(rnode.data)\n",
    "    \n",
    "    \n",
    "    if lnode != head:\n",
    "        #non head swap\n",
    "        print('non head swap')\n",
    "        plnode.next = rnode\n",
    "        prnode.next = lnode\n",
    "        \n",
    "        tmplnxt = lnode.next\n",
    "        tmprnxt = rnode.next\n",
    "        \n",
    "        rnode.next = tmplnxt\n",
    "        lnode.next = tmprnxt\n",
    "        \n",
    "    else:\n",
    "        #lnode is head\n",
    "        print('head swap')\n",
    "\n",
    "        prnode.next = lnode\n",
    "        head = rnode\n",
    "        \n",
    "        tmprnxt = rnode.next\n",
    "        rnode.next = lnode.next\n",
    "        lnode.next = tmprnxt\n",
    "\n",
    "    return head\n",
    "\n",
    "arr = [3, 4, 5, 2, 6, 1, 9]\n",
    "head = create_linked_list(arr)\n",
    "left_index = 3\n",
    "right_index = 4\n",
    "\n",
    "test_case = [head, left_index, right_index]\n",
    "updated_head = test_function(test_case)"
   ]
  },
  {
   "cell_type": "markdown",
   "metadata": {
    "graffitiCellId": "id_cek9joh"
   },
   "source": [
    "<span class=\"graffiti-highlight graffiti-id_cek9joh-id_kqbupgc\"><i></i><button>Hide Solution</button></span>"
   ]
  },
  {
   "cell_type": "code",
   "execution_count": null,
   "metadata": {
    "graffitiCellId": "id_kqbupgc"
   },
   "outputs": [],
   "source": [
    "# Solution\n",
    "\n",
    "def swap_nodes(head, left_index, right_index):\n",
    "\n",
    "    # if both the indices are same\n",
    "    if left_index == right_index:\n",
    "        return head\n",
    "    \n",
    "    \n",
    "    left_previous = None\n",
    "    left_current = None\n",
    "\n",
    "    right_previous = None\n",
    "    right_current = None\n",
    "\n",
    "    count = 0\n",
    "    temp = head\n",
    "    new_head = None\n",
    "\n",
    "    # find out previous and current node at both the indices\n",
    "    while temp is not None:\n",
    "        if count == left_index:\n",
    "            left_current = temp\n",
    "        elif count == right_index:\n",
    "            right_current = temp\n",
    "            break\n",
    "\n",
    "        if left_current is None:\n",
    "            left_previous = temp\n",
    "        right_previous = temp\n",
    "        temp = temp.next\n",
    "        count += 1\n",
    "\n",
    "    right_previous.next = left_current\n",
    "    temp = left_current.next\n",
    "    left_current.next = right_current.next\n",
    "\n",
    "    # if both the indices are next to each other\n",
    "    if left_index != right_index:\n",
    "        right_current.next = temp\n",
    "\n",
    "    # if the node at first index is head of the original linked list\n",
    "    if left_previous is None:\n",
    "        new_head = right_current\n",
    "    else:\n",
    "        left_previous.next = right_current\n",
    "        new_head = head\n",
    "\n",
    "    return new_head"
   ]
  },
  {
   "cell_type": "code",
   "execution_count": 19,
   "metadata": {
    "graffitiCellId": "id_lzqbwc8"
   },
   "outputs": [],
   "source": [
    "def test_function(test_case):\n",
    "    head = test_case[0]\n",
    "    left_index = test_case[1]\n",
    "    right_index = test_case[2]\n",
    "    \n",
    "    left_node = None\n",
    "    right_node = None\n",
    "    \n",
    "    temp = head\n",
    "    index = 0\n",
    "    try:\n",
    "        while temp is not None:\n",
    "            if index == left_index:\n",
    "                left_node = temp\n",
    "            if index == right_index:\n",
    "                right_node = temp\n",
    "                break\n",
    "            index += 1\n",
    "            temp = temp.next\n",
    "\n",
    "        updated_head = swap_nodes(head, left_index, right_index)\n",
    "\n",
    "        temp = updated_head\n",
    "        index = 0\n",
    "        pass_status = [False, False]\n",
    "\n",
    "        while temp is not None:\n",
    "            if index == left_index:\n",
    "                pass_status[0] = temp is right_node\n",
    "            if index == right_index:\n",
    "                pass_status[1] = temp is left_node\n",
    "\n",
    "            index += 1\n",
    "            temp = temp.next\n",
    "\n",
    "        if pass_status[0] and pass_status[1]:\n",
    "            print(\"Pass\")\n",
    "        else:\n",
    "            print(\"Fail\")\n",
    "        return updated_head\n",
    "    except Exception as e:\n",
    "        print(\"Fail\")"
   ]
  },
  {
   "cell_type": "code",
   "execution_count": 20,
   "metadata": {
    "graffitiCellId": "id_dmn7hpj"
   },
   "outputs": [],
   "source": [
    "# helper functions for testing purpose\n",
    "def create_linked_list(arr):\n",
    "    if len(arr)==0:\n",
    "        return None\n",
    "    head = Node(arr[0])\n",
    "    tail = head\n",
    "    for data in arr[1:]:\n",
    "        tail.next = Node(data)\n",
    "        tail = tail.next\n",
    "    return head\n",
    "\n",
    "def print_linked_list(head):\n",
    "    while head:\n",
    "        print(head.data, end=\" \")\n",
    "        head = head.next\n",
    "    print()"
   ]
  },
  {
   "cell_type": "code",
   "execution_count": 35,
   "metadata": {
    "graffitiCellId": "id_vf3gh3b"
   },
   "outputs": [
    {
     "name": "stdout",
     "output_type": "stream",
     "text": [
      "0\n",
      "1\n",
      "2\n",
      "3\n",
      "4\n",
      "test\n",
      "5\n",
      "2\n",
      "2\n",
      "6\n",
      "non head swap\n",
      "Pass\n"
     ]
    }
   ],
   "source": [
    "arr = [3, 4, 5, 2, 6, 1, 9]\n",
    "head = create_linked_list(arr)\n",
    "left_index = 3\n",
    "right_index = 4\n",
    "\n",
    "test_case = [head, left_index, right_index]\n",
    "updated_head = test_function(test_case)"
   ]
  },
  {
   "cell_type": "code",
   "execution_count": 36,
   "metadata": {
    "graffitiCellId": "id_hmw9ljb"
   },
   "outputs": [
    {
     "name": "stdout",
     "output_type": "stream",
     "text": [
      "0\n",
      "1\n",
      "2\n",
      "3\n",
      "4\n",
      "test\n",
      "4\n",
      "5\n",
      "2\n",
      "6\n",
      "non head swap\n",
      "Pass\n"
     ]
    }
   ],
   "source": [
    "arr = [3, 4, 5, 2, 6, 1, 9]\n",
    "left_index = 2 \n",
    "right_index = 4\n",
    "head = create_linked_list(arr)\n",
    "test_case = [head, left_index, right_index]\n",
    "updated_head = test_function(test_case)"
   ]
  },
  {
   "cell_type": "code",
   "execution_count": 37,
   "metadata": {
    "graffitiCellId": "id_vekfhar"
   },
   "outputs": [
    {
     "name": "stdout",
     "output_type": "stream",
     "text": [
      "0\n",
      "1\n",
      "test\n",
      "3\n",
      "3\n",
      "4\n",
      "head swap\n",
      "Pass\n"
     ]
    }
   ],
   "source": [
    "arr = [3, 4, 5, 2, 6, 1, 9]\n",
    "left_index = 0\n",
    "right_index = 1\n",
    "head = create_linked_list(arr)\n",
    "test_case = [head, left_index, right_index]\n",
    "updated_head = test_function(test_case)"
   ]
  },
  {
   "cell_type": "code",
   "execution_count": null,
   "metadata": {
    "graffitiCellId": "id_iveqd8c"
   },
   "outputs": [],
   "source": []
  }
 ],
 "metadata": {
  "graffiti": {
   "firstAuthorId": "dev",
   "id": "id_cuns29g",
   "language": "EN"
  },
  "kernelspec": {
   "display_name": "Python 3",
   "language": "python",
   "name": "python3"
  },
  "language_info": {
   "codemirror_mode": {
    "name": "ipython",
    "version": 3
   },
   "file_extension": ".py",
   "mimetype": "text/x-python",
   "name": "python",
   "nbconvert_exporter": "python",
   "pygments_lexer": "ipython3",
   "version": "3.6.3"
  }
 },
 "nbformat": 4,
 "nbformat_minor": 2
}
