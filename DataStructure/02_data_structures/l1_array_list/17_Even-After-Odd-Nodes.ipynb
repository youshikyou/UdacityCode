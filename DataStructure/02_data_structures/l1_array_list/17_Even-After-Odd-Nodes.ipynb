{
 "cells": [
  {
   "cell_type": "markdown",
   "metadata": {
    "graffitiCellId": "id_ow7e8a4"
   },
   "source": [
    "### Problem Statement\n",
    "\n",
    "Given a linked list with integer data, arrange the elements in such a manner that all nodes with even numbers are placed after odd numbers. **Do not create any new nodes and avoid using any other data structure. The relative order of even and odd elements must not change.** \n",
    "\n",
    "**Example:**\n",
    "* `linked list = 1 2 3 4 5 6`\n",
    "* `output = 1 3 5 2 4 6`"
   ]
  },
  {
   "cell_type": "code",
   "execution_count": 1,
   "metadata": {
    "graffitiCellId": "id_7vmjo6u"
   },
   "outputs": [],
   "source": [
    "class Node:\n",
    "    def __init__(self, data):\n",
    "        self.data = data\n",
    "        self.next = None"
   ]
  },
  {
   "cell_type": "code",
   "execution_count": 13,
   "metadata": {
    "graffitiCellId": "id_hhuh98d"
   },
   "outputs": [
    {
     "name": "stdout",
     "output_type": "stream",
     "text": [
      "test\n",
      "Pass\n"
     ]
    }
   ],
   "source": [
    "def even_after_odd(head):\n",
    "    \"\"\"\n",
    "    :param - head - head of linked list\n",
    "    return - updated list with all even elements are odd elements\n",
    "    \"\"\"\n",
    "    if head == None:\n",
    "        return -1\n",
    "    \n",
    "    #單純想link 分成兩個\n",
    "    addH = None\n",
    "    addC = None\n",
    "    \n",
    "    evenH = None\n",
    "    evenC = None\n",
    "    \n",
    "    \n",
    "    curp = head\n",
    "    \n",
    "    \n",
    "    while curp!=None:\n",
    "        \n",
    "        if curp.data %2 == 0:\n",
    "            #even\n",
    "                        \n",
    "            #first node\n",
    "            if evenH == None:\n",
    "                evenH = curp\n",
    "                evenC = evenH\n",
    "                curp = curp.next\n",
    "                evenC.next = None\n",
    "            else:\n",
    "            #not the first of even list\n",
    "                evenc.next = curp\n",
    "                evenc =  curp\n",
    "                curp = curp.next\n",
    "                evenc.next = None\n",
    "            \n",
    "        else:\n",
    "            #add\n",
    "    \n",
    "                        \n",
    "            #first node\n",
    "            if addH == None:\n",
    "                addH = curp\n",
    "                addc = addH\n",
    "                curp = curp.next\n",
    "                addc.next = None\n",
    "\n",
    "            else:\n",
    "            #not the first of add list\n",
    "                addc.next = curp\n",
    "                addc =  curp\n",
    "                curp = curp.next\n",
    "                addc.next = None\n",
    "            \n",
    "                \n",
    "        print('test')\n",
    "        \n",
    "        if addH == None:\n",
    "            return evenH\n",
    "        elif evenH == None:\n",
    "            return addH\n",
    "        else:\n",
    "            addc.next = evenH\n",
    "            return addH\n",
    "    \n",
    "    \n",
    "    \n",
    "    \n",
    "arr = [1, 2, 3, 22, 7, 11]\n",
    "solution = [1, 3, 7, 11, 2, 22]\n",
    "\n",
    "head = create_linked_list(arr)\n",
    "test_case = [head, solution]\n",
    "test_function(test_case)"
   ]
  },
  {
   "cell_type": "markdown",
   "metadata": {
    "graffitiCellId": "id_xpuflcm"
   },
   "source": [
    "<span class=\"graffiti-highlight graffiti-id_xpuflcm-id_9q4n7o8\"><i></i><button>Show Solution</button></span>"
   ]
  },
  {
   "cell_type": "code",
   "execution_count": 3,
   "metadata": {
    "graffitiCellId": "id_u1fjo92"
   },
   "outputs": [],
   "source": [
    "# helper functions for testing purpose\n",
    "def create_linked_list(arr):\n",
    "    if len(arr)==0:\n",
    "        return None\n",
    "    head = Node(arr[0])\n",
    "    tail = head\n",
    "    for data in arr[1:]:\n",
    "        tail.next = Node(data)\n",
    "        tail = tail.next\n",
    "    return head\n",
    "\n",
    "def print_linked_list(head):\n",
    "    while head:\n",
    "        print(head.data, end=' ')\n",
    "        head = head.next\n",
    "    print()"
   ]
  },
  {
   "cell_type": "code",
   "execution_count": 4,
   "metadata": {
    "graffitiCellId": "id_9q4n7o8"
   },
   "outputs": [],
   "source": [
    "# Solution\n",
    "def even_after_odd(head):\n",
    "    \n",
    "    if head is None:\n",
    "        return head\n",
    "    \n",
    "    even = None\n",
    "    odd = None\n",
    "    even_tail = None\n",
    "    head_tail = None\n",
    "    \n",
    "    while head:\n",
    "        next_node = head.next\n",
    "        \n",
    "        if head.data % 2 == 0:\n",
    "            if even is None:\n",
    "                even = head\n",
    "                even_tail = even\n",
    "            else:\n",
    "                even_tail.next = head\n",
    "                even_tail = even_tail.next\n",
    "        else:\n",
    "            if odd is None:\n",
    "                odd = head\n",
    "                odd_tail = odd\n",
    "            else:\n",
    "                odd_tail.next = head\n",
    "                odd_tail = odd_tail.next\n",
    "        head.next = None\n",
    "        head = next_node\n",
    "    \n",
    "    if odd is None:\n",
    "        return even\n",
    "    odd_tail.next = even\n",
    "    return odd"
   ]
  },
  {
   "cell_type": "code",
   "execution_count": 5,
   "metadata": {
    "graffitiCellId": "id_c1r40y6"
   },
   "outputs": [],
   "source": [
    "def test_function(test_case):\n",
    "    head = test_case[0]\n",
    "    solution = test_case[1]\n",
    "    \n",
    "    node_tracker = dict({})\n",
    "    node_tracker['nodes'] = list()\n",
    "    temp = head\n",
    "    while temp:\n",
    "        node_tracker['nodes'].append(temp)\n",
    "        temp = temp.next\n",
    "\n",
    "    head = even_after_odd(head)    \n",
    "    temp = head\n",
    "    index = 0\n",
    "    try:\n",
    "        while temp:\n",
    "            if temp.data != solution[index] or temp not in node_tracker['nodes']:\n",
    "                print(\"Fail\")\n",
    "                return\n",
    "            temp = temp.next\n",
    "            index += 1\n",
    "        print(\"Pass\")            \n",
    "    except Exception as e:\n",
    "        print(\"Fail\")"
   ]
  },
  {
   "cell_type": "code",
   "execution_count": 10,
   "metadata": {
    "graffitiCellId": "id_g689uo0"
   },
   "outputs": [
    {
     "name": "stdout",
     "output_type": "stream",
     "text": [
      "Pass\n"
     ]
    }
   ],
   "source": [
    "arr = [1, 2, 3, 4, 5, 6]\n",
    "solution = [1, 3, 5, 2, 4, 6]\n",
    "\n",
    "head = create_linked_list(arr)\n",
    "test_case = [head, solution]\n",
    "test_function(test_case)"
   ]
  },
  {
   "cell_type": "code",
   "execution_count": 12,
   "metadata": {
    "graffitiCellId": "id_f2x6gq4"
   },
   "outputs": [
    {
     "name": "stdout",
     "output_type": "stream",
     "text": [
      "test\n",
      "Pass\n"
     ]
    }
   ],
   "source": [
    "arr = [1, 3, 5, 7]\n",
    "solution = [1, 3, 5, 7]\n",
    "\n",
    "head = create_linked_list(arr)\n",
    "test_case = [head, solution]\n",
    "test_function(test_case)"
   ]
  },
  {
   "cell_type": "code",
   "execution_count": 8,
   "metadata": {
    "graffitiCellId": "id_ejterzp"
   },
   "outputs": [
    {
     "name": "stdout",
     "output_type": "stream",
     "text": [
      "Pass\n"
     ]
    }
   ],
   "source": [
    "arr = [2, 4, 6, 8]\n",
    "solution = [2, 4, 6, 8]\n",
    "head = create_linked_list(arr)\n",
    "test_case = [head, solution]\n",
    "test_function(test_case)"
   ]
  },
  {
   "cell_type": "code",
   "execution_count": null,
   "metadata": {
    "graffitiCellId": "id_awgzvin"
   },
   "outputs": [],
   "source": []
  }
 ],
 "metadata": {
  "graffiti": {
   "firstAuthorId": "dev",
   "id": "id_8zd3m5b",
   "language": "EN"
  },
  "kernelspec": {
   "display_name": "Python 3",
   "language": "python",
   "name": "python3"
  },
  "language_info": {
   "codemirror_mode": {
    "name": "ipython",
    "version": 3
   },
   "file_extension": ".py",
   "mimetype": "text/x-python",
   "name": "python",
   "nbconvert_exporter": "python",
   "pygments_lexer": "ipython3",
   "version": "3.6.3"
  }
 },
 "nbformat": 4,
 "nbformat_minor": 2
}
