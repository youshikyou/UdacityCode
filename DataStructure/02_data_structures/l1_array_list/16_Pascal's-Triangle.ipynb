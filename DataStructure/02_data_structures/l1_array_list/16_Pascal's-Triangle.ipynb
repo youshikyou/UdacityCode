{
 "cells": [
  {
   "cell_type": "markdown",
   "metadata": {
    "graffitiCellId": "id_9l9h3vg"
   },
   "source": [
    "### Problem Statement\n",
    "\n",
    "Find and return the `nth` row of Pascal's triangle in the form a list. `n` is 0-based.\n",
    "\n",
    "For exmaple, if `n = 4`, then `output = [1, 4, 6, 4, 1]`.\n",
    "\n",
    "To know more about Pascal's triangle: https://www.mathsisfun.com/pascals-triangle.html"
   ]
  },
  {
   "cell_type": "code",
   "execution_count": 20,
   "metadata": {
    "graffitiCellId": "id_dcbpne4"
   },
   "outputs": [
    {
     "data": {
      "text/plain": [
       "[1, 4, 6, 4, 1]"
      ]
     },
     "execution_count": 20,
     "metadata": {},
     "output_type": "execute_result"
    }
   ],
   "source": [
    "def nth_row_pascal_in_math(n):\n",
    "    \"\"\"\n",
    "    :param: - n - index (0 based)\n",
    "    return - list() representing nth row of Pascal's triangle\n",
    "    \"\"\"\n",
    "    numstr = str(pow(11,n))\n",
    "    \n",
    "    ans = []\n",
    "    \n",
    "    for item in numstr:\n",
    "        ans.append(int(item))\n",
    "    \n",
    "    return ans\n",
    "    \n",
    "    \n",
    "n=4\n",
    "nth_row_pascal_in_math(n)"
   ]
  },
  {
   "cell_type": "markdown",
   "metadata": {
    "graffitiCellId": "id_wf20h2l"
   },
   "source": [
    "<span class=\"graffiti-highlight graffiti-id_wf20h2l-id_cuoppnd\"><i></i><button>Hide Solution</button></span>"
   ]
  },
  {
   "cell_type": "code",
   "execution_count": 42,
   "metadata": {
    "graffitiCellId": "id_pswy9z6"
   },
   "outputs": [
    {
     "name": "stdout",
     "output_type": "stream",
     "text": [
      "prerow [1]\n",
      "curlay [1, 1]\n",
      "curlay [1, 2, 1]\n",
      "curlay [1, 3, 3, 1]\n",
      "curlay [1, 4, 6, 4, 1]\n"
     ]
    },
    {
     "data": {
      "text/plain": [
       "[1, 4, 6, 4, 1]"
      ]
     },
     "execution_count": 42,
     "metadata": {},
     "output_type": "execute_result"
    }
   ],
   "source": [
    "\n",
    "def nth_row_pascal(n):\n",
    "    if n == 0:\n",
    "        return [1]\n",
    "\n",
    "    initial = 1\n",
    "    for curlay in range(1,n+1):\n",
    "\n",
    "        if initial ==1:\n",
    "            pre_row = [0]*(curlay)\n",
    "            pre_row[0] = 1\n",
    "            pre_row[-1] = 1\n",
    "            print('prerow',pre_row)\n",
    "        \n",
    "        curr_row = [0]*(curlay+1)\n",
    "        curr_row[0] = 1\n",
    "        curr_row[-1] = 1\n",
    "        #print('curlay',curr_row)\n",
    "        \n",
    "        for idx in range(len(curr_row)):\n",
    "            if curr_row[idx] == 0:\n",
    "                curr_row[idx] = pre_row[idx-1] + pre_row[idx]\n",
    "        initial = 0\n",
    "        pre_row = curr_row\n",
    "        print('curlay',curr_row)\n",
    "\n",
    "    return curr_row\n",
    "    \n",
    "n=4\n",
    "nth_row_pascal(n)"
   ]
  },
  {
   "cell_type": "code",
   "execution_count": null,
   "metadata": {
    "graffitiCellId": "id_cuoppnd"
   },
   "outputs": [],
   "source": [
    "# Solution\n",
    "\n",
    "def nth_row_pascal(n):\n",
    "    if n == 0:\n",
    "        return [1]\n",
    "    current_row = [1]\n",
    "    for i in range(1, n + 1):\n",
    "        previous_row = current_row\n",
    "        current_row = [1]\n",
    "        for j in range(1, i):\n",
    "            next_number = previous_row[j] + previous_row[j - 1]\n",
    "            current_row.append(next_number)\n",
    "        current_row.append(1)\n",
    "    return current_row"
   ]
  },
  {
   "cell_type": "code",
   "execution_count": 43,
   "metadata": {
    "graffitiCellId": "id_tu5thsl"
   },
   "outputs": [],
   "source": [
    "def test_function(test_case):\n",
    "    n = test_case[0]\n",
    "    solution = test_case[1]\n",
    "    output = nth_row_pascal(n)\n",
    "    if solution == output:\n",
    "        print(\"Pass\")\n",
    "    else:\n",
    "        print(\"Fail\")"
   ]
  },
  {
   "cell_type": "code",
   "execution_count": 44,
   "metadata": {
    "graffitiCellId": "id_esuh96a"
   },
   "outputs": [
    {
     "name": "stdout",
     "output_type": "stream",
     "text": [
      "Pass\n"
     ]
    }
   ],
   "source": [
    "n = 0\n",
    "solution = [1]\n",
    "\n",
    "test_case = [n, solution]\n",
    "test_function(test_case)"
   ]
  },
  {
   "cell_type": "code",
   "execution_count": 45,
   "metadata": {
    "graffitiCellId": "id_2e6eawt"
   },
   "outputs": [
    {
     "name": "stdout",
     "output_type": "stream",
     "text": [
      "prerow [1]\n",
      "curlay [1, 1]\n",
      "Pass\n"
     ]
    }
   ],
   "source": [
    "n = 1\n",
    "solution = [1, 1]\n",
    "\n",
    "test_case = [n, solution]\n",
    "test_function(test_case)"
   ]
  },
  {
   "cell_type": "code",
   "execution_count": 46,
   "metadata": {
    "graffitiCellId": "id_usf0xk8"
   },
   "outputs": [
    {
     "name": "stdout",
     "output_type": "stream",
     "text": [
      "prerow [1]\n",
      "curlay [1, 1]\n",
      "curlay [1, 2, 1]\n",
      "Pass\n"
     ]
    }
   ],
   "source": [
    "n = 2\n",
    "solution = [1, 2, 1]\n",
    "\n",
    "test_case = [n, solution]\n",
    "test_function(test_case)"
   ]
  },
  {
   "cell_type": "code",
   "execution_count": 47,
   "metadata": {
    "graffitiCellId": "id_dmvg99s"
   },
   "outputs": [
    {
     "name": "stdout",
     "output_type": "stream",
     "text": [
      "prerow [1]\n",
      "curlay [1, 1]\n",
      "curlay [1, 2, 1]\n",
      "curlay [1, 3, 3, 1]\n",
      "Pass\n"
     ]
    }
   ],
   "source": [
    "n = 3\n",
    "solution = [1, 3, 3, 1]\n",
    "\n",
    "test_case = [n, solution]\n",
    "test_function(test_case)"
   ]
  },
  {
   "cell_type": "code",
   "execution_count": 48,
   "metadata": {
    "graffitiCellId": "id_lsv4314"
   },
   "outputs": [
    {
     "name": "stdout",
     "output_type": "stream",
     "text": [
      "prerow [1]\n",
      "curlay [1, 1]\n",
      "curlay [1, 2, 1]\n",
      "curlay [1, 3, 3, 1]\n",
      "curlay [1, 4, 6, 4, 1]\n",
      "Pass\n"
     ]
    }
   ],
   "source": [
    "n = 4\n",
    "solution = [1, 4, 6, 4, 1]\n",
    "\n",
    "test_case = [n, solution]\n",
    "test_function(test_case)"
   ]
  },
  {
   "cell_type": "code",
   "execution_count": null,
   "metadata": {
    "graffitiCellId": "id_dnzz24j"
   },
   "outputs": [],
   "source": []
  }
 ],
 "metadata": {
  "graffiti": {
   "firstAuthorId": "dev",
   "id": "id_qd2ksva",
   "language": "EN"
  },
  "kernelspec": {
   "display_name": "Python 3",
   "language": "python",
   "name": "python3"
  },
  "language_info": {
   "codemirror_mode": {
    "name": "ipython",
    "version": 3
   },
   "file_extension": ".py",
   "mimetype": "text/x-python",
   "name": "python",
   "nbconvert_exporter": "python",
   "pygments_lexer": "ipython3",
   "version": "3.6.3"
  }
 },
 "nbformat": 4,
 "nbformat_minor": 2
}
