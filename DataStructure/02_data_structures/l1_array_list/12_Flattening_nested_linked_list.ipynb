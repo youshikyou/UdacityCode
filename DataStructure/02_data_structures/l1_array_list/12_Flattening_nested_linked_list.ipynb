{
 "cells": [
  {
   "cell_type": "markdown",
   "metadata": {},
   "source": [
    "## Flattening a nested linked list\n",
    "\n",
    "Suppose you have a linked list where the value of each node is a sorted linked list (i.e., it is a _nested_ list). Your task is to _flatten_ this nested list—that is, to combine all nested lists into a single (sorted) linked list.\n",
    "\n",
    "First, we'll need some code for generating nodes and a linked list:"
   ]
  },
  {
   "cell_type": "code",
   "execution_count": 1,
   "metadata": {},
   "outputs": [],
   "source": [
    "# Use this class as the nodes in your linked list\n",
    "class Node:\n",
    "    def __init__(self, value):\n",
    "        self.value = value\n",
    "        self.next = None\n",
    "    \n",
    "    #def __repr__(self):\n",
    "    #    return str(self.value)\n",
    "    \n",
    "class LinkedList:\n",
    "    def __init__(self, head):\n",
    "        self.head = head\n",
    "        \n",
    "    def append(self, value):\n",
    "        #for new list\n",
    "        if self.head is None:\n",
    "            self.head = Node(value)\n",
    "            return\n",
    "        \n",
    "        #for an exist list\n",
    "        node = self.head\n",
    "        #find the tail\n",
    "        while node.next is not None:\n",
    "            node = node.next\n",
    "        node.next = Node(value)"
   ]
  },
  {
   "cell_type": "markdown",
   "metadata": {},
   "source": [
    "Now, in the cell below, see if you can solve the problem by implementing the `flatten` method.\n",
    "\n",
    ">Hint: If you first create a `merge` method that merges two linked lists into a sorted linked list, then there is an elegant recursive solution."
   ]
  },
  {
   "cell_type": "code",
   "execution_count": null,
   "metadata": {},
   "outputs": [],
   "source": [
    "'''\n",
    "def merge_useList1_as_storage(list1, list2):\n",
    "    # TODO: Implement this function so that it merges the two linked lists in a single, sorted linked list.\n",
    "    if list1==None and list2!=None:\n",
    "        return list2\n",
    "    if list2==None and list1!=None:\n",
    "        return list1\n",
    "    \n",
    "    #curpoint1 是head 比較小的\n",
    "    if list1.head.value < list2.head.value:\n",
    "        curpoint1 = list1.head\n",
    "        curpoint2 = list2.head\n",
    "        newlist = list1\n",
    "    else:\n",
    "        curpoint1 = list2.head\n",
    "        curpoint2 = list1.head  \n",
    "        newlist = list2\n",
    "        \n",
    "    newprev = None\n",
    "    while curpoint1 !=None and curpoint2 !=None:\n",
    "        print(type(curpoint1),type(curpoint2))\n",
    "        print(type(curpoint1.value),type(curpoint2.value))\n",
    "\n",
    "        if curpoint1.value < curpoint2.value:\n",
    "            newprev = curpoint1\n",
    "            curpoint1 = curpoint1.next      \n",
    "        else:\n",
    "            \n",
    "            newprev.next = curpoint2\n",
    "            newprev = curpoint2\n",
    "            curpoint2 = curpoint2.next\n",
    "            newprev.next = curpoint1\n",
    "\n",
    "    \n",
    "    if curpoint1 == None:\n",
    "        newprev.next = curpoint2\n",
    "    elif curpoint2 == None:\n",
    "        newprev.next = curpoint1\n",
    "        \n",
    "    return newlist\n",
    "''';"
   ]
  },
  {
   "cell_type": "code",
   "execution_count": 2,
   "metadata": {},
   "outputs": [],
   "source": [
    "#create new list, do't touch the link of original list1,list2\n",
    "def merge(list1, list2):\n",
    "\n",
    "    if list1==None and list2!=None:\n",
    "        return list2\n",
    "    if list2==None and list1!=None:\n",
    "        return list1\n",
    "    \n",
    "    newlist = LinkedList(None)\n",
    "    ncp = newlist.head\n",
    "    \n",
    "    cp1 = list1.head\n",
    "    cp2 = list2.head\n",
    "\n",
    "    while cp1 != None and cp2!=None:\n",
    "        if cp1.value < cp2.value:\n",
    "            newlist.append(cp1.value)\n",
    "            cp1 = cp1.next\n",
    "        else:\n",
    "            newlist.append(cp2.value)\n",
    "            cp2 = cp2.next\n",
    "\n",
    "    #connected the rest of cp1 or cp2\n",
    "    if cp1 == None:\n",
    "        while cp2!=None:\n",
    "            newlist.append(cp2.value)\n",
    "            cp2 = cp2.next\n",
    "    elif cp2 == None:\n",
    "        while cp1!=None:\n",
    "            newlist.append(cp1.value)\n",
    "            cp1 = cp1.next       \n",
    "\n",
    "    return newlist\n",
    "    \n",
    "    "
   ]
  },
  {
   "cell_type": "code",
   "execution_count": 3,
   "metadata": {},
   "outputs": [],
   "source": [
    "\n",
    "#parent is LinkedList, child class is NestedLinkedList\n",
    "class NestedLinkedList(LinkedList):\n",
    "    def flatten(self):\n",
    "        return self._flatten(self.head)\n",
    "\n",
    "    def _flatten(self, node):\n",
    "        #base case, node2 時\n",
    "        if node.next is None:\n",
    "            #node.value 就是某個 linkList 的head\n",
    "            # 就是最後一組 linklist 直接加在最後面\n",
    "            return merge(node.value, None)\n",
    "        \n",
    "        #一搬就是第一組linklist, 跟下一組 list去merge\n",
    "        #只要還有下一組, 一直往下call, DFS的感覺\n",
    "        #所以最先被merged 是倒數最後兩linklist\n",
    "        #這串再一路網上return, 直到跟第一node1, head 這組merged\n",
    "        return merge(node.value, self._flatten(node.next))\n"
   ]
  },
  {
   "cell_type": "code",
   "execution_count": null,
   "metadata": {},
   "outputs": [],
   "source": [
    "#test merge\n",
    "linked_list1 = LinkedList(Node(1))\n",
    "linked_list1.append(3)\n",
    "linked_list1.append(5)\n",
    "\n",
    "linked_list2 = LinkedList(Node(2))\n",
    "linked_list2.append(4)\n",
    "\n",
    "\n",
    "merged = merge(linked_list1, linked_list2)\n",
    "node = merged.head\n",
    "while node is not None:\n",
    "    #This will print 1 2 3 4 5\n",
    "    print(node.value)\n",
    "    node = node.next\n",
    "\n",
    "# Lets make sure it works with a None list\n",
    "merged = merge(None, linked_list2)\n",
    "node = merged.head\n",
    "while node is not None:\n",
    "    #This will print 1 2 3 4 5\n",
    "    print(node.value)\n",
    "    node = node.next"
   ]
  },
  {
   "cell_type": "markdown",
   "metadata": {},
   "source": [
    "Here's some code that will generate a nested linked list that we can use to test the solution:"
   ]
  },
  {
   "cell_type": "code",
   "execution_count": 8,
   "metadata": {},
   "outputs": [],
   "source": [
    "# First Test scenario\n",
    "#list1\n",
    "linked_list = LinkedList(Node(1))\n",
    "linked_list.append(3)\n",
    "linked_list.append(5)\n",
    "\n",
    "#list2\n",
    "second_linked_list = LinkedList(Node(2))\n",
    "second_linked_list.append(4)\n",
    "\n",
    "\n",
    "nested_linked_list = NestedLinkedList(Node(linked_list))\n",
    "nested_linked_list.append(second_linked_list)"
   ]
  },
  {
   "cell_type": "markdown",
   "metadata": {},
   "source": [
    "### Structure\n",
    "`nested_linked_list` should now have 2 nodes.  The head node is a linked list containing `1, 3, 5`.  The second node is a linked list containing `2, 4`.\n",
    "\n",
    "Calling `flatten` should return a linked list containing `1, 2, 3, 4, 5`."
   ]
  },
  {
   "cell_type": "code",
   "execution_count": 11,
   "metadata": {
    "scrolled": true
   },
   "outputs": [
    {
     "name": "stdout",
     "output_type": "stream",
     "text": [
      "1\n",
      "2\n",
      "3\n",
      "4\n",
      "5\n"
     ]
    }
   ],
   "source": [
    "flaten = nested_linked_list.flatten()\n",
    "node = flaten.head\n",
    "solution=[]\n",
    "while node is not None:\n",
    "    #This will print 1 2 3 4 5\n",
    "    print(node.value)\n",
    "    solution.append(node.value)\n",
    "    node = node.next\n",
    "assert solution == [1,2,3,4,5]"
   ]
  },
  {
   "cell_type": "markdown",
   "metadata": {},
   "source": [
    "### Solution"
   ]
  },
  {
   "cell_type": "markdown",
   "metadata": {},
   "source": [
    "First, let's implement a `merge` function that takes in two linked lists and returns one sorted linked list.  Note, this implementation expects both linked lists to be sorted."
   ]
  },
  {
   "cell_type": "code",
   "execution_count": null,
   "metadata": {},
   "outputs": [],
   "source": [
    "def merge(list1, list2):\n",
    "    merged = LinkedList(None)\n",
    "    if list1 is None:\n",
    "        return list2\n",
    "    if list2 is None:\n",
    "        return list1\n",
    "    list1_elt = list1.head\n",
    "    list2_elt = list2.head\n",
    "    while list1_elt is not None or list2_elt is not None:\n",
    "        if list1_elt is None:\n",
    "            merged.append(list2_elt)\n",
    "            list2_elt = list2_elt.next\n",
    "        elif list2_elt is None:\n",
    "            merged.append(list1_elt)\n",
    "            list1_elt = list1_elt.next\n",
    "        elif list1_elt.value <= list2_elt.value:\n",
    "            merged.append(list1_elt)\n",
    "            list1_elt = list1_elt.next\n",
    "        else:\n",
    "            merged.append(list2_elt)\n",
    "            list2_elt = list2_elt.next\n",
    "    return merged"
   ]
  },
  {
   "cell_type": "markdown",
   "metadata": {},
   "source": [
    "Let's make sure merge works how we expect:"
   ]
  },
  {
   "cell_type": "code",
   "execution_count": null,
   "metadata": {},
   "outputs": [],
   "source": [
    "linked_list = LinkedList(Node(1))\n",
    "linked_list.append(3)\n",
    "linked_list.append(5)\n",
    "\n",
    "#node = linked_list.head\n",
    "print(linked_list.head)\n",
    "#while node is not None:\n",
    "#    print(node.value)\n",
    "#    node = node.next\n",
    "    \n",
    "second_linked_list = LinkedList(Node(2))\n",
    "second_linked_list.append(4)\n",
    "print(second_linked_list.head)\n",
    "\n",
    "\n",
    "#node = second_linked_list.head\n",
    "#while node is not None:\n",
    "#    print(node.value)\n",
    "#    node = node.next\n",
    "    \n",
    "    \n",
    "merged = merge(linked_list, second_linked_list)\n",
    "node = merged.head\n",
    "while node is not None:\n",
    "    print(node.value)# node.value\n",
    "    node = node.next  \n",
    "\n",
    "\n",
    "# Lets make sure it works with a None list\n",
    "merged = merge(None, linked_list)\n",
    "node = merged.head\n",
    "while node is not None:\n",
    "    print(node.value)\n",
    "    node = node.next\n"
   ]
  },
  {
   "cell_type": "markdown",
   "metadata": {},
   "source": [
    "Now let's implement `flatten` recursively using merge."
   ]
  },
  {
   "cell_type": "code",
   "execution_count": null,
   "metadata": {},
   "outputs": [],
   "source": [
    "#parent is LinkedList, child class is NestedLinkedList\n",
    "class NestedLinkedList(LinkedList):\n",
    "    def flatten(self):\n",
    "        return self._flatten(self.head)\n",
    "\n",
    "    def _flatten(self, node):\n",
    "        #base case, node2 時\n",
    "        if node.next is None:\n",
    "            #node.value 就是某個 linkList 的head\n",
    "            # 就是最後一組 linklist 直接加在最後面\n",
    "            return merge(node.value, None)\n",
    "        \n",
    "        #一搬就是第一組linklist, 跟下一組 list去merge\n",
    "        #只要還有下一組, 一直往下call, DFS的感覺\n",
    "        #所以最先被merged 是倒數最後兩linklist\n",
    "        #這串再一路網上return, 直到跟第一node1, head 這組merged\n",
    "        return merge(node.value, self._flatten(node.next))"
   ]
  },
  {
   "cell_type": "code",
   "execution_count": 13,
   "metadata": {},
   "outputs": [
    {
     "name": "stdout",
     "output_type": "stream",
     "text": [
      "<__main__.Node object at 0x7f0224a5bda0>\n",
      "<__main__.Node object at 0x7f0224a5bb00>\n",
      "1\n",
      "2\n",
      "3\n",
      "4\n",
      "5\n"
     ]
    }
   ],
   "source": [
    "nested_linked_list = NestedLinkedList(Node(linked_list))\n",
    "nested_linked_list.append(second_linked_list)\n",
    "\n",
    "print(nested_linked_list.head.value.head) # the same address as linked_list.head\n",
    "print(nested_linked_list.head.next.value.head)#second_linked_list.head\n",
    "\n",
    "'''\n",
    "                            ________                       ________\n",
    "nested_linked_list -> head | addres |-> link_list->head   | value:1|\n",
    "                      node1|________|                     |_next :-|-->   3 --->    5 ---> None\n",
    "                               |\n",
    "                               |\n",
    "                           __________                            _________\n",
    "                      node2| addres |-> second_link_list->head   | value:2|\n",
    "            =node1.next    |________|                            |_next :---->   4 ---> None\n",
    "                               |\n",
    "                               |           \n",
    "                            None\n",
    "                    \n",
    "'''\n",
    "\n",
    "\n",
    "flattened = nested_linked_list.flatten()\n",
    "\n",
    "node = flattened.head\n",
    "while node is not None:\n",
    "    #This will print 1 2 3 4 5\n",
    "    print(node.value)\n",
    "    node = node.next\n"
   ]
  },
  {
   "cell_type": "markdown",
   "metadata": {},
   "source": [
    "### Computational Complexity\n",
    "Lets start with the computational complexity of `merge`.  Merge takes in two lists.  Let's say the lengths of the lists are $N_{1}$ and $N_{2}$. Because we assume the inputs are sorted, `merge` is very efficient. It looks at the first element of each list and adds the smaller one to the returned list.  Every time through the loop we are appending one element to the list, so it will take $N_{1} + N_{2}$ iterations until we have the whole list.\n",
    "\n",
    "The complexity of `flatten` is a little more complicated to calculate.  Suppose our `NestedLinkedList` has $N$ linked lists and each list's length is represented by $M_{1}, M_{2}, ..., M_{N}$.\n",
    "\n",
    "We can represent this recursion as:\n",
    "\n",
    "$merge(M_{1}, merge(M_{2}, merge(..., merge(M_{N-1}, merge(M_{N}, None)))))$\n",
    "\n",
    "Let's start from the inside.  The inner most merge returns the $nth$ linked list.  The next merge does $M_{N-1} + M_{N}$ comparisons.  The next merge does $M_{N-2} + M_{N-1} + M_{N}$ comparisons.\n",
    "\n",
    "Eventually we will do $N$ comparisons on all of the $M_{N}$ elements. We will do $N-1$ comparisons on $M_{N-1}$ elements.\n",
    "\n",
    "This can be generalized as:\n",
    "\n",
    "$$\n",
    "\\sum_n^N n*M_{n}\n",
    "$$"
   ]
  }
 ],
 "metadata": {
  "kernelspec": {
   "display_name": "Python 3",
   "language": "python",
   "name": "python3"
  },
  "language_info": {
   "codemirror_mode": {
    "name": "ipython",
    "version": 3
   },
   "file_extension": ".py",
   "mimetype": "text/x-python",
   "name": "python",
   "nbconvert_exporter": "python",
   "pygments_lexer": "ipython3",
   "version": "3.7.1"
  }
 },
 "nbformat": 4,
 "nbformat_minor": 2
}
