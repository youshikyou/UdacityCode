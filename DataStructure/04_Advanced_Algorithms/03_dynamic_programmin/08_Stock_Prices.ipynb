{
 "cells": [
  {
   "cell_type": "markdown",
   "metadata": {
    "graffitiCellId": "id_pv982ru"
   },
   "source": [
    "# Stock Prices"
   ]
  },
  {
   "cell_type": "markdown",
   "metadata": {
    "collapsed": true,
    "graffitiCellId": "id_qto2uz2"
   },
   "source": [
    "You are given access to yesterday's stock prices for a single stock. The data is in the form of an array with the stock price in 30 minute intervals from 9:30 a.m EST opening to 4:00 p.m EST closing time. With this data, write a function that returns the maximum profit obtainable. You will need to buy before you can sell.\n",
    "\n",
    "For example, suppose you have the following prices:\n",
    "\n",
    "`prices = [3, 4, 7, 8, 6]`\n",
    "\n",
    ">Note: This is a shortened array, just for the sake of example—a full set of prices for the day would have 13 elements (one price for each 30 minute interval betwen 9:30 and 4:00), as seen in the test cases further down in this notebook.\n",
    "\n",
    "In order to get the maximum profit in this example, you would want to buy at a price of 3 and sell at a price of 8 to yield a maximum profit of 5. In other words, you are looking for the greatest possible difference between two numbers in the array.\n",
    "\n",
    "Fill out the function below and run it against the test cases. Take into consideration the time complexity of your solution. "
   ]
  },
  {
   "cell_type": "code",
   "execution_count": 1,
   "metadata": {
    "graffitiCellId": "id_z7ws71z"
   },
   "outputs": [
    {
     "data": {
      "text/plain": [
       "76"
      ]
     },
     "execution_count": 1,
     "metadata": {},
     "output_type": "execute_result"
    }
   ],
   "source": [
    "def max_returns(arr):\n",
    "    \"\"\"\n",
    "    Calculate maxiumum possible return\n",
    "    \n",
    "    Args:\n",
    "       prices(array): array of prices\n",
    "    Returns:\n",
    "       int: The maximum profit possible\n",
    "    \"\"\"\n",
    "    '''\n",
    "        idea 就是我們心中有一組會好的 profit value\n",
    "        依靠\n",
    "            min_price_index\n",
    "            max_price_index\n",
    "            \n",
    "            這兩個index來求出\n",
    "            \n",
    "        接著loop input list\n",
    "        \n",
    "        隨著每個新data read in (永遠是新的data t - 舊的最小index , 所以一定是右邊-左邊, 先買先賣)\n",
    "        做兩件事\n",
    "            a. 如果新data 比之前都小, 那就要更新最小的index\n",
    "            b. 當下馬上判斷,這個新data 配和最小的index 所算出的profit, 有沒有比上面那兩個 profit 大\n",
    "                有的話就更新\n",
    "        \n",
    "        \n",
    "            \n",
    "        \n",
    "    \n",
    "    '''\n",
    "    \n",
    "    \n",
    "    #最後解答會用的兩個idx, 用 0 1 initial\n",
    "    min_price_index = 0\n",
    "    max_price_index = 1\n",
    "    \n",
    "    current_min_price_index = 0\n",
    "    \n",
    "    if len(arr) < 2:\n",
    "        return\n",
    "    \n",
    "    \n",
    "    for index in range(1, len(arr)):\n",
    "        \n",
    "        # current minimum price\n",
    "        # 記錄目前最小值的index在哪, 只要有更小的就紀錄\n",
    "        # 是不是真的要拿來用, 後面會在filter 一次\n",
    "        if arr[index] < arr[current_min_price_index]:\n",
    "            current_min_price_index = index\n",
    "        \n",
    "\n",
    "        # current max profit\n",
    "        # 記錄目前最大值的 index\n",
    "        # 更新的條件就是\n",
    "        # 當前這個 value - 目前的最小值 會 > 我們專設的 max_indx value - min_index_value\n",
    "        # 表示目前的 index 更適合當 max_price_index, 且 current_min_price_index 可以拿來當 min_price_index\n",
    "        profit_candidate = arr[max_price_index] - arr[min_price_index]\n",
    "        cur_profit = arr[index] - arr[current_min_price_index]\n",
    "        \n",
    "        #如果新近來資料和當前最低所造成的profit 比我們已知道 profit 還好\n",
    "        if cur_profit > profit_candidate:\n",
    "            #更新\n",
    "            max_price_index = index\n",
    "            min_price_index = current_min_price_index\n",
    "    \n",
    "    \n",
    "    profit = arr[max_price_index] - arr[min_price_index]\n",
    "    return profit\n",
    "\n",
    "prices = [2, 2, 7, 9, 9, 12, 18, 23, 34, 37, 45, 54, 78]\n",
    "solution = 76\n",
    "max_returns(prices)"
   ]
  },
  {
   "cell_type": "markdown",
   "metadata": {
    "graffitiCellId": "id_uc722im"
   },
   "source": [
    "<span class=\"graffiti-highlight graffiti-id_uc722im-id_o4cterg\"><i></i><button>Hide Solution</button></span>"
   ]
  },
  {
   "cell_type": "code",
   "execution_count": null,
   "metadata": {
    "graffitiCellId": "id_o4cterg"
   },
   "outputs": [],
   "source": [
    "# Solution\n",
    "\n",
    "def max_returns(arr):\n",
    "    \"\"\"\n",
    "    The idea is to pick two dates:\n",
    "        1. buy date\n",
    "        2. sell date\n",
    "    We will keep track of our max profit while iterating over the list\n",
    "    At each step we will make the greedy choice by choosing prices such that our profit is maximum \n",
    "    \"\"\"\n",
    "    min_price_index = 0\n",
    "    max_price_index = 1\n",
    "    current_min_price_index = 0\n",
    "    \n",
    "    if len(arr) < 2:\n",
    "        return\n",
    "    \n",
    "    for index in range(1, len(arr)):\n",
    "        # current minimum price\n",
    "        if arr[index] < arr[current_min_price_index]:\n",
    "            current_min_price_index = index\n",
    "            \n",
    "        # current max profit\n",
    "        if arr[max_price_index] - arr[min_price_index] < arr[index] - arr[current_min_price_index]:\n",
    "            max_price_index = index\n",
    "            min_price_index = current_min_price_index\n",
    "    max_profit = arr[max_price_index] - arr[min_price_index]\n",
    "    return max_profit"
   ]
  },
  {
   "cell_type": "code",
   "execution_count": 2,
   "metadata": {
    "graffitiCellId": "id_plirn7n"
   },
   "outputs": [],
   "source": [
    "# Test Cases\n",
    "def test_function(test_case):\n",
    "    prices = test_case[0]\n",
    "    solution = test_case[1]\n",
    "    output = max_returns(prices)\n",
    "    if output == solution:\n",
    "        print(\"Pass\")\n",
    "    else:\n",
    "        print(\"Fail\")"
   ]
  },
  {
   "cell_type": "code",
   "execution_count": 3,
   "metadata": {},
   "outputs": [
    {
     "name": "stdout",
     "output_type": "stream",
     "text": [
      "Pass\n"
     ]
    }
   ],
   "source": [
    "prices = [2, 2, 7, 9, 9, 12, 18, 23, 34, 37, 45, 54, 78]\n",
    "solution = 76\n",
    "test_case = [prices, solution]\n",
    "test_function(test_case)"
   ]
  },
  {
   "cell_type": "code",
   "execution_count": 4,
   "metadata": {},
   "outputs": [
    {
     "name": "stdout",
     "output_type": "stream",
     "text": [
      "Pass\n"
     ]
    }
   ],
   "source": [
    "prices = [54, 18, 37, 9, 11, 48, 23, 1, 7, 34, 2, 45, 67]\n",
    "solution = 66\n",
    "test_case = [prices, solution]\n",
    "test_function(test_case)"
   ]
  },
  {
   "cell_type": "code",
   "execution_count": 5,
   "metadata": {},
   "outputs": [
    {
     "name": "stdout",
     "output_type": "stream",
     "text": [
      "Pass\n"
     ]
    }
   ],
   "source": [
    "prices = [78, 54, 45, 37, 34, 23, 18, 12, 9, 9, 7, 2, 2]\n",
    "solution = 0\n",
    "test_case = [prices, solution]\n",
    "test_function(test_case)"
   ]
  },
  {
   "cell_type": "code",
   "execution_count": null,
   "metadata": {
    "graffitiCellId": "id_uokdh0t"
   },
   "outputs": [],
   "source": []
  }
 ],
 "metadata": {
  "graffiti": {
   "firstAuthorId": "10694620118",
   "id": "id_43ea6fg",
   "language": "EN"
  },
  "kernelspec": {
   "display_name": "Python 3",
   "language": "python",
   "name": "python3"
  },
  "language_info": {
   "codemirror_mode": {
    "name": "ipython",
    "version": 3
   },
   "file_extension": ".py",
   "mimetype": "text/x-python",
   "name": "python",
   "nbconvert_exporter": "python",
   "pygments_lexer": "ipython3",
   "version": "3.6.3"
  },
  "widgets": {
   "state": {},
   "version": "1.1.2"
  }
 },
 "nbformat": 4,
 "nbformat_minor": 2
}
