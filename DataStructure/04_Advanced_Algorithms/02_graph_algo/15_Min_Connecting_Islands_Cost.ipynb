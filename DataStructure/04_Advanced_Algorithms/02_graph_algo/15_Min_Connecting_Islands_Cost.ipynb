{
 "cells": [
  {
   "cell_type": "markdown",
   "metadata": {
    "graffitiCellId": "id_2ypsk8q"
   },
   "source": [
    "### Problem Statements\n",
    "\n",
    "In an ocean, there are `n` islands some of which are connected via bridges. Travelling over a bridge has some cost attaced with it. Find bridges in such a way that all islands are connected with minimum cost of travelling. \n",
    "\n",
    "You can assume that there is at least one possible way in which all islands are connected with each other. \n",
    "\n",
    "You will be provided with two input parameters:\n",
    "    \n",
    "1. `num_islands` = number of islands\n",
    "    \n",
    "2. `bridge_config` = list of lists. \n",
    "    Each inner list will have 3 elements:\n",
    "        a. island A\n",
    "        b. island B\n",
    "        c. cost of bridge connecting both islands\n",
    "                       \n",
    "    Each island is represented using a number\n",
    "     \n",
    "**Example:**                       \n",
    "* `num_islands = 4`\n",
    "* `bridge_config = [[1, 2, 1], [2, 3, 4], [1, 4, 3], [4, 3, 2], [1, 3, 10]]`\n",
    "       \n",
    "Input parameters explanation:\n",
    "    1. Number of islands = 4\n",
    "    2. Island 1 and 2 are connected via a bridge with cost = 1\n",
    "       Island 2 and 3 are connected via a bridge with cost = 4\n",
    "       Island 1 and 4 are connected via a bridge with cost = 3\n",
    "       Island 4 and 3 are connected via a bridge with cost = 2\n",
    "       Island 1 and 3 are connected via a bridge with cost = 10\n",
    "       \n",
    "In this example if we are connecting bridges like this...\n",
    "* between 1 and 2 with cost = 1\n",
    "* between 1 and 4 with cost = 3\n",
    "* between 4 and 3 with cost = 2  \n",
    "\n",
    "...then we connect all 4 islands with `cost = 6` which is the minimum traveling cost.\n"
   ]
  },
  {
   "cell_type": "markdown",
   "metadata": {
    "graffitiCellId": "id_83kmdhq"
   },
   "source": [
    "### Hint\n",
    "\n",
    "In addition to using a graph, you may want to use a custom priority queue for solving this problem.\n",
    "\n",
    "If you do not want to create a custom priority queue, you can use Python's `heapq` implementation.\n",
    "\n",
    "Using the `heapq` module, you can convert an existing list of items into a heap. The following two functionalities can be very handy for this problem:\n",
    "\n",
    "1. `heappush(heap, item)` — add `item` to the `heap`\n",
    "2. `heappop(heap)` — remove the smallest item from the `heap`\n",
    "\n",
    "Let's look at the above methods in action. We start by creating a list of integers."
   ]
  },
  {
   "cell_type": "markdown",
   "metadata": {
    "graffitiCellId": "id_bdreuuy"
   },
   "source": [
    "### `heappush`"
   ]
  },
  {
   "cell_type": "code",
   "execution_count": 1,
   "metadata": {
    "graffitiCellId": "id_9l6a6q2"
   },
   "outputs": [
    {
     "name": "stdout",
     "output_type": "stream",
     "text": [
      "After pushing, heap looks like: [6, 6]\n",
      "After pushing, heap looks like: [2, 6, 6]\n",
      "After pushing, heap looks like: [1, 2, 6, 6]\n",
      "After pushing, heap looks like: [1, 2, 6, 6, 9]\n"
     ]
    }
   ],
   "source": [
    "import heapq\n",
    "# initialize an empty list \n",
    "heap = list()\n",
    "\n",
    "# insert 5 into heap\n",
    "heapq.heappush(heap, 6)\n",
    "\n",
    "# insert 6 into heap\n",
    "heapq.heappush(heap, 6)\n",
    "print(\"After pushing, heap looks like: {}\".format(heap))\n",
    "# insert 2 into heap\n",
    "heapq.heappush(heap, 2)\n",
    "print(\"After pushing, heap looks like: {}\".format(heap))\n",
    "\n",
    "# insert 1 into heap\n",
    "heapq.heappush(heap, 1)\n",
    "print(\"After pushing, heap looks like: {}\".format(heap))\n",
    "\n",
    "# insert 9 into heap\n",
    "heapq.heappush(heap, 9)\n",
    "\n",
    "print(\"After pushing, heap looks like: {}\".format(heap))"
   ]
  },
  {
   "cell_type": "markdown",
   "metadata": {
    "graffitiCellId": "id_g622hmp"
   },
   "source": [
    "### `heappop`"
   ]
  },
  {
   "cell_type": "code",
   "execution_count": 2,
   "metadata": {
    "graffitiCellId": "id_wnum5bl"
   },
   "outputs": [
    {
     "name": "stdout",
     "output_type": "stream",
     "text": [
      "Smallest element in the original list was: 1\n",
      "After popping, heap looks like: [2, 6, 6, 9]\n"
     ]
    }
   ],
   "source": [
    "# pop and return smallest element from the heap\n",
    "smallest = heapq.heappop(heap)   \n",
    "\n",
    "print(\"Smallest element in the original list was: {}\".format(smallest))\n",
    "\n",
    "print(\"After popping, heap looks like: {}\".format(heap))"
   ]
  },
  {
   "cell_type": "markdown",
   "metadata": {
    "graffitiCellId": "id_kuyx4j2"
   },
   "source": [
    "### `heappush` and `heappop` for items with multiple entries\n",
    "\n",
    "Note: If you insert a tuple inside the heap, the element at 0th index of the tuple is used for comparision\n"
   ]
  },
  {
   "cell_type": "code",
   "execution_count": 3,
   "metadata": {
    "graffitiCellId": "id_namr80b"
   },
   "outputs": [
    {
     "name": "stdout",
     "output_type": "stream",
     "text": [
      "After pushing, now heap looks like: [(-1, 5), (0, 1), (2, 0), (5, -1)]\n"
     ]
    }
   ],
   "source": [
    "heap = list()\n",
    "\n",
    "heapq.heappush(heap, (0, 1))\n",
    "\n",
    "heapq.heappush(heap, (-1, 5))\n",
    "\n",
    "heapq.heappush(heap, (2, 0))\n",
    "\n",
    "heapq.heappush(heap, (5, -1))\n",
    "\n",
    "print(\"After pushing, now heap looks like: {}\".format(heap))"
   ]
  },
  {
   "cell_type": "code",
   "execution_count": 4,
   "metadata": {
    "graffitiCellId": "id_nm8mxqe"
   },
   "outputs": [
    {
     "name": "stdout",
     "output_type": "stream",
     "text": [
      "Smallest element in the original list was: (-1, 5)\n",
      "After popping, heap looks like: [(0, 1), (5, -1), (2, 0)]\n"
     ]
    }
   ],
   "source": [
    "# pop and return smallest element from the heap\n",
    "smallest = heapq.heappop(heap)   \n",
    "\n",
    "print(\"Smallest element in the original list was: {}\".format(smallest))\n",
    "\n",
    "print(\"After popping, heap looks like: {}\".format(heap))"
   ]
  },
  {
   "cell_type": "markdown",
   "metadata": {
    "graffitiCellId": "id_x0cx1fl"
   },
   "source": [
    "Now that you know about `heapq`, you can use it to solve the given problem. You are also free to create your own implementatin of Priority Queues.\n",
    "\n",
    "Write code in the following function to find and return the minimum cost required to travel all islands via bridges."
   ]
  },
  {
   "cell_type": "code",
   "execution_count": 19,
   "metadata": {
    "graffitiCellId": "id_igrfgn6"
   },
   "outputs": [
    {
     "name": "stdout",
     "output_type": "stream",
     "text": [
      "adjacency_list_graph: [[], [(2, 1), (4, 3), (3, 10)], [(1, 1), (3, 4)], [(2, 4), (4, 2), (1, 10)], [(1, 3), (3, 2)]]\n",
      "popout cost: 0 current_vertex: 1\n",
      "    Start, minheap_queue: []\n",
      "    End, minheap_queue: [(1, 2), (3, 4), (10, 3)]\n",
      "popout cost: 1 current_vertex: 2\n",
      "    Start, minheap_queue: [(3, 4), (10, 3)]\n",
      "    End, minheap_queue: [(1, 1), (4, 3), (3, 4), (10, 3)]\n",
      "popout cost: 1 current_vertex: 1\n",
      "    Start, minheap_queue: [(3, 4), (4, 3), (10, 3)]\n",
      "visited, skip\n",
      "popout cost: 3 current_vertex: 4\n",
      "    Start, minheap_queue: [(4, 3), (10, 3)]\n",
      "    End, minheap_queue: [(2, 3), (3, 1), (4, 3), (10, 3)]\n",
      "popout cost: 2 current_vertex: 3\n",
      "    Start, minheap_queue: [(3, 1), (10, 3), (4, 3)]\n",
      "    End, minheap_queue: [(2, 4), (3, 1), (4, 3), (10, 3), (4, 2), (10, 1)]\n",
      "popout cost: 2 current_vertex: 4\n",
      "    Start, minheap_queue: [(3, 1), (4, 2), (4, 3), (10, 3), (10, 1)]\n",
      "visited, skip\n",
      "popout cost: 3 current_vertex: 1\n",
      "    Start, minheap_queue: [(4, 2), (10, 1), (4, 3), (10, 3)]\n",
      "visited, skip\n",
      "popout cost: 4 current_vertex: 2\n",
      "    Start, minheap_queue: [(4, 3), (10, 1), (10, 3)]\n",
      "visited, skip\n",
      "popout cost: 4 current_vertex: 3\n",
      "    Start, minheap_queue: [(10, 1), (10, 3)]\n",
      "visited, skip\n",
      "popout cost: 10 current_vertex: 1\n",
      "    Start, minheap_queue: [(10, 3)]\n",
      "visited, skip\n",
      "popout cost: 10 current_vertex: 3\n",
      "    Start, minheap_queue: []\n",
      "visited, skip\n"
     ]
    },
    {
     "data": {
      "text/plain": [
       "6"
      ]
     },
     "execution_count": 19,
     "metadata": {},
     "output_type": "execute_result"
    }
   ],
   "source": [
    "# Solution\n",
    "\n",
    "# The following Solution makes use of one of Python's PriorityQueue implementation (heapq)\n",
    "# For more details - https://thomas-cokelaer.info/tutorials/python/module_heapq.html\n",
    "import heapq\n",
    "def create_graph(num_islands, bridge_config):\n",
    "    \"\"\"\n",
    "    Helper function to create graph using adjacency list implementation\n",
    "    \"\"\"\n",
    "    adjacency_list = [list() for _ in range(num_islands + 1)]\n",
    "    #adjacency_list = [list() for _ in range(num_islands)]\n",
    "\n",
    "    for config in bridge_config:\n",
    "        source = config[0] \n",
    "        destination = config[1]\n",
    "        \n",
    "        #source = config[0] - 1\n",
    "        #destination = config[1] -1 # -1 is because index start from 0\n",
    "        cost = config[2]\n",
    "        # adjacency list -> 本身的index 是某個node, value 是相連的node\n",
    "        # 下面加了兩次因為是無向圖 雙向都要加 -> 前面多一個空的 [] 也無仿\n",
    "        \n",
    "        adjacency_list[source].append((destination, cost))\n",
    "        adjacency_list[destination].append((source, cost))\n",
    "\n",
    "    return adjacency_list\n",
    "\n",
    "def minimum_cost(adjacency_list_graph):\n",
    "    \"\"\"\n",
    "    Helper function to find minimum cost of connecting all islands\n",
    "    \"\"\"\n",
    "    \n",
    "    # start with vertex 1 (any vertex can be chosen)\n",
    "    start_vertex = 1\n",
    "    \n",
    "    # initialize a list to keep track of vertices that are visited\n",
    "    visited = [False for _ in range(len(adjacency_list_graph) + 1)]\n",
    "    #print(visited)\n",
    "    \n",
    "    # initialize starting list - (edge_cost, neighbor)\n",
    "    # 初始化一個 root , 跟所有BFS 一樣 用 queue 來做\n",
    "    # 只是這個 queue 之後會在while 裡每次都pop出最小的\n",
    "    minheap_queue = [(0, start_vertex)]\n",
    "    total_cost = 0\n",
    "\n",
    "    #BFS, 基本上就是傳統的 BFS手法, 路上把所有cost 累加, 只差在用 minheap pop 最小的, 所以他執行起來不一定是個path\n",
    "    #可能會跳來跳去, 但沒差, 最小的過程中可以造成 min total cost\n",
    "    while len(minheap_queue) > 0:\n",
    "        #pop 出 cost 最小的node, 每次都由他走下去\n",
    "        cost, current_vertex = heapq.heappop(minheap_queue)\n",
    "        print('popout cost:',cost,'current_vertex:',current_vertex)\n",
    "        print('    Start, minheap_queue:',minheap_queue)\n",
    "\n",
    "        # check if current_vertex is already visited\n",
    "        # 就不用再加cost 了\n",
    "        if visited[current_vertex]:\n",
    "            print('visited, skip')\n",
    "            continue\n",
    "\n",
    "        # 如果我們繼續, 表示這是個沒看過的node, 累加total cost\n",
    "        # else add cost to total-cost\n",
    "        total_cost += cost\n",
    "\n",
    "        #去看這個 mincost 的 node 他的 adjancecy list 有哪些相連的node,\n",
    "        #loop 他們, 都把他們加入 queue\n",
    "        for neighbor, edge_cost in adjacency_list_graph[current_vertex]:\n",
    "            heapq.heappush(minheap_queue, (edge_cost, neighbor))\n",
    "\n",
    "        # mark current vertex as visited\n",
    "        visited[current_vertex] = True\n",
    "        print('    End, minheap_queue:',minheap_queue)\n",
    "\n",
    "    return total_cost\n",
    "\n",
    "def get_minimum_cost_of_connecting(num_islands, bridge_config):\n",
    "    \"\"\"\n",
    "    :param: num_islands - number of islands\n",
    "    :param: bridge_config - bridge configuration as explained in the problem statement\n",
    "    return: cost (int) minimum cost of connecting all islands\n",
    "    TODO complete this method to returh minimum cost of connecting all islands\n",
    "    \"\"\"\n",
    "\n",
    "    adjacency_list_graph = create_graph(num_islands, bridge_config)\n",
    "    print('adjacency_list_graph:',adjacency_list_graph)\n",
    "    return minimum_cost(adjacency_list_graph)\n",
    "\n",
    "\n",
    "\n",
    "num_islands = 4\n",
    "bridge_config = [[1, 2, 1], [2, 3, 4], [1, 4, 3], [4, 3, 2], [1, 3, 10]]\n",
    "#ans 6\n",
    "\n",
    "#num_islands = 5\n",
    "#bridge_config = [[1, 2, 5], [1, 3, 8], [2, 3, 9]]\n",
    "#ans 13\n",
    "get_minimum_cost_of_connecting(num_islands,bridge_config)"
   ]
  },
  {
   "cell_type": "markdown",
   "metadata": {
    "graffitiCellId": "id_07rfocu"
   },
   "source": [
    "<span class=\"graffiti-highlight graffiti-id_07rfocu-id_sgw589w\"><i></i><button>Show Solution</button></span>"
   ]
  },
  {
   "cell_type": "code",
   "execution_count": 22,
   "metadata": {
    "graffitiCellId": "id_pevivew"
   },
   "outputs": [],
   "source": [
    "def test_function(test_case):\n",
    "    num_islands = test_case[0]\n",
    "    bridge_config = test_case[1]\n",
    "    solution = test_case[2]\n",
    "    output = get_minimum_cost_of_connecting(num_islands, bridge_config)\n",
    "    \n",
    "    if output == solution:\n",
    "        print(\"Pass\")\n",
    "    else:\n",
    "        print(\"Fail\")"
   ]
  },
  {
   "cell_type": "code",
   "execution_count": null,
   "metadata": {
    "graffitiCellId": "id_sgw589w"
   },
   "outputs": [],
   "source": [
    "# Solution\n",
    "\n",
    "# The following Solution makes use of one of Python's PriorityQueue implementation (heapq)\n",
    "# For more details - https://thomas-cokelaer.info/tutorials/python/module_heapq.html\n",
    "import heapq\n",
    "def create_graph(num_islands, bridge_config):\n",
    "    \"\"\"\n",
    "    Helper function to create graph using adjacency list implementation\n",
    "    \"\"\"\n",
    "    adjacency_list = [list() for _ in range(num_islands + 1)]\n",
    "    \n",
    "    for config in bridge_config:\n",
    "        source = config[0]\n",
    "        destination = config[1]\n",
    "        cost = config[2]\n",
    "        adjacency_list[source].append((destination, cost))\n",
    "        adjacency_list[destination].append((source, cost))\n",
    "\n",
    "    return adjacency_list\n",
    "\n",
    "def minimum_cost(graph):\n",
    "    \"\"\"\n",
    "    Helper function to find minimum cost of connecting all islands\n",
    "    \"\"\"\n",
    "    \n",
    "    # start with vertex 1 (any vertex can be chosen)\n",
    "    start_vertex = 1\n",
    "    \n",
    "    # initialize a list to keep track of vertices that are visited\n",
    "    visited = [False for _ in range(len(graph) + 1)]\n",
    "    \n",
    "    # initialize starting list - (edge_cost, neighbor)\n",
    "    heap = [(0, start_vertex)]\n",
    "    total_cost = 0\n",
    "\n",
    "    while len(heap) > 0:\n",
    "        cost, current_vertex = heapq.heappop(heap)\n",
    "        \n",
    "        # check if current_vertex is already visited\n",
    "        if visited[current_vertex]:\n",
    "            continue\n",
    "\n",
    "        # else add cost to total-cost\n",
    "        total_cost += cost\n",
    "\n",
    "        for neighbor, edge_cost in graph[current_vertex]:\n",
    "            heapq.heappush(heap, (edge_cost, neighbor))\n",
    "\n",
    "        # mark current vertex as visited\n",
    "        visited[current_vertex] = True\n",
    "\n",
    "    return total_cost\n",
    "\n",
    "def get_minimum_cost_of_connecting(num_islands, bridge_config):\n",
    "    graph = create_graph(num_islands, bridge_config)\n",
    "    \n",
    "    return minimum_cost(graph)"
   ]
  },
  {
   "cell_type": "code",
   "execution_count": 23,
   "metadata": {
    "graffitiCellId": "id_5j7jeic"
   },
   "outputs": [
    {
     "name": "stdout",
     "output_type": "stream",
     "text": [
      "adjacency_list_graph: [[], [(2, 1), (4, 3), (3, 10)], [(1, 1), (3, 4)], [(2, 4), (4, 2), (1, 10)], [(1, 3), (3, 2)]]\n",
      "popout cost: 0 current_vertex: 1\n",
      "    Start, minheap_queue: []\n",
      "    End, minheap_queue: [(1, 2), (3, 4), (10, 3)]\n",
      "popout cost: 1 current_vertex: 2\n",
      "    Start, minheap_queue: [(3, 4), (10, 3)]\n",
      "    End, minheap_queue: [(1, 1), (4, 3), (3, 4), (10, 3)]\n",
      "popout cost: 1 current_vertex: 1\n",
      "    Start, minheap_queue: [(3, 4), (4, 3), (10, 3)]\n",
      "visited, skip\n",
      "popout cost: 3 current_vertex: 4\n",
      "    Start, minheap_queue: [(4, 3), (10, 3)]\n",
      "    End, minheap_queue: [(2, 3), (3, 1), (4, 3), (10, 3)]\n",
      "popout cost: 2 current_vertex: 3\n",
      "    Start, minheap_queue: [(3, 1), (10, 3), (4, 3)]\n",
      "    End, minheap_queue: [(2, 4), (3, 1), (4, 3), (10, 3), (4, 2), (10, 1)]\n",
      "popout cost: 2 current_vertex: 4\n",
      "    Start, minheap_queue: [(3, 1), (4, 2), (4, 3), (10, 3), (10, 1)]\n",
      "visited, skip\n",
      "popout cost: 3 current_vertex: 1\n",
      "    Start, minheap_queue: [(4, 2), (10, 1), (4, 3), (10, 3)]\n",
      "visited, skip\n",
      "popout cost: 4 current_vertex: 2\n",
      "    Start, minheap_queue: [(4, 3), (10, 1), (10, 3)]\n",
      "visited, skip\n",
      "popout cost: 4 current_vertex: 3\n",
      "    Start, minheap_queue: [(10, 1), (10, 3)]\n",
      "visited, skip\n",
      "popout cost: 10 current_vertex: 1\n",
      "    Start, minheap_queue: [(10, 3)]\n",
      "visited, skip\n",
      "popout cost: 10 current_vertex: 3\n",
      "    Start, minheap_queue: []\n",
      "visited, skip\n",
      "Pass\n"
     ]
    }
   ],
   "source": [
    "num_islands = 4\n",
    "bridge_config = [[1, 2, 1], [2, 3, 4], [1, 4, 3], [4, 3, 2], [1, 3, 10]]\n",
    "solution = 6\n",
    "\n",
    "test_case = [num_islands, bridge_config, solution]\n",
    "test_function(test_case)"
   ]
  },
  {
   "cell_type": "code",
   "execution_count": 24,
   "metadata": {
    "graffitiCellId": "id_txlblpb"
   },
   "outputs": [
    {
     "name": "stdout",
     "output_type": "stream",
     "text": [
      "adjacency_list_graph: [[], [(2, 5), (3, 8)], [(1, 5), (3, 9)], [(1, 8), (2, 9)], [], []]\n",
      "popout cost: 0 current_vertex: 1\n",
      "    Start, minheap_queue: []\n",
      "    End, minheap_queue: [(5, 2), (8, 3)]\n",
      "popout cost: 5 current_vertex: 2\n",
      "    Start, minheap_queue: [(8, 3)]\n",
      "    End, minheap_queue: [(5, 1), (8, 3), (9, 3)]\n",
      "popout cost: 5 current_vertex: 1\n",
      "    Start, minheap_queue: [(8, 3), (9, 3)]\n",
      "visited, skip\n",
      "popout cost: 8 current_vertex: 3\n",
      "    Start, minheap_queue: [(9, 3)]\n",
      "    End, minheap_queue: [(8, 1), (9, 3), (9, 2)]\n",
      "popout cost: 8 current_vertex: 1\n",
      "    Start, minheap_queue: [(9, 2), (9, 3)]\n",
      "visited, skip\n",
      "popout cost: 9 current_vertex: 2\n",
      "    Start, minheap_queue: [(9, 3)]\n",
      "visited, skip\n",
      "popout cost: 9 current_vertex: 3\n",
      "    Start, minheap_queue: []\n",
      "visited, skip\n",
      "Pass\n"
     ]
    }
   ],
   "source": [
    "num_islands = 5\n",
    "bridge_config = [[1, 2, 5], [1, 3, 8], [2, 3, 9]]\n",
    "solution = 13\n",
    "\n",
    "test_case = [num_islands, bridge_config, solution]\n",
    "test_function(test_case)"
   ]
  },
  {
   "cell_type": "code",
   "execution_count": 25,
   "metadata": {
    "graffitiCellId": "id_x9pmr53"
   },
   "outputs": [
    {
     "name": "stdout",
     "output_type": "stream",
     "text": [
      "adjacency_list_graph: [[], [(2, 3), (5, 9)], [(1, 3), (3, 10)], [(2, 10), (4, 9)], [(3, 9)], [(1, 9)]]\n",
      "popout cost: 0 current_vertex: 1\n",
      "    Start, minheap_queue: []\n",
      "    End, minheap_queue: [(3, 2), (9, 5)]\n",
      "popout cost: 3 current_vertex: 2\n",
      "    Start, minheap_queue: [(9, 5)]\n",
      "    End, minheap_queue: [(3, 1), (9, 5), (10, 3)]\n",
      "popout cost: 3 current_vertex: 1\n",
      "    Start, minheap_queue: [(9, 5), (10, 3)]\n",
      "visited, skip\n",
      "popout cost: 9 current_vertex: 5\n",
      "    Start, minheap_queue: [(10, 3)]\n",
      "    End, minheap_queue: [(9, 1), (10, 3)]\n",
      "popout cost: 9 current_vertex: 1\n",
      "    Start, minheap_queue: [(10, 3)]\n",
      "visited, skip\n",
      "popout cost: 10 current_vertex: 3\n",
      "    Start, minheap_queue: []\n",
      "    End, minheap_queue: [(9, 4), (10, 2)]\n",
      "popout cost: 9 current_vertex: 4\n",
      "    Start, minheap_queue: [(10, 2)]\n",
      "    End, minheap_queue: [(9, 3), (10, 2)]\n",
      "popout cost: 9 current_vertex: 3\n",
      "    Start, minheap_queue: [(10, 2)]\n",
      "visited, skip\n",
      "popout cost: 10 current_vertex: 2\n",
      "    Start, minheap_queue: []\n",
      "visited, skip\n",
      "Pass\n"
     ]
    }
   ],
   "source": [
    "num_islands = 5\n",
    "bridge_config = [[1, 2, 3], [1, 5, 9], [2, 3, 10], [4, 3, 9]]\n",
    "solution = 31\n",
    "\n",
    "test_case = [num_islands, bridge_config, solution]\n",
    "test_function(test_case)"
   ]
  },
  {
   "cell_type": "code",
   "execution_count": null,
   "metadata": {
    "graffitiCellId": "id_igqmgsk"
   },
   "outputs": [],
   "source": []
  }
 ],
 "metadata": {
  "graffiti": {
   "firstAuthorId": "dev",
   "id": "id_j75mgso",
   "language": "EN"
  },
  "kernelspec": {
   "display_name": "Python 3",
   "language": "python",
   "name": "python3"
  },
  "language_info": {
   "codemirror_mode": {
    "name": "ipython",
    "version": 3
   },
   "file_extension": ".py",
   "mimetype": "text/x-python",
   "name": "python",
   "nbconvert_exporter": "python",
   "pygments_lexer": "ipython3",
   "version": "3.6.3"
  }
 },
 "nbformat": 4,
 "nbformat_minor": 2
}
