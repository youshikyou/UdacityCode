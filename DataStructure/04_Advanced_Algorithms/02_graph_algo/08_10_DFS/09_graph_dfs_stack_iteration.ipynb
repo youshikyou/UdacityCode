{
 "cells": [
  {
   "cell_type": "markdown",
   "metadata": {
    "graffitiCellId": "id_m8owu67"
   },
   "source": [
    "# Graph Depth First Search\n",
    "In this exercise, you'll see how to do a depth first search on a graph. To start, let's create a graph class in Python."
   ]
  },
  {
   "cell_type": "code",
   "execution_count": 6,
   "metadata": {
    "graffitiCellId": "id_ahrjg5m"
   },
   "outputs": [],
   "source": [
    "class GraphNode(object):\n",
    "    def __init__(self, val):\n",
    "        self.value = val\n",
    "        self.linkedNode = []\n",
    "        \n",
    "    def add_linkedNode(self,new_node):\n",
    "        self.linkedNode.append(new_node)\n",
    "    \n",
    "    def remove_linkedNode(self,del_node):\n",
    "        if del_node in self.children:\n",
    "            self.linkedNode.remove(del_node)\n",
    "\n",
    "            \n",
    "            \n",
    "class Graph(object):\n",
    "    def __init__(self,node_list):\n",
    "        self.nodes = node_list\n",
    "        \n",
    "    def add_edge(self,node1,node2):\n",
    "        if(node1 in self.nodes and node2 in self.nodes):\n",
    "            node1.add_linkedNode(node2)\n",
    "            node2.add_linkedNode(node1)\n",
    "            \n",
    "    def remove_edge(self,node1,node2):\n",
    "        if(node1 in self.nodes and node2 in self.nodes):\n",
    "            node1.remove_linkedNode(node2)\n",
    "            node2.remove_linkedNode(node1)"
   ]
  },
  {
   "cell_type": "markdown",
   "metadata": {
    "graffitiCellId": "id_1gmwlh4"
   },
   "source": [
    "Now let's create the graph."
   ]
  },
  {
   "cell_type": "markdown",
   "metadata": {},
   "source": [
    "![title](assets/graphs.jpg)\n",
    "Consider the above graph structure. The following code initializes all the edges according to the above structure."
   ]
  },
  {
   "cell_type": "code",
   "execution_count": 7,
   "metadata": {
    "graffitiCellId": "id_7t1mjv6"
   },
   "outputs": [],
   "source": [
    "nodeG = GraphNode('G')\n",
    "nodeR = GraphNode('R')\n",
    "nodeA = GraphNode('A')\n",
    "nodeP = GraphNode('P')\n",
    "nodeH = GraphNode('H')\n",
    "nodeS = GraphNode('S')\n",
    "\n",
    "graph1 = Graph([nodeS,nodeH,nodeG,nodeP,nodeR,nodeA] ) \n",
    "graph1.add_edge(nodeG,nodeR)\n",
    "graph1.add_edge(nodeA,nodeR)\n",
    "graph1.add_edge(nodeA,nodeG)\n",
    "graph1.add_edge(nodeR,nodeP)\n",
    "graph1.add_edge(nodeH,nodeG)\n",
    "graph1.add_edge(nodeH,nodeP)\n",
    "graph1.add_edge(nodeS,nodeR)"
   ]
  },
  {
   "cell_type": "code",
   "execution_count": 8,
   "metadata": {},
   "outputs": [
    {
     "name": "stdout",
     "output_type": "stream",
     "text": [
      "parent node =  S\n",
      "children\n",
      "R \n",
      "\n",
      "parent node =  H\n",
      "children\n",
      "G P \n",
      "\n",
      "parent node =  G\n",
      "children\n",
      "R A H \n",
      "\n",
      "parent node =  P\n",
      "children\n",
      "R H \n",
      "\n",
      "parent node =  R\n",
      "children\n",
      "G A P S \n",
      "\n",
      "parent node =  A\n",
      "children\n",
      "R G \n",
      "\n"
     ]
    }
   ],
   "source": [
    "# To verify that the graph is created accurately.\n",
    "# Let's just print all the parent nodes and child nodes.\n",
    "for each in graph1.nodes:\n",
    "    print('parent node = ',each.value,end='\\nchildren\\n')\n",
    "    for each in each.linkedNode:\n",
    "        print(each.value,end=' ')\n",
    "    print('\\n')"
   ]
  },
  {
   "cell_type": "markdown",
   "metadata": {
    "graffitiCellId": "id_8vfpmgw"
   },
   "source": [
    "## Implement DFS\n",
    "Using what you know about DFS for trees, apply this to graphs. Implement the `dfs_search` to return the `GraphNode` with the value `search_value` starting at the `root_node`."
   ]
  },
  {
   "cell_type": "code",
   "execution_count": 18,
   "metadata": {
    "graffitiCellId": "id_k6nhmo1"
   },
   "outputs": [
    {
     "name": "stdout",
     "output_type": "stream",
     "text": [
      "cur_node.value S\n",
      "stack node R\n",
      "cur_node.value R\n",
      "stack node G\n",
      "stack node A\n",
      "stack node P\n",
      "cur_node.value P\n",
      "stack node G\n",
      "stack node A\n",
      "stack node H\n",
      "cur_node.value H\n",
      "stack node G\n",
      "stack node A\n",
      "stack node G\n",
      "cur_node.value G\n",
      "stack node G\n",
      "stack node A\n",
      "stack node A\n",
      "cur_node.value A\n",
      "stack node G\n",
      "stack node A\n",
      "Not found\n"
     ]
    }
   ],
   "source": [
    "def dfs_search(root_node, search_value):\n",
    "    \n",
    "    visited = []\n",
    "    stack = [root_node]\n",
    "    \n",
    "    while len(stack) > 0:\n",
    "        \n",
    "        #因為是用stack 去 pop 最上面的, 因此會被一直插隊, 導致depth first\n",
    "        #之前 BFS 是用queue, 所以新的會que在後面, 造成先BFS\n",
    "        cur_node = stack.pop()\n",
    "        \n",
    "        #不想要重複visited, 自己加的\n",
    "        #其實有沒有都差不多, 還是要pop出來\n",
    "        if cur_node in visited:\n",
    "            continue\n",
    "            \n",
    "        print('cur_node.value',cur_node.value)\n",
    "        #for node in cur_node.linkedNode:\n",
    "        #    print('cur_node.linkedNode',node.value)\n",
    "\n",
    "        visited.append(cur_node)\n",
    "        \n",
    "        if cur_node.value == search_value:\n",
    "            return cur_node\n",
    "        \n",
    "        \n",
    "        for node in cur_node.linkedNode:\n",
    "            if node not in visited:\n",
    "                #DFS 不能在這邊用visited 擋, 因為現在就是要push 進去他的下一步\n",
    "                #才會往DFS 走, 反而出現過的不用管他, 因為舊的也不是馬上要用的\n",
    "                #只好靠pop 再check 一次去省掉重複問題\n",
    "                #visited.append(node)\n",
    "\n",
    "                stack.append(node)\n",
    "            \n",
    "\n",
    "        #debug\n",
    "        for node in stack:\n",
    "            print('stack node',node.value)\n",
    "\n",
    "    \n",
    "    \n",
    "    return None\n",
    "\n",
    "\n",
    "#找一個都沒有的值, 就等於是traversal all\n",
    "foundnode=dfs_search(nodeS, 'Z')\n",
    "#foundnode=dfs_search(nodeS, 'A')\n",
    "\n",
    "if foundnode:\n",
    "    print(foundnode.value)\n",
    "else:\n",
    "    print('Not found')"
   ]
  },
  {
   "cell_type": "code",
   "execution_count": 19,
   "metadata": {},
   "outputs": [
    {
     "name": "stdout",
     "output_type": "stream",
     "text": [
      "cur_node: S\n",
      "cur_node: R\n",
      "cur_node: P\n",
      "cur_node: H\n",
      "cur_node: G\n",
      "cur_node: A\n",
      "Not found\n"
     ]
    }
   ],
   "source": [
    "#和 grahp BFS 一樣 原本的code 有重複跑node 的問題\n",
    "'''\n",
    "\n",
    "current_node.value S\n",
    "current_node.value R\n",
    "current_node.value P\n",
    "current_node.value H\n",
    "current_node.value G\n",
    "current_node.value A\n",
    "current_node.value A --->重複\n",
    "current_node.value G --->重複\n",
    "\n",
    "因為是DFS 當下push 進的才是最重要的, \n",
    "因此沒法像BFS 一樣把visited 加在push 前\n",
    "\n",
    "就只能靠pop完後再check了\n",
    "\n",
    "其實後來發現\n",
    "BFS,DFS 這些重複好像也沒關係\n",
    "\n",
    "\n",
    "'''\n",
    "\n",
    "def dfs_search(root_node, search_value):\n",
    "    \n",
    "    visited_map = {}\n",
    "    stack = [root_node]\n",
    "    \n",
    "    while len(stack) > 0:\n",
    "        \n",
    "        \n",
    "        cur_node = stack.pop()\n",
    "        if cur_node in visited_map:\n",
    "            continue\n",
    "            \n",
    "        visited_map[cur_node] = 1\n",
    "        print('cur_node:',cur_node.value)\n",
    "        \n",
    "        if cur_node.value == search_value:\n",
    "            return cur_node\n",
    "        \n",
    "        \n",
    "        for node in cur_node.linkedNode:\n",
    "            if node not in visited_map:\n",
    "                stack.append(node)\n",
    "    return None\n",
    "\n",
    "\n",
    "        \n",
    "#找一個都沒有的值, 就等於是traversal all\n",
    "foundnode=dfs_search(nodeS, 'Z')\n",
    "#foundnode=dfs_search(nodeS, 'A')\n",
    "\n",
    "if foundnode:\n",
    "    print(foundnode.value)\n",
    "else:\n",
    "    print('Not found')\n"
   ]
  },
  {
   "cell_type": "markdown",
   "metadata": {
    "graffitiCellId": "id_flg9zjy"
   },
   "source": [
    "<span class=\"graffiti-highlight graffiti-id_flg9zjy-id_4sn6eaw\"><i></i><button>Hide Solution</button></span>"
   ]
  },
  {
   "cell_type": "code",
   "execution_count": 15,
   "metadata": {
    "graffitiCellId": "id_4sn6eaw"
   },
   "outputs": [
    {
     "name": "stdout",
     "output_type": "stream",
     "text": [
      "current_node.value S\n",
      "current_node.value R\n",
      "current_node.value P\n",
      "current_node.value H\n",
      "current_node.value G\n",
      "current_node.value A\n",
      "current_node.value A\n",
      "current_node.value G\n",
      "Not found\n"
     ]
    }
   ],
   "source": [
    "def dfs_search(root_node, search_value):\n",
    "    visited = []\n",
    "    stack = [root_node]\n",
    "    \n",
    "    while len(stack) > 0:\n",
    "        current_node = stack.pop()\n",
    "        print('current_node.value',current_node.value)\n",
    "\n",
    "        visited.append(current_node)\n",
    "\n",
    "        if current_node.value == search_value:\n",
    "            return current_node\n",
    "\n",
    "        for child in current_node.linkedNode:\n",
    "            if child not in visited:\n",
    "                stack.append(child)\n",
    "                \n",
    "                \n",
    "#找一個都沒有的值, 就等於是traversal all\n",
    "foundnode=dfs_search(nodeS, 'Z')\n",
    "#foundnode=dfs_search(nodeS, 'A')\n",
    "\n",
    "if foundnode:\n",
    "    print(foundnode.value)\n",
    "else:\n",
    "    print('Not found')"
   ]
  },
  {
   "cell_type": "markdown",
   "metadata": {
    "graffitiCellId": "id_0aafts6"
   },
   "source": [
    "### Tests"
   ]
  },
  {
   "cell_type": "code",
   "execution_count": null,
   "metadata": {
    "graffitiCellId": "id_3k4dgr7"
   },
   "outputs": [],
   "source": [
    "assert nodeA == dfs_search(nodeS, 'A')\n",
    "assert nodeS == dfs_search(nodeP, 'S')\n",
    "assert nodeR == dfs_search(nodeH, 'R')"
   ]
  },
  {
   "cell_type": "code",
   "execution_count": null,
   "metadata": {
    "graffitiCellId": "id_gr6d4c9"
   },
   "outputs": [],
   "source": []
  }
 ],
 "metadata": {
  "graffiti": {
   "firstAuthorId": "10694620118",
   "id": "id_9f31yr7",
   "language": "EN"
  },
  "kernelspec": {
   "display_name": "Python 3",
   "language": "python",
   "name": "python3"
  },
  "language_info": {
   "codemirror_mode": {
    "name": "ipython",
    "version": 3
   },
   "file_extension": ".py",
   "mimetype": "text/x-python",
   "name": "python",
   "nbconvert_exporter": "python",
   "pygments_lexer": "ipython3",
   "version": "3.7.1"
  }
 },
 "nbformat": 4,
 "nbformat_minor": 2
}
