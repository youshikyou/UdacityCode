{
 "cells": [
  {
   "cell_type": "markdown",
   "metadata": {
    "graffitiCellId": "id_qfx0fir"
   },
   "source": [
    "# Graph Depth-First Search With Recursion"
   ]
  },
  {
   "cell_type": "markdown",
   "metadata": {
    "graffitiCellId": "id_dccwaz9"
   },
   "source": [
    "We've done depth-first search previously using an iterative approach (i.e., using a loop). In this notebook, we'll show how to implement a recursive soluton.\n",
    "\n",
    "The basic idea is to select a node and explore all the possible paths from that node, and to apply this recursively to each node we are exploring.\n",
    "\n",
    "You can see some helpful illustrations with various combinations here: https://www.cs.usfca.edu/~galles/visualization/DFS.html"
   ]
  },
  {
   "cell_type": "code",
   "execution_count": 2,
   "metadata": {
    "graffitiCellId": "id_g8yswc8"
   },
   "outputs": [],
   "source": [
    "# For this exercise we will be using an Adjacency List representation to store the graph.\n",
    "\n",
    "# Class Node representation.\n",
    "class Node:\n",
    "    def __init__(self,val):\n",
    "        self.value = val\n",
    "        self.linkedNodes = []\n",
    "        \n",
    "    def add_linkedNode(self,new_node):\n",
    "        self.linkedNodes.append(new_node)\n",
    "    \n",
    "    def remove_linkedNode(self,del_node):\n",
    "        if del_node in self.linkedNodes:\n",
    "            self.linkedNodes.remove(del_node)\n",
    "\n",
    "class Graph():\n",
    "    def __init__(self,node_list):\n",
    "        self.nodes = node_list\n",
    "        \n",
    "    def add_edge(self,node1,node2):\n",
    "        if(node1 in self.nodes and node2 in self.nodes):\n",
    "            node1.add_linkedNode(node2)\n",
    "            node2.add_linkedNode(node1)\n",
    "            \n",
    "    def remove_edge(self,node1,node2):\n",
    "        if(node1 in self.nodes and node2 in self.nodes):\n",
    "            node1.remove_linkedNode(node2)\n",
    "            node2.remove_linkedNode(node1)"
   ]
  },
  {
   "cell_type": "markdown",
   "metadata": {
    "graffitiCellId": "id_8yd5g3t"
   },
   "source": [
    "### Initializing Graph with an example"
   ]
  },
  {
   "cell_type": "markdown",
   "metadata": {
    "graffitiCellId": "id_gcu50h2"
   },
   "source": [
    "![title](assets/graphs.jpg)\n",
    "Consider the above graph structure. The following code initializes all the edges according to the above structure."
   ]
  },
  {
   "cell_type": "code",
   "execution_count": 4,
   "metadata": {
    "graffitiCellId": "id_l75ft9n"
   },
   "outputs": [],
   "source": [
    "# Creating a graph as above.\n",
    "nodeG = Node('G')\n",
    "nodeR = Node('R')\n",
    "nodeA = Node('A')\n",
    "nodeP = Node('P')\n",
    "nodeH = Node('H')\n",
    "nodeS = Node('S')\n",
    "\n",
    "graph1 = Graph([nodeS,nodeH,nodeG,nodeP,nodeR,nodeA] ) \n",
    "\n",
    "graph1.add_edge(nodeG,nodeR)\n",
    "graph1.add_edge(nodeA,nodeR)\n",
    "graph1.add_edge(nodeA,nodeG)\n",
    "graph1.add_edge(nodeR,nodeP)\n",
    "graph1.add_edge(nodeH,nodeG)\n",
    "graph1.add_edge(nodeH,nodeP)\n",
    "graph1.add_edge(nodeS,nodeR)"
   ]
  },
  {
   "cell_type": "code",
   "execution_count": 6,
   "metadata": {
    "graffitiCellId": "id_j63zvsw"
   },
   "outputs": [
    {
     "name": "stdout",
     "output_type": "stream",
     "text": [
      "parent node =  S\n",
      "children\n",
      "R \n",
      "\n",
      "parent node =  H\n",
      "children\n",
      "G P \n",
      "\n",
      "parent node =  G\n",
      "children\n",
      "R A H \n",
      "\n",
      "parent node =  P\n",
      "children\n",
      "R H \n",
      "\n",
      "parent node =  R\n",
      "children\n",
      "G A P S \n",
      "\n",
      "parent node =  A\n",
      "children\n",
      "R G \n",
      "\n"
     ]
    }
   ],
   "source": [
    "# To verify that the graph is created accurately.\n",
    "# Let's just print all the parent nodes and child nodes.\n",
    "for each in graph1.nodes:\n",
    "    print('parent node = ',each.value,end='\\nchildren\\n')\n",
    "    for each in each.linkedNodes:\n",
    "        print(each.value,end=' ')\n",
    "    print('\\n')"
   ]
  },
  {
   "cell_type": "markdown",
   "metadata": {
    "graffitiCellId": "id_bweutr7"
   },
   "source": [
    "### Sample input and output \n",
    "\n",
    "The output would vary based on the implementation of your algorithm, the order in which children are stored within the adjacency list."
   ]
  },
  {
   "cell_type": "markdown",
   "metadata": {
    "graffitiCellId": "id_mqzklsq"
   },
   "source": [
    "### DFS using recursion\n",
    "Now that we have our example graph initialized, we are ready to do the actual depth-first search. Here's what that looks like:"
   ]
  },
  {
   "cell_type": "code",
   "execution_count": 21,
   "metadata": {
    "graffitiCellId": "id_ur06j6d"
   },
   "outputs": [],
   "source": [
    "#my \n",
    "\n",
    "def dfs_recursion_start(self, start_node):\n",
    "    visited_map = {}\n",
    "    self.dfs_recursion(start_node, visited_map)\n",
    "\n",
    "def dfs_recursion(self, node, visited_map):\n",
    "    \n",
    "    \n",
    "    \n",
    "    #base case\n",
    "    if node == None:\n",
    "        return False\n",
    "    \n",
    "    visited_map[node.value] = True\n",
    "    \n",
    "    #do the things...\n",
    "    print('visiting',node.value)\n",
    "    for item in node.linkedNodes:\n",
    "        print('    linkedNode:',item.value)\n",
    "    \n",
    "    #calling to next level, Dfs, depth first\n",
    "    for node in node.linkedNodes:\n",
    "        if node.value not in visited_map:\n",
    "            self.dfs_recursion(node, visited_map)\n",
    "\n",
    "    \n",
    "    "
   ]
  },
  {
   "cell_type": "code",
   "execution_count": 22,
   "metadata": {
    "graffitiCellId": "id_6o2fv7v"
   },
   "outputs": [
    {
     "name": "stdout",
     "output_type": "stream",
     "text": [
      "visiting S\n",
      "    linkedNode: R\n",
      "visiting R\n",
      "    linkedNode: G\n",
      "    linkedNode: A\n",
      "    linkedNode: P\n",
      "    linkedNode: S\n",
      "visiting G\n",
      "    linkedNode: R\n",
      "    linkedNode: A\n",
      "    linkedNode: H\n",
      "visiting A\n",
      "    linkedNode: R\n",
      "    linkedNode: G\n",
      "visiting H\n",
      "    linkedNode: G\n",
      "    linkedNode: P\n",
      "visiting P\n",
      "    linkedNode: R\n",
      "    linkedNode: H\n"
     ]
    }
   ],
   "source": [
    "#add two new member function\n",
    "Graph.dfs_recursion_start = dfs_recursion_start\n",
    "Graph.dfs_recursion = dfs_recursion\n",
    "\n",
    "#run\n",
    "graph1.dfs_recursion_start(nodeS) "
   ]
  },
  {
   "cell_type": "code",
   "execution_count": 9,
   "metadata": {
    "graffitiCellId": "id_5flkhp3"
   },
   "outputs": [],
   "source": [
    "def dfs_recursion_start(self, start_node):\n",
    "    visited = {}\n",
    "    self.dfs_recursion(start_node, visited)\n",
    "\n",
    "def dfs_recursion(self, node,visited):\n",
    "    \n",
    "    if(node == None):\n",
    "        return False\n",
    "    \n",
    "    visited[node.value] = True\n",
    "    \n",
    "    #do something you want for this node\n",
    "    print(node.value)\n",
    "    \n",
    "    #calling to next level\n",
    "    for each in node.linkedNodes:\n",
    "        if( each.value not in visited ):\n",
    "            self.dfs_recursion(each,visited)"
   ]
  },
  {
   "cell_type": "code",
   "execution_count": 12,
   "metadata": {
    "graffitiCellId": "id_1hnatw7"
   },
   "outputs": [
    {
     "name": "stdout",
     "output_type": "stream",
     "text": [
      "S\n",
      "R\n",
      "G\n",
      "A\n",
      "H\n",
      "P\n"
     ]
    }
   ],
   "source": [
    "#add two new member function\n",
    "Graph.dfs_recursion_start = dfs_recursion_start\n",
    "Graph.dfs_recursion = dfs_recursion\n",
    "\n",
    "#run\n",
    "graph1.dfs_recursion_start(nodeS)    "
   ]
  },
  {
   "cell_type": "code",
   "execution_count": null,
   "metadata": {
    "graffitiCellId": "id_ckhsd7h"
   },
   "outputs": [],
   "source": []
  }
 ],
 "metadata": {
  "graffiti": {
   "firstAuthorId": "10694620118",
   "id": "id_hv4tail",
   "language": "EN"
  },
  "kernelspec": {
   "display_name": "Python 3",
   "language": "python",
   "name": "python3"
  },
  "language_info": {
   "codemirror_mode": {
    "name": "ipython",
    "version": 3
   },
   "file_extension": ".py",
   "mimetype": "text/x-python",
   "name": "python",
   "nbconvert_exporter": "python",
   "pygments_lexer": "ipython3",
   "version": "3.7.1"
  }
 },
 "nbformat": 4,
 "nbformat_minor": 2
}
