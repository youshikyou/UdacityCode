{
 "cells": [
  {
   "cell_type": "markdown",
   "metadata": {
    "graffitiCellId": "id_19cls48"
   },
   "source": [
    "# Graph Breadth First Search\n",
    "In this exercise, you'll see how to do a breadth first search on a graph. To start, let's create a graph class in Python."
   ]
  },
  {
   "cell_type": "code",
   "execution_count": 31,
   "metadata": {
    "graffitiCellId": "id_pmkelaq"
   },
   "outputs": [],
   "source": [
    "class GraphNode(object):\n",
    "    def __init__(self, val):\n",
    "        self.value = val\n",
    "        self.children = []\n",
    "        \n",
    "    def add_child(self,new_node):\n",
    "        self.children.append(new_node)\n",
    "    \n",
    "    def remove_child(self,del_node):\n",
    "        if del_node in self.children:\n",
    "            self.children.remove(del_node)\n",
    "\n",
    "class Graph(object):\n",
    "    def __init__(self,node_list):\n",
    "        self.nodes = node_list\n",
    "        \n",
    "    def add_edge(self,node1,node2):\n",
    "        if(node1 in self.nodes and node2 in self.nodes):\n",
    "            node1.add_child(node2)\n",
    "            node2.add_child(node1)\n",
    "            \n",
    "    def remove_edge(self,node1,node2):\n",
    "        if(node1 in self.nodes and node2 in self.nodes):\n",
    "            node1.remove_child(node2)\n",
    "            node2.remove_child(node1)"
   ]
  },
  {
   "cell_type": "markdown",
   "metadata": {
    "graffitiCellId": "id_dk66y5p"
   },
   "source": [
    "Now let's create the graph."
   ]
  },
  {
   "cell_type": "code",
   "execution_count": 32,
   "metadata": {
    "graffitiCellId": "id_4twme6x"
   },
   "outputs": [],
   "source": [
    "nodeG = GraphNode('G')\n",
    "nodeR = GraphNode('R')\n",
    "nodeA = GraphNode('A')\n",
    "nodeP = GraphNode('P')\n",
    "nodeH = GraphNode('H')\n",
    "nodeS = GraphNode('S')\n",
    "\n",
    "graph1 = Graph([nodeS,nodeH,nodeG,nodeP,nodeR,nodeA] ) \n",
    "graph1.add_edge(nodeG,nodeR)\n",
    "graph1.add_edge(nodeA,nodeR)\n",
    "graph1.add_edge(nodeA,nodeG)\n",
    "graph1.add_edge(nodeR,nodeP)\n",
    "graph1.add_edge(nodeH,nodeG)\n",
    "graph1.add_edge(nodeH,nodeP)\n",
    "graph1.add_edge(nodeS,nodeR)"
   ]
  },
  {
   "cell_type": "code",
   "execution_count": 33,
   "metadata": {
    "graffitiCellId": "id_q3hbluj"
   },
   "outputs": [
    {
     "name": "stdout",
     "output_type": "stream",
     "text": [
      "parent node =  S\n",
      "children\n",
      "R \n",
      "\n",
      "parent node =  H\n",
      "children\n",
      "G P \n",
      "\n",
      "parent node =  G\n",
      "children\n",
      "R A H \n",
      "\n",
      "parent node =  P\n",
      "children\n",
      "R H \n",
      "\n",
      "parent node =  R\n",
      "children\n",
      "G A P S \n",
      "\n",
      "parent node =  A\n",
      "children\n",
      "R G \n",
      "\n"
     ]
    }
   ],
   "source": [
    "# To verify that the graph is created accurately.\n",
    "# Let's just print all the parent nodes and child nodes.\n",
    "for each in graph1.nodes:\n",
    "    print('parent node = ',each.value,end='\\nchildren\\n')\n",
    "    for each in each.children:\n",
    "        print(each.value,end=' ')\n",
    "    print('\\n')"
   ]
  },
  {
   "cell_type": "markdown",
   "metadata": {
    "graffitiCellId": "id_iplss81"
   },
   "source": [
    "## Implement BFS\n",
    "Using what you know about BFS for trees and DFS for graphs, let's do BFS for graphs. Implement the `bfs_search` to return the `GraphNode` with the value `search_value` starting at the `root_node`."
   ]
  },
  {
   "cell_type": "code",
   "execution_count": 36,
   "metadata": {
    "graffitiCellId": "id_1vk7aeh"
   },
   "outputs": [
    {
     "name": "stdout",
     "output_type": "stream",
     "text": [
      "    --- queue item S\n",
      "visited_map: {'S': 1}\n",
      "pop cur_node: S\n",
      "========= append queue: R\n",
      "    --- queue item R\n",
      "visited_map: {'S': 1, 'R': 1}\n",
      "pop cur_node: R\n",
      "========= append queue: G\n",
      "========= append queue: A\n",
      "========= append queue: P\n",
      "    --- queue item G\n",
      "    --- queue item A\n",
      "    --- queue item P\n",
      "visited_map: {'S': 1, 'R': 1, 'G': 1, 'A': 1, 'P': 1}\n",
      "pop cur_node: G\n",
      "========= append queue: H\n",
      "    --- queue item A\n",
      "    --- queue item P\n",
      "    --- queue item H\n",
      "visited_map: {'S': 1, 'R': 1, 'G': 1, 'A': 1, 'P': 1, 'H': 1}\n",
      "pop cur_node: A\n",
      "    --- queue item P\n",
      "    --- queue item H\n",
      "visited_map: {'S': 1, 'R': 1, 'G': 1, 'A': 1, 'P': 1, 'H': 1}\n",
      "pop cur_node: P\n",
      "    --- queue item H\n",
      "visited_map: {'S': 1, 'R': 1, 'G': 1, 'A': 1, 'P': 1, 'H': 1}\n",
      "pop cur_node: H\n",
      "None\n"
     ]
    }
   ],
   "source": [
    "#iteration\n",
    "def bfs_search(root_node, search_value):\n",
    "    \n",
    "    visited_map ={} #<value,1/0>\n",
    "    queue = [root_node]\n",
    "    visited_map[root_node.value] = 1\n",
    "    \n",
    "    while len(queue) > 0:\n",
    "        \n",
    "        for item in queue:\n",
    "            print('    --- queue item',item.value)\n",
    "\n",
    "        cur_node = queue.pop(0)\n",
    "        #不想要重複visited\n",
    "        #if cur_node.value in visited_map:\n",
    "        #    continue\n",
    "            \n",
    "        visited_map[cur_node.value] = 1\n",
    "        print('visited_map:',visited_map)\n",
    "\n",
    "        print('pop cur_node:',cur_node.value)\n",
    "        \n",
    "        if cur_node.value == search_value:\n",
    "            return cur_node\n",
    "        \n",
    "        for item in cur_node.children:\n",
    "            if item.value not in visited_map:\n",
    "                print('========= append queue:',item.value)\n",
    "                #push 過的應該在這裡要把map set =1, 這樣才不會重複push  \n",
    "                #ex: queue = A X X A --> 第二個A 又 push 一次queue, 但第一個A還沒被pop到\n",
    "                visited_map[item.value] = 1 #看要改這邊還是 上面一pop完check 一下\n",
    "                \n",
    "                \n",
    "                queue.append(item)\n",
    "    return None\n",
    "\n",
    "#rstnode = bfs_search(nodeS, 'A')\n",
    "rstnode = bfs_search(nodeS, 'Z')\n",
    "if rstnode:\n",
    "    print(rstnode.value)\n",
    "else:\n",
    "    print('None')"
   ]
  },
  {
   "cell_type": "code",
   "execution_count": 43,
   "metadata": {
    "graffitiCellId": "id_dv9l6ug"
   },
   "outputs": [
    {
     "name": "stdout",
     "output_type": "stream",
     "text": [
      "cur_node: S\n",
      "cur_node: R\n",
      "cur_node: G\n",
      "cur_node: A\n",
      "cur_node: P\n",
      "cur_node: H\n",
      "None\n"
     ]
    }
   ],
   "source": [
    "#my clean version again, the same as above\n",
    "#don't want to visit the same node twice \n",
    "\n",
    "#解答的log\n",
    "'''\n",
    "\n",
    "current_node: S\n",
    "current_node: R\n",
    "current_node: G\n",
    "current_node: A\n",
    "current_node: P\n",
    "current_node: A -> 當時多push 進queue\n",
    "current_node: H -> 當時多push 進queue\n",
    "current_node: H\n",
    "\n",
    "\n",
    "你會發現 SRGAPH 應該就要stop 了, 他還會繼續 A, H\n",
    "原因是因為當時在push A,H 時, 也有另外一個 A,H 在 queue中還沒被執行\n",
    "因此參考的 visited_map 裡面也沒有他們, 所以重複的AH 又被push 一次\n",
    "\n",
    "因此我主張, visitted_map 應該改為 pushed_map , 含義\n",
    "改成有被push queue過的都set 1, 反正push 過自然後面會被處理\n",
    "也沒有什麼丟失的問題\n",
    "'''\n",
    "\n",
    "\n",
    "def bfs_search(root_node, search_value):\n",
    "    \n",
    "    pushed_map = {}\n",
    "    queue = [root_node]\n",
    "    pushed_map[root_node] = 1\n",
    "    \n",
    "    \n",
    "    while len(queue) > 0 :\n",
    "        \n",
    "        cur_node = queue.pop(0)\n",
    "        \n",
    "        print('cur_node:',cur_node.value)\n",
    "        \n",
    "        if cur_node.value == search_value:\n",
    "            return cur_node\n",
    "        \n",
    "        for node in cur_node.children:\n",
    "            if node not in pushed_map:\n",
    "                pushed_map[node] = 1\n",
    "                queue.append(node)\n",
    "        \n",
    "    return None\n",
    "\n",
    "#rstnode = bfs_search(nodeS, 'A')\n",
    "rstnode = bfs_search(nodeS, 'Z')\n",
    "if rstnode:\n",
    "    print(rstnode.value)\n",
    "else:\n",
    "    print('None')\n",
    "    \n",
    "    \n",
    "'''\n",
    "cur_node: S\n",
    "cur_node: R\n",
    "cur_node: G\n",
    "cur_node: A\n",
    "cur_node: P\n",
    "cur_node: H\n",
    "\n",
    "沒有再重複 AH 了\n",
    "\n",
    "\n",
    "'''"
   ]
  },
  {
   "cell_type": "code",
   "execution_count": 40,
   "metadata": {
    "graffitiCellId": "id_g7fi7m5"
   },
   "outputs": [
    {
     "name": "stdout",
     "output_type": "stream",
     "text": [
      "current_node: S\n",
      "current_node: R\n",
      "current_node: G\n",
      "current_node: A\n",
      "current_node: P\n",
      "current_node: A\n",
      "current_node: H\n",
      "current_node: H\n"
     ]
    }
   ],
   "source": [
    "def bfs_search(root_node, search_value):\n",
    "    visited = []\n",
    "    queue = [root_node]\n",
    "    \n",
    "    while len(queue) > 0:\n",
    "        current_node = queue.pop(0)\n",
    "        print('current_node:',current_node.value)\n",
    "        visited.append(current_node)\n",
    "\n",
    "        if current_node.value == search_value:\n",
    "            return current_node\n",
    "\n",
    "        for child in current_node.children:\n",
    "            if child not in visited:\n",
    "                queue.append(child)\n",
    "                \n",
    "bfs_search(nodeS, 'Z')\n"
   ]
  },
  {
   "cell_type": "markdown",
   "metadata": {
    "graffitiCellId": "id_fg1wpq1"
   },
   "source": [
    "<span class=\"graffiti-highlight graffiti-id_fg1wpq1-id_g7fi7m5\"><i></i><button>Show Solution</button></span>"
   ]
  },
  {
   "cell_type": "markdown",
   "metadata": {
    "graffitiCellId": "id_ej37296"
   },
   "source": [
    "### Tests"
   ]
  },
  {
   "cell_type": "code",
   "execution_count": 30,
   "metadata": {
    "graffitiCellId": "id_ajsx9hw"
   },
   "outputs": [
    {
     "name": "stdout",
     "output_type": "stream",
     "text": [
      "    --- queue item S\n",
      "visited_map: {'S': 1}\n",
      "pop cur_node: S\n",
      "========= append queue: R\n",
      "    --- queue item R\n",
      "visited_map: {'S': 1, 'R': 1}\n",
      "pop cur_node: R\n",
      "========= append queue: G\n",
      "========= append queue: A\n",
      "========= append queue: P\n",
      "    --- queue item G\n",
      "    --- queue item A\n",
      "    --- queue item P\n",
      "visited_map: {'S': 1, 'R': 1, 'G': 1, 'A': 1, 'P': 1}\n",
      "pop cur_node: G\n",
      "========= append queue: H\n",
      "    --- queue item A\n",
      "    --- queue item P\n",
      "    --- queue item H\n",
      "visited_map: {'S': 1, 'R': 1, 'G': 1, 'A': 1, 'P': 1, 'H': 1}\n",
      "pop cur_node: A\n",
      "    --- queue item P\n",
      "visited_map: {'P': 1}\n",
      "pop cur_node: P\n",
      "========= append queue: R\n",
      "========= append queue: H\n",
      "    --- queue item R\n",
      "    --- queue item H\n",
      "visited_map: {'P': 1, 'R': 1, 'H': 1}\n",
      "pop cur_node: R\n",
      "========= append queue: G\n",
      "========= append queue: A\n",
      "========= append queue: S\n",
      "    --- queue item H\n",
      "    --- queue item G\n",
      "    --- queue item A\n",
      "    --- queue item S\n",
      "visited_map: {'P': 1, 'R': 1, 'H': 1, 'G': 1, 'A': 1, 'S': 1}\n",
      "pop cur_node: H\n",
      "    --- queue item G\n",
      "    --- queue item A\n",
      "    --- queue item S\n",
      "visited_map: {'P': 1, 'R': 1, 'H': 1, 'G': 1, 'A': 1, 'S': 1}\n",
      "pop cur_node: G\n",
      "    --- queue item A\n",
      "    --- queue item S\n",
      "visited_map: {'P': 1, 'R': 1, 'H': 1, 'G': 1, 'A': 1, 'S': 1}\n",
      "pop cur_node: A\n",
      "    --- queue item S\n",
      "visited_map: {'P': 1, 'R': 1, 'H': 1, 'G': 1, 'A': 1, 'S': 1}\n",
      "pop cur_node: S\n",
      "    --- queue item H\n",
      "visited_map: {'H': 1}\n",
      "pop cur_node: H\n",
      "========= append queue: G\n",
      "========= append queue: P\n",
      "    --- queue item G\n",
      "    --- queue item P\n",
      "visited_map: {'H': 1, 'G': 1, 'P': 1}\n",
      "pop cur_node: G\n",
      "========= append queue: R\n",
      "========= append queue: A\n",
      "    --- queue item P\n",
      "    --- queue item R\n",
      "    --- queue item A\n",
      "visited_map: {'H': 1, 'G': 1, 'P': 1, 'R': 1, 'A': 1}\n",
      "pop cur_node: P\n",
      "    --- queue item R\n",
      "    --- queue item A\n",
      "visited_map: {'H': 1, 'G': 1, 'P': 1, 'R': 1, 'A': 1}\n",
      "pop cur_node: R\n"
     ]
    }
   ],
   "source": [
    "assert nodeA == bfs_search(nodeS, 'A')\n",
    "assert nodeS == bfs_search(nodeP, 'S')\n",
    "assert nodeR == bfs_search(nodeH, 'R')"
   ]
  },
  {
   "cell_type": "code",
   "execution_count": null,
   "metadata": {
    "graffitiCellId": "id_9mm8yo6"
   },
   "outputs": [],
   "source": []
  }
 ],
 "metadata": {
  "graffiti": {
   "firstAuthorId": "dev",
   "id": "id_kq4h66c",
   "language": "EN"
  },
  "kernelspec": {
   "display_name": "Python 3",
   "language": "python",
   "name": "python3"
  },
  "language_info": {
   "codemirror_mode": {
    "name": "ipython",
    "version": 3
   },
   "file_extension": ".py",
   "mimetype": "text/x-python",
   "name": "python",
   "nbconvert_exporter": "python",
   "pygments_lexer": "ipython3",
   "version": "3.7.1"
  }
 },
 "nbformat": 4,
 "nbformat_minor": 2
}
