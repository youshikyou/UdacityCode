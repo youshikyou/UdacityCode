{
 "cells": [
  {
   "cell_type": "markdown",
   "metadata": {
    "graffitiCellId": "id_0ojz955"
   },
   "source": [
    "# Dijkstra's Algorithm\n",
    "In this exercise, you'll implement Dijkstra's algorithm. First, let's build the graph.\n",
    "## Graph Representation\n",
    "In order to run Dijkstra's Algorithm, we'll need to add distance to each edge. We'll use the `GraphEdge` class below to represent each edge between a node."
   ]
  },
  {
   "cell_type": "code",
   "execution_count": 1,
   "metadata": {
    "graffitiCellId": "id_popacit"
   },
   "outputs": [],
   "source": [
    "class GraphEdgeToNode(object):\n",
    "    def __init__(self, node, distance):\n",
    "        self.dest_node = node#把這個邊要去的目的node直接存進來\n",
    "        self.distance = distance"
   ]
  },
  {
   "cell_type": "markdown",
   "metadata": {
    "graffitiCellId": "id_ljgv5p0"
   },
   "source": [
    "The new graph representation should look like this:"
   ]
  },
  {
   "cell_type": "code",
   "execution_count": 2,
   "metadata": {
    "graffitiCellId": "id_llarxxs"
   },
   "outputs": [],
   "source": [
    "class GraphNode(object):\n",
    "    def __init__(self, val):\n",
    "        self.value = val\n",
    "        self.edges = []\n",
    "\n",
    "    def add_linkedNodebyEdge(self, dest_node, distance):\n",
    "        self.edges.append(GraphEdgeToNode(dest_node, distance))\n",
    "\n",
    "    def remove_linkedNodebyEdge(self, del_node):\n",
    "        if del_node in self.edges:\n",
    "            self.edges.remove(del_node)\n",
    "\n",
    "class Graph(object):\n",
    "    def __init__(self, node_list):\n",
    "        self.nodes = node_list\n",
    "\n",
    "    def add_edgeAndNode(self, from_node1, to_node2, distance):\n",
    "        \n",
    "        if from_node1 in self.nodes and to_node2 in self.nodes:\n",
    "            #無向圖, 兩邊都要連\n",
    "            from_node1.add_linkedNodebyEdge(to_node2, distance)\n",
    "            to_node2.add_linkedNodebyEdge(from_node1, distance)\n",
    "\n",
    "    def remove_edgeAndNode(self, from_node1, to_node2):\n",
    "        if from_node1 in self.nodes and to_node2 in self.nodes:\n",
    "            from_node1.remove_child(to_node2)\n",
    "            to_node2.remove_child(from_node1)"
   ]
  },
  {
   "cell_type": "markdown",
   "metadata": {
    "graffitiCellId": "id_2m0r1p6"
   },
   "source": [
    "Now let's create the graph."
   ]
  },
  {
   "cell_type": "code",
   "execution_count": 3,
   "metadata": {
    "graffitiCellId": "id_9zgbdrn"
   },
   "outputs": [],
   "source": [
    "node_u = GraphNode('U')\n",
    "node_d = GraphNode('D')\n",
    "node_a = GraphNode('A')\n",
    "node_c = GraphNode('C')\n",
    "node_i = GraphNode('I')\n",
    "node_t = GraphNode('T')\n",
    "node_y = GraphNode('Y')\n",
    "\n",
    "graph = Graph([node_u, node_d, node_a, node_c, node_i, node_t, node_y])\n",
    "graph.add_edgeAndNode(node_u, node_a, 4)\n",
    "graph.add_edgeAndNode(node_u, node_c, 6)\n",
    "graph.add_edgeAndNode(node_u, node_d, 3)\n",
    "\n",
    "graph.add_edgeAndNode(node_d, node_u, 3)\n",
    "graph.add_edgeAndNode(node_d, node_c, 4)\n",
    "\n",
    "graph.add_edgeAndNode(node_a, node_u, 4)\n",
    "graph.add_edgeAndNode(node_a, node_i, 7)\n",
    "\n",
    "graph.add_edgeAndNode(node_c, node_d, 4)\n",
    "graph.add_edgeAndNode(node_c, node_u, 6)\n",
    "graph.add_edgeAndNode(node_c, node_i, 4)\n",
    "graph.add_edgeAndNode(node_c, node_t, 5)\n",
    "\n",
    "graph.add_edgeAndNode(node_i, node_a, 7)\n",
    "graph.add_edgeAndNode(node_i, node_c, 4)\n",
    "graph.add_edgeAndNode(node_i, node_y, 4)\n",
    "\n",
    "graph.add_edgeAndNode(node_t, node_c, 5)\n",
    "graph.add_edgeAndNode(node_t, node_y, 5)\n",
    "\n",
    "graph.add_edgeAndNode(node_y, node_i, 4)\n",
    "graph.add_edgeAndNode(node_y, node_t, 5)"
   ]
  },
  {
   "cell_type": "code",
   "execution_count": 4,
   "metadata": {
    "graffitiCellId": "id_rrxzy28"
   },
   "outputs": [
    {
     "name": "stdout",
     "output_type": "stream",
     "text": [
      "parent node =  U\n",
      "children\n",
      "4 A, 6 C, 3 D, 3 D, 4 A, 6 C, \n",
      "\n",
      "parent node =  D\n",
      "children\n",
      "3 U, 3 U, 4 C, 4 C, \n",
      "\n",
      "parent node =  A\n",
      "children\n",
      "4 U, 4 U, 7 I, 7 I, \n",
      "\n",
      "parent node =  C\n",
      "children\n",
      "6 U, 4 D, 4 D, 6 U, 4 I, 5 T, 4 I, 5 T, \n",
      "\n",
      "parent node =  I\n",
      "children\n",
      "7 A, 4 C, 7 A, 4 C, 4 Y, 4 Y, \n",
      "\n",
      "parent node =  T\n",
      "children\n",
      "5 C, 5 C, 5 Y, 5 Y, \n",
      "\n",
      "parent node =  Y\n",
      "children\n",
      "4 I, 5 T, 4 I, 5 T, \n",
      "\n"
     ]
    }
   ],
   "source": [
    "# To verify that the graph is created accurately.\n",
    "# Let's just print all the parent nodes and child nodes.\n",
    "for each in graph.nodes:\n",
    "    print('parent node = ',each.value,end='\\nchildren\\n')\n",
    "    for item in each.edges:\n",
    "        print(item.distance,item.dest_node.value,end=', ')\n",
    "    print('\\n')\n",
    "    \n",
    "'''\n",
    "parent node =  U\n",
    "edges\n",
    "4 A, 6 C, 3 D, 3 D, 4 A, 6 C, \n",
    "ACDDAC 重複了一遍, 因為無向圖在add_edgeAndNode時候\n",
    "重複加了一次\n",
    "\n",
    "不確定之後有沒有用到, 先這樣設計\n",
    "至少暫時合乎預期\n",
    "\n",
    "''';"
   ]
  },
  {
   "cell_type": "markdown",
   "metadata": {
    "graffitiCellId": "id_v79ttrc"
   },
   "source": [
    "## Implementation\n",
    "Using what you've learned, implement Dijkstra's Algorithm to find the shortest distance from the \"U\" node to the \"Y\" node. "
   ]
  },
  {
   "cell_type": "markdown",
   "metadata": {},
   "source": [
    "![](./01graph_start.png)"
   ]
  },
  {
   "cell_type": "code",
   "execution_count": 11,
   "metadata": {
    "graffitiCellId": "id_zx9fvl9"
   },
   "outputs": [
    {
     "name": "stdout",
     "output_type": "stream",
     "text": [
      "[['U', 0], ['D', 3], ['A', 4], ['C', 6], ['I', 10], ['T', 11], ['Y', 14]]\n",
      "Shortest Distance from U to Y is 14\n"
     ]
    }
   ],
   "source": [
    "import math\n",
    "#只能給出最小距離值, 沒法印出路徑\n",
    "def dijkstra(start_node, end_node):\n",
    "    ################\n",
    "    # preset\n",
    "    ################\n",
    "    #1 需要一個 distance queue or dic 記錄node 的 cost\n",
    "    # 所有nodes 先初始化距離成 無限遠\n",
    "    # <node:edge distance>\n",
    "    distance_dict = {node: math.inf   for node in graph.nodes}\n",
    "    #存rest 用\n",
    "    #shortest_path_to_node = {}#<node:total distance>\n",
    "    shortest_path_to_node = []\n",
    "    \n",
    "    #############\n",
    "    #2 algo: 求出start node 到所有node 的 mindistance, 放到 shortest_path_to_node 裡\n",
    "    #############\n",
    "    distance_dict[start_node] = 0\n",
    "    \n",
    "    while len(distance_dict)>0:\n",
    "        #依照value sorted 過後, 取出第一個最小的  \n",
    "        current_node, node_distance = sorted(distance_dict.items(), key=lambda x: x[1])[0]\n",
    "        #塞給答案\n",
    "        #shortest_path_to_node[current_node] = distance_dict.pop(current_node)\n",
    "        shortest_path_to_node.append([current_node.value,distance_dict.pop(current_node)])\n",
    "\n",
    "        #差看剛才該走的那個node, 他所有的edge\n",
    "        for edge in current_node.edges:\n",
    "            #叫出這個edge 想去的 destination node\n",
    "            dest_node = edge.dest_node\n",
    "            #如果他的 edge 所要去的node 在 distance_dict 的話\n",
    "            if dest_node in distance_dict:\n",
    "                #算出這個目的 node 新的distance\n",
    "                #就是當下這個已經走過的distacne + 要經過的這個邊cost\n",
    "                new_node_distance = node_distance + edge.distance\n",
    "\n",
    "                #接下來, 如果走這個新edge到達 new_node 所花的cost 比 dict 小\n",
    "                #更新所有nodes 的 new_dist\n",
    "                if new_node_distance < distance_dict[dest_node]:\n",
    "                    distance_dict[dest_node] = new_node_distance\n",
    "                    \n",
    "        #上面這個for 結束後, node 的所有能走的邊, 所要到的所有new_node 都被更新距離了\n",
    "        #下一輪 while 一進來又會sort, 所以最小的又會排到前面, 再pop 出來一個新\n",
    "        #繼續重複把他的edge node 求新的 deistance\n",
    "        \n",
    "    print(shortest_path_to_node)\n",
    "    return shortest_path_to_node[-1][1]\n",
    "\n",
    "\n",
    "print('Shortest Distance from {} to {} is {}'.format(node_u.value, node_y.value, dijkstra(node_u, node_y)))\n",
    "\n",
    "# 沒辦法印出路徑嗎？ 上網找找"
   ]
  },
  {
   "cell_type": "code",
   "execution_count": 6,
   "metadata": {
    "graffitiCellId": "id_cjtybve"
   },
   "outputs": [
    {
     "name": "stdout",
     "output_type": "stream",
     "text": [
      "Shortest Distance from U to Y is 14\n"
     ]
    }
   ],
   "source": [
    "import math\n",
    "\n",
    "def dijkstra(start_node, end_node):\n",
    "    distance_dict = {node: math.inf for node in graph.nodes}\n",
    "    shortest_path_to_node = {}\n",
    "\n",
    "    distance_dict[start_node] = 0\n",
    "    while distance_dict:\n",
    "        # Pop the shorest path \n",
    "        current_node, node_distance = sorted(distance_dict.items(), key=lambda x: x[1])[0]\n",
    "        shortest_path_to_node[current_node] = distance_dict.pop(current_node)\n",
    "\n",
    "        for edge in current_node.edges:\n",
    "            if edge.dest_node in distance_dict:\n",
    "                new_node_distance = node_distance + edge.distance\n",
    "                if distance_dict[edge.dest_node] > new_node_distance:\n",
    "                    distance_dict[edge.dest_node] = new_node_distance\n",
    "    \n",
    "    return shortest_path_to_node[end_node]\n",
    "print('Shortest Distance from {} to {} is {}'.format(node_u.value, node_y.value, dijkstra(node_u, node_y)))"
   ]
  },
  {
   "cell_type": "markdown",
   "metadata": {
    "graffitiCellId": "id_6vmf0hp"
   },
   "source": [
    "<span class=\"graffiti-highlight graffiti-id_6vmf0hp-id_cjtybve\"><i></i><button>Show Solution</button></span>"
   ]
  }
 ],
 "metadata": {
  "graffiti": {
   "firstAuthorId": "dev",
   "id": "id_xw4if85",
   "language": "EN"
  },
  "kernelspec": {
   "display_name": "Python 3",
   "language": "python",
   "name": "python3"
  },
  "language_info": {
   "codemirror_mode": {
    "name": "ipython",
    "version": 3
   },
   "file_extension": ".py",
   "mimetype": "text/x-python",
   "name": "python",
   "nbconvert_exporter": "python",
   "pygments_lexer": "ipython3",
   "version": "3.7.1"
  }
 },
 "nbformat": 4,
 "nbformat_minor": 2
}
