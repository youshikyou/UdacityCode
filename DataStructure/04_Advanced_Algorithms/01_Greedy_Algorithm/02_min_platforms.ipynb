{
 "cells": [
  {
   "cell_type": "markdown",
   "metadata": {
    "graffitiCellId": "id_m2e34is"
   },
   "source": [
    "## Problem Statement\n",
    "\n",
    "Given arrival and departure times of trains on a single day in a railway platform, find out the minimum number of platforms required so that no train has to wait for the other(s) to leave. \n",
    "\n",
    "You will be given arrival and departure times in the form of a list.\n",
    "\n",
    "Note: Time `hh:mm` would be written as integer `hhmm` for e.g. `9:30` would be written as `930`. Similarly, `13:45` would be given as `1345`"
   ]
  },
  {
   "cell_type": "code",
   "execution_count": 43,
   "metadata": {
    "graffitiCellId": "id_wvs8xy1"
   },
   "outputs": [
    {
     "name": "stdout",
     "output_type": "stream",
     "text": [
      "arrival: 210\n",
      "cur departure info: {0: 230}\n",
      "    open new platfor\n",
      "arrival: 300\n",
      "cur departure info: {0: 230, 1: 340}\n",
      "    updated leaing info\n",
      "arrival: 320\n",
      "cur departure info: {0: 320, 1: 340}\n",
      "    updated leaing info\n",
      "arrival: 350\n",
      "cur departure info: {0: 430, 1: 340}\n",
      "    updated leaing info\n",
      "arrival: 500\n",
      "cur departure info: {0: 430, 1: 400}\n",
      "    updated leaing info\n"
     ]
    },
    {
     "data": {
      "text/plain": [
       "2"
      ]
     },
     "execution_count": 43,
     "metadata": {},
     "output_type": "execute_result"
    }
   ],
   "source": [
    "def min_platforms(arrival, departure):\n",
    "    \"\"\"\n",
    "    :param: arrival - list of arrival time\n",
    "    :param: departure - list of departure time\n",
    "    TODO - complete this method and return the minimum number of platforms (int) required\n",
    "    so that no train has to wait for other(s) to leave\n",
    "    \"\"\"\n",
    "    #題目要求列車都不能有等待, 表示我們要完全找到沒有時間交集的月台數量\n",
    "    #紀錄下月台 or 會議室 結束使用的時間, 當new train 進來時, 去看一下每個月台的結束時間\n",
    "    #如果都滿的, 只好增加一個月台\n",
    "    \n",
    "    \n",
    "    train_num = len(arrival)\n",
    "    if train_num == 0:\n",
    "        return 0\n",
    "    \n",
    "    \n",
    "    platform_dic = {}# <#platform, train departuring time>\n",
    "    \n",
    "    platcount = 0\n",
    "    platform_dic[platcount] = departure[platcount]\n",
    "    \n",
    "    #O(nm)\n",
    "    for idx in range(1,train_num):#n\n",
    "        print('arrival:',arrival[idx])\n",
    "        print('cur departure info:',platform_dic)\n",
    "\n",
    "        checked = 0\n",
    "        for idxdic in range(platcount+1):#m\n",
    "            #print(platform_dic)\n",
    "            checked +=1\n",
    "            if arrival[idx] >= platform_dic[idxdic]:\n",
    "                print('    updated leaing info')\n",
    "                platform_dic[idxdic] = departure[idx]\n",
    "                break\n",
    "            \n",
    "            if checked == len(platform_dic):\n",
    "                print('    open new platfor')\n",
    "                platcount +=1\n",
    "                platform_dic[platcount] = departure[idx]\n",
    "\n",
    "\n",
    "    return len(platform_dic)\n",
    "\n",
    "\n",
    "arrival = [900,  940, 950,  1100, 1500, 1800]\n",
    "departure = [910, 1200, 1120, 1130, 1900, 2000]\n",
    "#ans 3\n",
    "\n",
    "arrival = [200, 210, 300, 320, 350, 500]\n",
    "departure = [230, 340, 320, 430, 400, 520]\n",
    "#ans2\n",
    "min_platforms(arrival,departure)"
   ]
  },
  {
   "cell_type": "code",
   "execution_count": 9,
   "metadata": {
    "graffitiCellId": "id_6pa88ky"
   },
   "outputs": [
    {
     "data": {
      "text/plain": [
       "2"
      ]
     },
     "execution_count": 9,
     "metadata": {},
     "output_type": "execute_result"
    }
   ],
   "source": [
    "def min_platforms_my(arrival, departure):\n",
    "\n",
    "    if len(arrival) == 0 or len(arrival) == 1:\n",
    "        return len(arrival)\n",
    "    \n",
    "    #注意,如果input 是已經sort 過的\n",
    "    #記得可以利用sorted 的特性, 也就是如果index i你都比他小, 那 index i+1 你一定還是比他小\n",
    "    #這個特性\n",
    "    arrival.sort()\n",
    "    departure.sort()\n",
    "\n",
    "    \n",
    "    #當下需要多少platform, 他會在當中變動, 但記錄下max\n",
    "    cur_platform_need = 1#we will start caompare the alg below from index 1\n",
    "    rst_max = -1\n",
    "    \n",
    "    new_train_idx = 1\n",
    "    last_dep_idx  = 0#主要因為 arr, dep 都sorted 過, 要比較new arr 有沒有地方跑\n",
    "                     #只要跟最左邊的index 比他的depat time 就夠了\n",
    "    \n",
    "    \n",
    "    while new_train_idx < len(arrival) and last_dep_idx < len(arrival):\n",
    "        \n",
    "        if arrival[new_train_idx] < departure[last_dep_idx]:\n",
    "            #表示現在的platform 不夠用, 有人佔, 要再加一\n",
    "            #need new platform for currently time\n",
    "            cur_platform_need +=1\n",
    "            #tracking the max\n",
    "            if cur_platform_need > rst_max:\n",
    "                rst_max = cur_platform_need\n",
    "            \n",
    "            #prepare for next comparesion\n",
    "            new_train_idx +=1\n",
    "        else:\n",
    "            #表示之前該check 的 最後一班 已經departure, 可以少一個platform並解移動index\n",
    "            #當次的 new_train_idx 在這裡不會 ++, 下一輪近來, 他會跟更新過的 last_dep_idx 重新比較\n",
    "            #有可能 last_dep_idx 跟 new_train_idx 是同個index, 這時他會把 cur_platform_need +=1 回來\n",
    "            #因為自己一定是 arr < dep\n",
    "            \n",
    "            cur_platform_need -=1\n",
    "            last_dep_idx +=1\n",
    "    \n",
    "    \n",
    "    \n",
    "    \n",
    "    \n",
    "    return rst_max\n",
    "    \n",
    "arrival = [900,  940, 950,  1100, 1500, 1800]\n",
    "departure = [910, 1200, 1120, 1130, 1900, 2000]\n",
    "#ans 3\n",
    "\n",
    "arrival = [200, 210, 300, 320, 350, 500]\n",
    "departure = [230, 340, 320, 430, 400, 520]\n",
    "#ans2\n",
    "min_platforms_my(arrival,departure)"
   ]
  },
  {
   "cell_type": "code",
   "execution_count": 1,
   "metadata": {
    "graffitiCellId": "id_mgzo0p4"
   },
   "outputs": [
    {
     "name": "stdout",
     "output_type": "stream",
     "text": [
      "arrival: [900, 940, 950, 1100, 1500, 1800]\n",
      "departure: [910, 1120, 1130, 1200, 1900, 2000]\n",
      "i: 1 arrival[i]: 940\n",
      "j: 0 departure[j]: 910\n",
      "    j+=1: 1     platform_count-=1: 0\n",
      "i: 1 arrival[i]: 940\n",
      "j: 1 departure[j]: 1120\n",
      "     940  <  1120\n",
      "    platform_count+=1: 1 , i+=1: 2\n",
      "i: 2 arrival[i]: 950\n",
      "j: 1 departure[j]: 1120\n",
      "     950  <  1120\n",
      "    platform_count+=1: 2 , i+=1: 3\n",
      "i: 3 arrival[i]: 1100\n",
      "j: 1 departure[j]: 1120\n",
      "     1100  <  1120\n",
      "    platform_count+=1: 3 , i+=1: 4\n",
      "i: 4 arrival[i]: 1500\n",
      "j: 1 departure[j]: 1120\n",
      "    j+=1: 2     platform_count-=1: 2\n",
      "i: 4 arrival[i]: 1500\n",
      "j: 2 departure[j]: 1130\n",
      "    j+=1: 3     platform_count-=1: 1\n",
      "i: 4 arrival[i]: 1500\n",
      "j: 3 departure[j]: 1200\n",
      "    j+=1: 4     platform_count-=1: 0\n",
      "i: 4 arrival[i]: 1500\n",
      "j: 4 departure[j]: 1900\n",
      "     1500  <  1900\n",
      "    platform_count+=1: 1 , i+=1: 5\n",
      "i: 5 arrival[i]: 1800\n",
      "j: 4 departure[j]: 1900\n",
      "     1800  <  1900\n",
      "    platform_count+=1: 2 , i+=1: 6\n"
     ]
    },
    {
     "data": {
      "text/plain": [
       "3"
      ]
     },
     "execution_count": 1,
     "metadata": {},
     "output_type": "execute_result"
    }
   ],
   "source": [
    "def min_platforms(arrival, departure):\n",
    "    arrival.sort()\n",
    "    departure.sort()\n",
    "\n",
    "    \n",
    "    print('arrival:',arrival)\n",
    "    print('departure:',departure)\n",
    "\n",
    "    platform_count = 1\n",
    "    output = 1\n",
    "    i = 1#newest train\n",
    "    j = 0#latest train\n",
    "    #O(n)\n",
    "    while i < len(arrival) and j < len(arrival):\n",
    "\n",
    "        print('i:',i,'arrival[i]:',arrival[i])\n",
    "        print('j:',j,'departure[j]:',departure[j])\n",
    "\n",
    "        #newest train arrival time < latest depaturing time\n",
    "        #need new platform\n",
    "        if arrival[i] < departure[j]:\n",
    "            print('    ',arrival[i],' < ',departure[j])\n",
    "            platform_count += 1\n",
    "            #moving i to see the new incoming train\n",
    "            i += 1\n",
    "            print('    platform_count+=1:',platform_count, ', i+=1:',i)\n",
    "\n",
    "\n",
    "            #recording the max num\n",
    "            if platform_count > output:\n",
    "                output = platform_count\n",
    "        else:\n",
    "            platform_count -= 1\n",
    "            #update to the laest departure time\n",
    "            j += 1\n",
    "            print('    j+=1:',j,'    platform_count-=1:',platform_count)\n",
    "\n",
    "    return output\n",
    "\n",
    "\n",
    "arrival = [900,  940, 950,  1100, 1500, 1800]\n",
    "departure = [910, 1200, 1120, 1130, 1900, 2000]\n",
    "#ans 3\n",
    "\n",
    "#arrival = [200, 210, 300, 320, 350, 500]\n",
    "#departure = [230, 340, 320, 430, 400, 520]\n",
    "#ans2\n",
    "min_platforms(arrival,departure)"
   ]
  },
  {
   "cell_type": "markdown",
   "metadata": {
    "graffitiCellId": "id_khuho24"
   },
   "source": [
    "<span class=\"graffiti-highlight graffiti-id_khuho24-id_mgzo0p4\"><i></i><button>Show Solution</button></span>"
   ]
  },
  {
   "cell_type": "code",
   "execution_count": 44,
   "metadata": {
    "graffitiCellId": "id_z8cclxx"
   },
   "outputs": [],
   "source": [
    "def test_function(test_case):\n",
    "    arrival = test_case[0]\n",
    "    departure = test_case[1]\n",
    "    solution = test_case[2]\n",
    "    \n",
    "    output = min_platforms(arrival, departure)\n",
    "    if output == solution:\n",
    "        print(\"Pass\")\n",
    "    else:\n",
    "        print(\"Fail\")"
   ]
  },
  {
   "cell_type": "code",
   "execution_count": 45,
   "metadata": {
    "graffitiCellId": "id_3y01n63"
   },
   "outputs": [
    {
     "name": "stdout",
     "output_type": "stream",
     "text": [
      "arrival: 940\n",
      "cur departure info: {0: 910}\n",
      "    updated leaing info\n",
      "arrival: 950\n",
      "cur departure info: {0: 1200}\n",
      "    open new platfor\n",
      "arrival: 1100\n",
      "cur departure info: {0: 1200, 1: 1120}\n",
      "    open new platfor\n",
      "arrival: 1500\n",
      "cur departure info: {0: 1200, 1: 1120, 2: 1130}\n",
      "    updated leaing info\n",
      "arrival: 1800\n",
      "cur departure info: {0: 1900, 1: 1120, 2: 1130}\n",
      "    updated leaing info\n",
      "Pass\n"
     ]
    }
   ],
   "source": [
    "arrival = [900,  940, 950,  1100, 1500, 1800]\n",
    "departure = [910, 1200, 1120, 1130, 1900, 2000]\n",
    "test_case = [arrival, departure, 3]\n",
    "\n",
    "test_function(test_case)"
   ]
  },
  {
   "cell_type": "code",
   "execution_count": 46,
   "metadata": {
    "graffitiCellId": "id_sdzncbd"
   },
   "outputs": [
    {
     "name": "stdout",
     "output_type": "stream",
     "text": [
      "arrival: 210\n",
      "cur departure info: {0: 230}\n",
      "    open new platfor\n",
      "arrival: 300\n",
      "cur departure info: {0: 230, 1: 340}\n",
      "    updated leaing info\n",
      "arrival: 320\n",
      "cur departure info: {0: 320, 1: 340}\n",
      "    updated leaing info\n",
      "arrival: 350\n",
      "cur departure info: {0: 430, 1: 340}\n",
      "    updated leaing info\n",
      "arrival: 500\n",
      "cur departure info: {0: 430, 1: 400}\n",
      "    updated leaing info\n",
      "Pass\n"
     ]
    }
   ],
   "source": [
    "arrival = [200, 210, 300, 320, 350, 500]\n",
    "departure = [230, 340, 320, 430, 400, 520]\n",
    "test_case = [arrival, departure, 2]\n",
    "test_function(test_case)"
   ]
  },
  {
   "cell_type": "code",
   "execution_count": null,
   "metadata": {
    "graffitiCellId": "id_ckf6s4c"
   },
   "outputs": [],
   "source": []
  }
 ],
 "metadata": {
  "graffiti": {
   "firstAuthorId": "dev",
   "id": "id_zzreyx5",
   "language": "EN"
  },
  "kernelspec": {
   "display_name": "Python 3",
   "language": "python",
   "name": "python3"
  },
  "language_info": {
   "codemirror_mode": {
    "name": "ipython",
    "version": 3
   },
   "file_extension": ".py",
   "mimetype": "text/x-python",
   "name": "python",
   "nbconvert_exporter": "python",
   "pygments_lexer": "ipython3",
   "version": "3.7.1"
  }
 },
 "nbformat": 4,
 "nbformat_minor": 2
}
